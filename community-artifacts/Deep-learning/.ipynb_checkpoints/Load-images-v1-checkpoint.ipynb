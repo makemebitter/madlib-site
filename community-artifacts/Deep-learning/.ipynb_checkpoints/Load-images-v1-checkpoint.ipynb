{
 "cells": [
  {
   "cell_type": "markdown",
   "metadata": {},
   "source": [
    "# Load images into table\n",
    "\n",
    "This demonstrates different ways to load images into a database table.\n",
    "\n",
    "We use the script called <em>madlib_image_loader.py</em> located at https://github.com/apache/madlib-site/tree/asf-site/community-artifacts/Deep-learning which uses the Python Imaging Library so supports multiple formats http://www.pythonware.com/products/pil/\n",
    "\n",
    "## Table of contents\n",
    "\n",
    "<a href=\"#setup\">1. Setup image loader</a>\n",
    "\n",
    "<a href=\"#fetch_numpy\">2. Fetch images then load NumPy array into table</a>\n",
    "\n",
    "<a href=\"#file_system\">3. Load from file system into table</a>"
   ]
  },
  {
   "cell_type": "code",
   "execution_count": 28,
   "metadata": {
    "ExecuteTime": {
     "end_time": "2020-04-14T19:54:09.573291Z",
     "start_time": "2020-04-14T19:54:09.569433Z"
    }
   },
   "outputs": [],
   "source": [
    "import sys\n",
    "import h5py\n",
    "import numpy as np"
   ]
  },
  {
   "cell_type": "code",
   "execution_count": 18,
   "metadata": {
    "ExecuteTime": {
     "end_time": "2020-04-14T19:52:17.134100Z",
     "start_time": "2020-04-14T19:52:17.130616Z"
    }
   },
   "outputs": [],
   "source": [
    "file_path = '/mnt/imagenet/train/train_0.h5'"
   ]
  },
  {
   "cell_type": "code",
   "execution_count": 2,
   "metadata": {
    "ExecuteTime": {
     "end_time": "2020-04-14T18:28:50.922577Z",
     "start_time": "2020-04-14T18:28:50.918882Z"
    }
   },
   "outputs": [],
   "source": [
    "sys.path.append('/home/gpadmin/.local/lib/python3.5/site-packages/')"
   ]
  },
  {
   "cell_type": "code",
   "execution_count": 3,
   "metadata": {
    "ExecuteTime": {
     "end_time": "2020-04-14T18:28:51.023818Z",
     "start_time": "2020-04-14T18:28:50.925804Z"
    }
   },
   "outputs": [],
   "source": [
    "%load_ext sql"
   ]
  },
  {
   "cell_type": "code",
   "execution_count": 4,
   "metadata": {
    "ExecuteTime": {
     "end_time": "2020-04-14T18:28:51.121557Z",
     "start_time": "2020-04-14T18:28:51.025685Z"
    }
   },
   "outputs": [
    {
     "data": {
      "text/plain": [
       "'Connected: gpadmin@cerebro'"
      ]
     },
     "execution_count": 4,
     "metadata": {},
     "output_type": "execute_result"
    }
   ],
   "source": [
    "# Greenplum Database 5.x on GCP for deep learning (PM demo machine)\n",
    "#%sql postgresql://gpadmin@35.239.240.26:5432/madlib\n",
    "        \n",
    "# PostgreSQL local\n",
    "%sql postgresql://gpadmin@localhost:5432/cerebro"
   ]
  },
  {
   "cell_type": "code",
   "execution_count": 5,
   "metadata": {
    "ExecuteTime": {
     "end_time": "2020-04-14T18:28:51.139779Z",
     "start_time": "2020-04-14T18:28:51.123740Z"
    }
   },
   "outputs": [
    {
     "name": "stdout",
     "output_type": "stream",
     "text": [
      " * postgresql://gpadmin@localhost:5432/cerebro\n",
      "1 rows affected.\n"
     ]
    },
    {
     "data": {
      "text/html": [
       "<table>\n",
       "    <tr>\n",
       "        <th>version</th>\n",
       "    </tr>\n",
       "    <tr>\n",
       "        <td>MADlib version: 1.17.0, git revision: rel/v1.17.0, cmake configuration time: Tue Apr 14 17:30:36 UTC 2020, build type: RelWithDebInfo, build system: Linux-4.4.0-174-generic, C compiler: gcc 5.4.0, C++ compiler: g++ 5.4.0</td>\n",
       "    </tr>\n",
       "</table>"
      ],
      "text/plain": [
       "[('MADlib version: 1.17.0, git revision: rel/v1.17.0, cmake configuration time: Tue Apr 14 17:30:36 UTC 2020, build type: RelWithDebInfo, build system: Linux-4.4.0-174-generic, C compiler: gcc 5.4.0, C++ compiler: g++ 5.4.0',)]"
      ]
     },
     "execution_count": 5,
     "metadata": {},
     "output_type": "execute_result"
    }
   ],
   "source": [
    "%sql select madlib.version();\n",
    "#%sql select version();"
   ]
  },
  {
   "cell_type": "markdown",
   "metadata": {},
   "source": [
    "<a id=\"setup\"></a>\n",
    "# 1. Set up image loader\n",
    "\n",
    "We use the script called <em>madlib_image_loader.py</em> located at https://github.com/apache/madlib-site/tree/asf-site/community-artifacts/Deep-learning"
   ]
  },
  {
   "cell_type": "code",
   "execution_count": 53,
   "metadata": {
    "ExecuteTime": {
     "end_time": "2020-04-14T20:03:38.791315Z",
     "start_time": "2020-04-14T20:03:38.778225Z"
    }
   },
   "outputs": [],
   "source": [
    "import sys\n",
    "import os\n",
    "from keras.datasets import cifar10\n",
    "\n",
    "madlib_site_dir = '/Users/fmcquillan/Documents/Product/MADlib/Demos/data'\n",
    "sys.path.append(madlib_site_dir)\n",
    "\n",
    "# Import image loader module\n",
    "from madlib_image_loader import ImageLoader, DbCredentials\n",
    "\n",
    "# Specify database credentials, for connecting to db\n",
    "#db_creds = DbCredentials(user='gpadmin',\n",
    "#                         host='35.239.240.26',\n",
    "#                         port='5432',\n",
    "#                         password='')\n",
    "\n",
    "# Specify database credentials, for connecting to db\n",
    "db_creds = DbCredentials(db_name='cerebro',\n",
    "    user='gpadmin',\n",
    "                          host='localhost',\n",
    "                          port='5432',\n",
    "                          password='')\n",
    "\n",
    "# Initialize ImageLoader (increase num_workers to run faster)\n",
    "iloader = ImageLoader(num_workers=8, db_creds=db_creds)"
   ]
  },
  {
   "cell_type": "markdown",
   "metadata": {},
   "source": [
    "<a id=\"fetch_numpy\"></a>\n",
    "# 2. Fetch images then load NumPy array into table\n",
    "\n",
    "<em>iloader.load_dataset_from_np(data_x, data_y, table_name, append=False)</em>\n",
    "\n",
    "- <em>data_x</em> contains image data in np.array format\n",
    "\n",
    "\n",
    "- <em>data_y</em> is a 1D np.array of the image categories (labels).\n",
    "\n",
    "\n",
    "- If the user passes a <em>table_name</em> while creating ImageLoader object, it will be used for all further calls to load_dataset_from_np.  It can be changed by passing it as a parameter during the actual call to load_dataset_from_np, and if so future calls will load to that table name instead.  This avoids needing to pass the table_name again every time, but also allows it to be changed at any time."
   ]
  },
  {
   "cell_type": "code",
   "execution_count": 7,
   "metadata": {
    "ExecuteTime": {
     "end_time": "2020-04-14T18:28:52.983614Z",
     "start_time": "2020-04-14T18:28:52.639410Z"
    }
   },
   "outputs": [],
   "source": [
    "# Load dataset into np array\n",
    "(x_train, y_train), (x_test, y_test) = cifar10.load_data()"
   ]
  },
  {
   "cell_type": "code",
   "execution_count": 19,
   "metadata": {
    "ExecuteTime": {
     "end_time": "2020-04-14T19:52:21.661412Z",
     "start_time": "2020-04-14T19:52:21.656719Z"
    }
   },
   "outputs": [],
   "source": [
    "h5f = h5py.File(file_path, 'r')"
   ]
  },
  {
   "cell_type": "code",
   "execution_count": 21,
   "metadata": {
    "ExecuteTime": {
     "end_time": "2020-04-14T19:52:45.220299Z",
     "start_time": "2020-04-14T19:52:45.215979Z"
    }
   },
   "outputs": [],
   "source": [
    "np_images = h5f.get(\"images\")"
   ]
  },
  {
   "cell_type": "code",
   "execution_count": 49,
   "metadata": {
    "ExecuteTime": {
     "end_time": "2020-04-14T19:59:53.670865Z",
     "start_time": "2020-04-14T19:59:53.278382Z"
    }
   },
   "outputs": [],
   "source": [
    "np_labels = np.eye(1000)[np.asarray(h5f.get(\"labels\")).astype(int)]"
   ]
  },
  {
   "cell_type": "code",
   "execution_count": 54,
   "metadata": {
    "ExecuteTime": {
     "end_time": "2020-04-14T20:06:16.911545Z",
     "start_time": "2020-04-14T20:03:46.111773Z"
    }
   },
   "outputs": [
    {
     "name": "stdout",
     "output_type": "stream",
     "text": [
      " * postgresql://gpadmin@localhost:5432/cerebro\n",
      "Done.\n",
      "MainProcess: Connected to cerebro db.\n",
      "Executing: CREATE TABLE imagenet_train_data (id SERIAL, x REAL[], y TEXT)\n",
      "CREATE TABLE\n",
      "Created table imagenet_train_data in cerebro db\n",
      "Spawning 32 workers...\n",
      "Initializing ForkPoolWorker-16 [pid 122343]\n",
      "ForkPoolWorker-16: Created temporary directory /tmp/madlib_mwKrjG7bfL\n",
      "ForkPoolWorker-16: Connected to cerebro db.\n",
      "Initializing ForkPoolWorker-17 [pid 122346]\n",
      "ForkPoolWorker-17: Created temporary directory /tmp/madlib_CF5qY22jWY\n",
      "Initializing ForkPoolWorker-18 [pid 122355]\n",
      "ForkPoolWorker-17: Connected to cerebro db.\n",
      "ForkPoolWorker-18: Created temporary directory /tmp/madlib_jsDA1XYVfA\n",
      "Initializing ForkPoolWorker-19 [pid 122364]\n",
      "ForkPoolWorker-19: Created temporary directory /tmp/madlib_1kLOKnihLH\n",
      "ForkPoolWorker-18: Connected to cerebro db.\n",
      "Initializing ForkPoolWorker-20 [pid 122375]\n",
      "ForkPoolWorker-19: Connected to cerebro db.\n",
      "Initializing ForkPoolWorker-21 [pid 122382]\n",
      "ForkPoolWorker-20: Created temporary directory /tmp/madlib_6wcH5aH0oa\n",
      "ForkPoolWorker-21: Created temporary directory /tmp/madlib_r5aklkqS0m\n",
      "ForkPoolWorker-20: Connected to cerebro db.\n",
      "Initializing ForkPoolWorker-22 [pid 122393]\n",
      "ForkPoolWorker-21: Connected to cerebro db.\n",
      "Initializing ForkPoolWorker-23 [pid 122400]\n",
      "ForkPoolWorker-22: Created temporary directory /tmp/madlib_2KDp0J589U\n",
      "ForkPoolWorker-23: Created temporary directory /tmp/madlib_TDEFFGyEmM\n",
      "ForkPoolWorker-22: Connected to cerebro db.\n",
      "Initializing ForkPoolWorker-24 [pid 122411]\n",
      "ForkPoolWorker-24: Created temporary directory /tmp/madlib_108R9ubpsd\n",
      "ForkPoolWorker-23: Connected to cerebro db.\n",
      "Initializing ForkPoolWorker-25 [pid 122420]\n",
      "ForkPoolWorker-25: Created temporary directory /tmp/madlib_wIyStUoOLG\n",
      "ForkPoolWorker-24: Connected to cerebro db.\n",
      "Initializing ForkPoolWorker-26 [pid 122429]\n",
      "ForkPoolWorker-26: Created temporary directory /tmp/madlib_LS6hMNyUkJ\n",
      "ForkPoolWorker-25: Connected to cerebro db.\n",
      "Initializing ForkPoolWorker-27 [pid 122438]\n",
      "ForkPoolWorker-27: Created temporary directory /tmp/madlib_DTTXr5t9wb\n",
      "ForkPoolWorker-26: Connected to cerebro db.\n",
      "Initializing ForkPoolWorker-28 [pid 122447]\n",
      "ForkPoolWorker-27: Connected to cerebro db.\n",
      "ForkPoolWorker-28: Created temporary directory /tmp/madlib_Xpf8nXlOSX\n",
      "Initializing ForkPoolWorker-29 [pid 122454]\n",
      "ForkPoolWorker-28: Connected to cerebro db.\n",
      "ForkPoolWorker-29: Created temporary directory /tmp/madlib_yHki3u9FqZ\n",
      "Initializing ForkPoolWorker-30 [pid 122463]\n",
      "ForkPoolWorker-29: Connected to cerebro db.\n",
      "ForkPoolWorker-30: Created temporary directory /tmp/madlib_6WD3N7clsw\n",
      "Initializing ForkPoolWorker-31 [pid 122472]\n",
      "ForkPoolWorker-30: Connected to cerebro db.\n",
      "ForkPoolWorker-31: Created temporary directory /tmp/madlib_gdh9B8qfza\n",
      "Initializing ForkPoolWorker-32 [pid 122481]\n",
      "ForkPoolWorker-31: Connected to cerebro db.\n",
      "ForkPoolWorker-32: Created temporary directory /tmp/madlib_YAaBVQKSa3\n",
      "Initializing ForkPoolWorker-33 [pid 122490]\n",
      "ForkPoolWorker-33: Created temporary directory /tmp/madlib_e8yocrZUkS\n",
      "ForkPoolWorker-32: Connected to cerebro db.\n",
      "Initializing ForkPoolWorker-34 [pid 122501]\n",
      "ForkPoolWorker-33: Connected to cerebro db.\n",
      "ForkPoolWorker-34: Created temporary directory /tmp/madlib_CD2Kyx60Nc\n",
      "Initializing ForkPoolWorker-35 [pid 122508]\n",
      "ForkPoolWorker-34: Connected to cerebro db.\n",
      "ForkPoolWorker-35: Created temporary directory /tmp/madlib_nFgkheWUR8\n",
      "Initializing ForkPoolWorker-36 [pid 122517]\n",
      "ForkPoolWorker-35: Connected to cerebro db.\n",
      "ForkPoolWorker-36: Created temporary directory /tmp/madlib_efydLBaKLY\n",
      "Initializing ForkPoolWorker-37 [pid 122528]\n",
      "ForkPoolWorker-36: Connected to cerebro db.\n",
      "ForkPoolWorker-37: Created temporary directory /tmp/madlib_QZ7TeTFRCy\n",
      "Initializing ForkPoolWorker-38 [pid 122537]\n",
      "ForkPoolWorker-37: Connected to cerebro db.\n",
      "ForkPoolWorker-38: Created temporary directory /tmp/madlib_OoNOsibmnS\n",
      "Initializing ForkPoolWorker-39 [pid 122544]\n",
      "ForkPoolWorker-38: Connected to cerebro db.\n",
      "ForkPoolWorker-39: Created temporary directory /tmp/madlib_UbtuxjdKDp\n",
      "Initializing ForkPoolWorker-40 [pid 122553]\n",
      "ForkPoolWorker-39: Connected to cerebro db.\n",
      "ForkPoolWorker-40: Created temporary directory /tmp/madlib_YQ6Lu0gZHd\n",
      "Initializing ForkPoolWorker-41 [pid 122562]\n",
      "ForkPoolWorker-40: Connected to cerebro db.\n",
      "ForkPoolWorker-41: Created temporary directory /tmp/madlib_Cx8vHNEL5s\n",
      "Initializing ForkPoolWorker-42 [pid 122571]\n",
      "ForkPoolWorker-41: Connected to cerebro db.\n",
      "ForkPoolWorker-42: Created temporary directory /tmp/madlib_QxISqYQGjD\n",
      "Initializing ForkPoolWorker-43 [pid 122580]\n",
      "ForkPoolWorker-42: Connected to cerebro db.\n",
      "ForkPoolWorker-43: Created temporary directory /tmp/madlib_2Da7Xqgdg3\n",
      "Initializing ForkPoolWorker-44 [pid 122589]\n",
      "ForkPoolWorker-43: Connected to cerebro db.\n",
      "ForkPoolWorker-44: Created temporary directory /tmp/madlib_eZ7IfACp12\n",
      "Initializing ForkPoolWorker-45 [pid 122598]\n",
      "ForkPoolWorker-44: Connected to cerebro db.\n",
      "ForkPoolWorker-45: Created temporary directory /tmp/madlib_CtEXuLzwke\n",
      "Initializing ForkPoolWorker-46 [pid 122607]\n",
      "ForkPoolWorker-45: Connected to cerebro db.\n",
      "ForkPoolWorker-46: Created temporary directory /tmp/madlib_0gXaQxEncb\n",
      "Initializing ForkPoolWorker-47 [pid 122616]\n",
      "ForkPoolWorker-47: Created temporary directory /tmp/madlib_NAKUuLXrXJ\n",
      "ForkPoolWorker-46: Connected to cerebro db.\n",
      "ForkPoolWorker-47: Connected to cerebro db.\n",
      "ForkPoolWorker-29: Removed temporary directory /tmp/madlib_yHki3u9FqZ\n",
      "\n",
      "Error in ForkPoolWorker-29 while loading images\n",
      "Traceback (most recent call last):\n",
      "  File \"/local/madlib-site/community-artifacts/Deep-learning/madlib_image_loader.py\", line 175, in _call_np_worker\n",
      "    iloader._write_tmp_file_and_load(data)\n",
      "  File \"/local/madlib-site/community-artifacts/Deep-learning/madlib_image_loader.py\", line 377, in _write_tmp_file_and_load\n",
      "    self._write_file(f, data)\n",
      "  File \"/local/madlib-site/community-artifacts/Deep-learning/madlib_image_loader.py\", line 335, in _write_file\n",
      "    file_object.writelines(lines)\n",
      "OSError: [Errno 28] No space left on device\n",
      "\n",
      "ForkPoolWorker-30: Removed temporary directory /tmp/madlib_6WD3N7clsw\n",
      "\n",
      "Error in ForkPoolWorker-30 while loading images\n",
      "Traceback (most recent call last):\n",
      "  File \"/local/madlib-site/community-artifacts/Deep-learning/madlib_image_loader.py\", line 175, in _call_np_worker\n",
      "    iloader._write_tmp_file_and_load(data)\n",
      "  File \"/local/madlib-site/community-artifacts/Deep-learning/madlib_image_loader.py\", line 377, in _write_tmp_file_and_load\n",
      "    self._write_file(f, data)\n",
      "  File \"/local/madlib-site/community-artifacts/Deep-learning/madlib_image_loader.py\", line 335, in _write_file\n",
      "    file_object.writelines(lines)\n",
      "OSError: [Errno 28] No space left on device\n",
      "\n",
      "ForkPoolWorker-28: Removed temporary directory /tmp/madlib_Xpf8nXlOSX\n",
      "\n",
      "Error in ForkPoolWorker-28 while loading images\n",
      "Traceback (most recent call last):\n",
      "  File \"/local/madlib-site/community-artifacts/Deep-learning/madlib_image_loader.py\", line 175, in _call_np_worker\n",
      "    iloader._write_tmp_file_and_load(data)\n",
      "  File \"/local/madlib-site/community-artifacts/Deep-learning/madlib_image_loader.py\", line 377, in _write_tmp_file_and_load\n",
      "    self._write_file(f, data)\n",
      "  File \"/local/madlib-site/community-artifacts/Deep-learning/madlib_image_loader.py\", line 335, in _write_file\n",
      "    file_object.writelines(lines)\n",
      "OSError: [Errno 28] No space left on device\n",
      "\n",
      "ForkPoolWorker-35: Removed temporary directory /tmp/madlib_nFgkheWUR8\n",
      "\n",
      "Error in ForkPoolWorker-35 while loading images\n",
      "Traceback (most recent call last):\n",
      "  File \"/local/madlib-site/community-artifacts/Deep-learning/madlib_image_loader.py\", line 175, in _call_np_worker\n",
      "    iloader._write_tmp_file_and_load(data)\n",
      "  File \"/local/madlib-site/community-artifacts/Deep-learning/madlib_image_loader.py\", line 377, in _write_tmp_file_and_load\n",
      "    self._write_file(f, data)\n",
      "  File \"/local/madlib-site/community-artifacts/Deep-learning/madlib_image_loader.py\", line 335, in _write_file\n",
      "    file_object.writelines(lines)\n",
      "OSError: [Errno 28] No space left on device\n",
      "\n",
      "ForkPoolWorker-27: Removed temporary directory /tmp/madlib_DTTXr5t9wb\n",
      "\n",
      "Error in ForkPoolWorker-27 while loading images\n",
      "Traceback (most recent call last):\n",
      "  File \"/local/madlib-site/community-artifacts/Deep-learning/madlib_image_loader.py\", line 175, in _call_np_worker\n",
      "    iloader._write_tmp_file_and_load(data)\n",
      "  File \"/local/madlib-site/community-artifacts/Deep-learning/madlib_image_loader.py\", line 377, in _write_tmp_file_and_load\n",
      "    self._write_file(f, data)\n",
      "  File \"/local/madlib-site/community-artifacts/Deep-learning/madlib_image_loader.py\", line 335, in _write_file\n",
      "    file_object.writelines(lines)\n",
      "OSError: [Errno 28] No space left on device\n"
     ]
    },
    {
     "name": "stdout",
     "output_type": "stream",
     "text": [
      "\n",
      "ForkPoolWorker-36: Removed temporary directory /tmp/madlib_efydLBaKLY\n",
      "\n",
      "Error in ForkPoolWorker-36 while loading images\n",
      "Traceback (most recent call last):\n",
      "  File \"/local/madlib-site/community-artifacts/Deep-learning/madlib_image_loader.py\", line 175, in _call_np_worker\n",
      "    iloader._write_tmp_file_and_load(data)\n",
      "  File \"/local/madlib-site/community-artifacts/Deep-learning/madlib_image_loader.py\", line 377, in _write_tmp_file_and_load\n",
      "    self._write_file(f, data)\n",
      "  File \"/local/madlib-site/community-artifacts/Deep-learning/madlib_image_loader.py\", line 335, in _write_file\n",
      "    file_object.writelines(lines)\n",
      "OSError: [Errno 28] No space left on device\n",
      "\n",
      "ForkPoolWorker-21: Removed temporary directory /tmp/madlib_r5aklkqS0m\n",
      "\n",
      "Error in ForkPoolWorker-21 while loading images\n",
      "Traceback (most recent call last):\n",
      "  File \"/local/madlib-site/community-artifacts/Deep-learning/madlib_image_loader.py\", line 175, in _call_np_worker\n",
      "    iloader._write_tmp_file_and_load(data)\n",
      "  File \"/local/madlib-site/community-artifacts/Deep-learning/madlib_image_loader.py\", line 377, in _write_tmp_file_and_load\n",
      "    self._write_file(f, data)\n",
      "  File \"/local/madlib-site/community-artifacts/Deep-learning/madlib_image_loader.py\", line 335, in _write_file\n",
      "    file_object.writelines(lines)\n",
      "OSError: [Errno 28] No space left on device\n",
      "\n",
      "ForkPoolWorker-20: Removed temporary directory /tmp/madlib_6wcH5aH0oa\n",
      "\n",
      "Error in ForkPoolWorker-20 while loading images\n",
      "Traceback (most recent call last):\n",
      "  File \"/local/madlib-site/community-artifacts/Deep-learning/madlib_image_loader.py\", line 175, in _call_np_worker\n",
      "    iloader._write_tmp_file_and_load(data)\n",
      "  File \"/local/madlib-site/community-artifacts/Deep-learning/madlib_image_loader.py\", line 377, in _write_tmp_file_and_load\n",
      "    self._write_file(f, data)\n",
      "  File \"/local/madlib-site/community-artifacts/Deep-learning/madlib_image_loader.py\", line 335, in _write_file\n",
      "    file_object.writelines(lines)\n",
      "OSError: [Errno 28] No space left on device\n",
      "\n",
      "ForkPoolWorker-19: Removed temporary directory /tmp/madlib_1kLOKnihLH\n",
      "\n",
      "Error in ForkPoolWorker-19 while loading images\n",
      "Traceback (most recent call last):\n",
      "  File \"/local/madlib-site/community-artifacts/Deep-learning/madlib_image_loader.py\", line 175, in _call_np_worker\n",
      "    iloader._write_tmp_file_and_load(data)\n",
      "  File \"/local/madlib-site/community-artifacts/Deep-learning/madlib_image_loader.py\", line 377, in _write_tmp_file_and_load\n",
      "    self._write_file(f, data)\n",
      "  File \"/local/madlib-site/community-artifacts/Deep-learning/madlib_image_loader.py\", line 335, in _write_file\n",
      "    file_object.writelines(lines)\n",
      "OSError: [Errno 28] No space left on device\n",
      "\n",
      "ForkPoolWorker-18: Removed temporary directory /tmp/madlib_jsDA1XYVfA\n",
      "\n",
      "Error in ForkPoolWorker-18 while loading images\n",
      "Traceback (most recent call last):\n",
      "  File \"/local/madlib-site/community-artifacts/Deep-learning/madlib_image_loader.py\", line 175, in _call_np_worker\n",
      "    iloader._write_tmp_file_and_load(data)\n",
      "  File \"/local/madlib-site/community-artifacts/Deep-learning/madlib_image_loader.py\", line 377, in _write_tmp_file_and_load\n",
      "    self._write_file(f, data)\n",
      "  File \"/local/madlib-site/community-artifacts/Deep-learning/madlib_image_loader.py\", line 335, in _write_file\n",
      "    file_object.writelines(lines)\n",
      "OSError: [Errno 28] No space left on device\n",
      "\n",
      "ForkPoolWorker-16: Removed temporary directory /tmp/madlib_mwKrjG7bfL\n",
      "\n",
      "Error in ForkPoolWorker-16 while loading images\n",
      "Traceback (most recent call last):\n",
      "  File \"/local/madlib-site/community-artifacts/Deep-learning/madlib_image_loader.py\", line 175, in _call_np_worker\n",
      "    iloader._write_tmp_file_and_load(data)\n",
      "  File \"/local/madlib-site/community-artifacts/Deep-learning/madlib_image_loader.py\", line 377, in _write_tmp_file_and_load\n",
      "    self._write_file(f, data)\n",
      "  File \"/local/madlib-site/community-artifacts/Deep-learning/madlib_image_loader.py\", line 335, in _write_file\n",
      "    file_object.writelines(lines)\n",
      "OSError: [Errno 28] No space left on device\n",
      "\n",
      "ForkPoolWorker-17: Removed temporary directory /tmp/madlib_CF5qY22jWY\n",
      "\n",
      "Error in ForkPoolWorker-17 while loading images\n",
      "Traceback (most recent call last):\n",
      "  File \"/local/madlib-site/community-artifacts/Deep-learning/madlib_image_loader.py\", line 175, in _call_np_worker\n",
      "    iloader._write_tmp_file_and_load(data)\n",
      "  File \"/local/madlib-site/community-artifacts/Deep-learning/madlib_image_loader.py\", line 377, in _write_tmp_file_and_load\n",
      "    self._write_file(f, data)\n",
      "  File \"/local/madlib-site/community-artifacts/Deep-learning/madlib_image_loader.py\", line 335, in _write_file\n",
      "    file_object.writelines(lines)\n",
      "OSError: [Errno 28] No space left on device\n",
      "\n",
      "ForkPoolWorker-22: Removed temporary directory /tmp/madlib_2KDp0J589U\n",
      "\n",
      "Error in ForkPoolWorker-22 while loading images\n",
      "Traceback (most recent call last):\n",
      "  File \"/local/madlib-site/community-artifacts/Deep-learning/madlib_image_loader.py\", line 175, in _call_np_worker\n",
      "    iloader._write_tmp_file_and_load(data)\n",
      "  File \"/local/madlib-site/community-artifacts/Deep-learning/madlib_image_loader.py\", line 377, in _write_tmp_file_and_load\n",
      "    self._write_file(f, data)\n",
      "  File \"/local/madlib-site/community-artifacts/Deep-learning/madlib_image_loader.py\", line 335, in _write_file\n",
      "    file_object.writelines(lines)\n",
      "OSError: [Errno 28] No space left on device\n",
      "\n",
      "ForkPoolWorker-23: Removed temporary directory /tmp/madlib_TDEFFGyEmM\n",
      "\n",
      "Error in ForkPoolWorker-23 while loading images\n",
      "Traceback (most recent call last):\n",
      "  File \"/local/madlib-site/community-artifacts/Deep-learning/madlib_image_loader.py\", line 175, in _call_np_worker\n",
      "    iloader._write_tmp_file_and_load(data)\n",
      "  File \"/local/madlib-site/community-artifacts/Deep-learning/madlib_image_loader.py\", line 377, in _write_tmp_file_and_load\n",
      "    self._write_file(f, data)\n",
      "  File \"/local/madlib-site/community-artifacts/Deep-learning/madlib_image_loader.py\", line 335, in _write_file\n",
      "    file_object.writelines(lines)\n",
      "OSError: [Errno 28] No space left on device\n",
      "\n",
      "ForkPoolWorker-24: Removed temporary directory /tmp/madlib_108R9ubpsd\n",
      "\n",
      "Error in ForkPoolWorker-24 while loading images\n",
      "Traceback (most recent call last):\n",
      "  File \"/local/madlib-site/community-artifacts/Deep-learning/madlib_image_loader.py\", line 175, in _call_np_worker\n",
      "    iloader._write_tmp_file_and_load(data)\n",
      "  File \"/local/madlib-site/community-artifacts/Deep-learning/madlib_image_loader.py\", line 377, in _write_tmp_file_and_load\n",
      "    self._write_file(f, data)\n",
      "  File \"/local/madlib-site/community-artifacts/Deep-learning/madlib_image_loader.py\", line 335, in _write_file\n",
      "    file_object.writelines(lines)\n",
      "OSError: [Errno 28] No space left on device\n",
      "\n",
      "ForkPoolWorker-25: Removed temporary directory /tmp/madlib_wIyStUoOLG\n",
      "\n",
      "Error in ForkPoolWorker-25 while loading images\n",
      "Traceback (most recent call last):\n",
      "  File \"/local/madlib-site/community-artifacts/Deep-learning/madlib_image_loader.py\", line 175, in _call_np_worker\n",
      "    iloader._write_tmp_file_and_load(data)\n",
      "  File \"/local/madlib-site/community-artifacts/Deep-learning/madlib_image_loader.py\", line 377, in _write_tmp_file_and_load\n",
      "    self._write_file(f, data)\n",
      "  File \"/local/madlib-site/community-artifacts/Deep-learning/madlib_image_loader.py\", line 335, in _write_file\n",
      "    file_object.writelines(lines)\n",
      "OSError: [Errno 28] No space left on device\n",
      "\n",
      "ForkPoolWorker-26: Removed temporary directory /tmp/madlib_LS6hMNyUkJ\n",
      "\n",
      "Error in ForkPoolWorker-26 while loading images\n",
      "Traceback (most recent call last):\n",
      "  File \"/local/madlib-site/community-artifacts/Deep-learning/madlib_image_loader.py\", line 175, in _call_np_worker\n",
      "    iloader._write_tmp_file_and_load(data)\n",
      "  File \"/local/madlib-site/community-artifacts/Deep-learning/madlib_image_loader.py\", line 377, in _write_tmp_file_and_load\n",
      "    self._write_file(f, data)\n",
      "  File \"/local/madlib-site/community-artifacts/Deep-learning/madlib_image_loader.py\", line 335, in _write_file\n",
      "    file_object.writelines(lines)\n",
      "OSError: [Errno 28] No space left on device\n",
      "\n",
      "ForkPoolWorker-34: Removed temporary directory /tmp/madlib_CD2Kyx60Nc\n",
      "ForkPoolWorker-32: Removed temporary directory /tmp/madlib_YAaBVQKSa3\n",
      "ForkPoolWorker-33: Removed temporary directory /tmp/madlib_e8yocrZUkS\n",
      "\n",
      "Error in ForkPoolWorker-34 while loading imagesForkPoolWorker-31: Removed temporary directory /tmp/madlib_gdh9B8qfza\n"
     ]
    },
    {
     "name": "stdout",
     "output_type": "stream",
     "text": [
      "\n",
      "Error in ForkPoolWorker-32 while loading images\n",
      "Error in ForkPoolWorker-33 while loading images\n",
      "\n",
      "Error in ForkPoolWorker-31 while loading images\n",
      "\n",
      "Traceback (most recent call last):\n",
      "  File \"/local/madlib-site/community-artifacts/Deep-learning/madlib_image_loader.py\", line 175, in _call_np_worker\n",
      "    iloader._write_tmp_file_and_load(data)\n",
      "  File \"/local/madlib-site/community-artifacts/Deep-learning/madlib_image_loader.py\", line 377, in _write_tmp_file_and_load\n",
      "    self._write_file(f, data)\n",
      "  File \"/local/madlib-site/community-artifacts/Deep-learning/madlib_image_loader.py\", line 335, in _write_file\n",
      "    file_object.writelines(lines)\n",
      "OSError: [Errno 28] No space left on device\n",
      "\n",
      "Traceback (most recent call last):\n",
      "  File \"/local/madlib-site/community-artifacts/Deep-learning/madlib_image_loader.py\", line 175, in _call_np_worker\n",
      "    iloader._write_tmp_file_and_load(data)\n",
      "  File \"/local/madlib-site/community-artifacts/Deep-learning/madlib_image_loader.py\", line 377, in _write_tmp_file_and_load\n",
      "    self._write_file(f, data)\n",
      "  File \"/local/madlib-site/community-artifacts/Deep-learning/madlib_image_loader.py\", line 335, in _write_file\n",
      "    file_object.writelines(lines)\n",
      "OSError: [Errno 28] No space left on device\n",
      "Traceback (most recent call last):\n",
      "  File \"/local/madlib-site/community-artifacts/Deep-learning/madlib_image_loader.py\", line 175, in _call_np_worker\n",
      "    iloader._write_tmp_file_and_load(data)\n",
      "  File \"/local/madlib-site/community-artifacts/Deep-learning/madlib_image_loader.py\", line 377, in _write_tmp_file_and_load\n",
      "    self._write_file(f, data)\n",
      "  File \"/local/madlib-site/community-artifacts/Deep-learning/madlib_image_loader.py\", line 335, in _write_file\n",
      "    file_object.writelines(lines)\n",
      "OSError: [Errno 28] No space left on device\n",
      "\n",
      "\n",
      "Traceback (most recent call last):\n",
      "  File \"/local/madlib-site/community-artifacts/Deep-learning/madlib_image_loader.py\", line 175, in _call_np_worker\n",
      "    iloader._write_tmp_file_and_load(data)\n",
      "  File \"/local/madlib-site/community-artifacts/Deep-learning/madlib_image_loader.py\", line 377, in _write_tmp_file_and_load\n",
      "    self._write_file(f, data)\n",
      "  File \"/local/madlib-site/community-artifacts/Deep-learning/madlib_image_loader.py\", line 335, in _write_file\n",
      "    file_object.writelines(lines)\n",
      "OSError: [Errno 28] No space left on device\n",
      "\n",
      "\n",
      "ForkPoolWorker-29: Can't find temporary directory... exiting.\n",
      "ForkPoolWorker-29: Can't find temporary directory... exiting.\n",
      "ForkPoolWorker-30: Can't find temporary directory... exiting.\n",
      "ForkPoolWorker-30: Can't find temporary directory... exiting.\n",
      "ForkPoolWorker-28: Can't find temporary directory... exiting.\n",
      "ForkPoolWorker-28: Can't find temporary directory... exiting.\n",
      "ForkPoolWorker-35: Can't find temporary directory... exiting.\n",
      "ForkPoolWorker-35: Can't find temporary directory... exiting.\n",
      "ForkPoolWorker-27: Can't find temporary directory... exiting.\n",
      "ForkPoolWorker-27: Can't find temporary directory... exiting.\n",
      "ForkPoolWorker-36: Can't find temporary directory... exiting.\n"
     ]
    },
    {
     "name": "stderr",
     "output_type": "stream",
     "text": [
      "Process ForkPoolWorker-32:\n",
      "Process ForkPoolWorker-35:\n"
     ]
    },
    {
     "name": "stdout",
     "output_type": "stream",
     "text": [
      "\n",
      "Error in ForkPoolWorker-36 while loading images"
     ]
    },
    {
     "name": "stderr",
     "output_type": "stream",
     "text": [
      "Process ForkPoolWorker-31:\n"
     ]
    },
    {
     "ename": "KeyboardInterrupt",
     "evalue": "",
     "output_type": "error",
     "traceback": [
      "\u001b[0;31m---------------------------------------------------------------------------\u001b[0m",
      "\u001b[0;31mRemoteTraceback\u001b[0m                           Traceback (most recent call last)",
      "\u001b[0;31mRemoteTraceback\u001b[0m: \n\"\"\"\nTraceback (most recent call last):\n  File \"/usr/lib/python3.5/multiprocessing/pool.py\", line 119, in worker\n    result = (True, func(*args, **kwds))\n  File \"/usr/lib/python3.5/multiprocessing/pool.py\", line 44, in mapstar\n    return list(map(*args))\n  File \"/local/madlib-site/community-artifacts/Deep-learning/madlib_image_loader.py\", line 185, in _call_np_worker\n    raise e\n  File \"/local/madlib-site/community-artifacts/Deep-learning/madlib_image_loader.py\", line 175, in _call_np_worker\n    iloader._write_tmp_file_and_load(data)\n  File \"/local/madlib-site/community-artifacts/Deep-learning/madlib_image_loader.py\", line 377, in _write_tmp_file_and_load\n    self._write_file(f, data)\n  File \"/local/madlib-site/community-artifacts/Deep-learning/madlib_image_loader.py\", line 335, in _write_file\n    file_object.writelines(lines)\nOSError: [Errno 28] No space left on device\n\"\"\"",
      "\nThe above exception was the direct cause of the following exception:\n",
      "\u001b[0;31mOSError\u001b[0m                                   Traceback (most recent call last)",
      "\u001b[0;32m/local/madlib-site/community-artifacts/Deep-learning/madlib_image_loader.py\u001b[0m in \u001b[0;36mload_dataset_from_np\u001b[0;34m(self, data_x, data_y, table_name, append)\u001b[0m\n\u001b[1;32m    497\u001b[0m         \u001b[0;32mtry\u001b[0m\u001b[0;34m:\u001b[0m\u001b[0;34m\u001b[0m\u001b[0m\n\u001b[0;32m--> 498\u001b[0;31m             \u001b[0mself\u001b[0m\u001b[0;34m.\u001b[0m\u001b[0mpool\u001b[0m\u001b[0;34m.\u001b[0m\u001b[0mmap\u001b[0m\u001b[0;34m(\u001b[0m\u001b[0m_call_np_worker\u001b[0m\u001b[0;34m,\u001b[0m \u001b[0mdatas\u001b[0m\u001b[0;34m)\u001b[0m\u001b[0;34m\u001b[0m\u001b[0m\n\u001b[0m\u001b[1;32m    499\u001b[0m         \u001b[0;32mexcept\u001b[0m\u001b[0;34m(\u001b[0m\u001b[0mException\u001b[0m\u001b[0;34m)\u001b[0m \u001b[0;32mas\u001b[0m \u001b[0me\u001b[0m\u001b[0;34m:\u001b[0m\u001b[0;34m\u001b[0m\u001b[0m\n",
      "\u001b[0;32m/usr/lib/python3.5/multiprocessing/pool.py\u001b[0m in \u001b[0;36mmap\u001b[0;34m(self, func, iterable, chunksize)\u001b[0m\n\u001b[1;32m    259\u001b[0m         '''\n\u001b[0;32m--> 260\u001b[0;31m         \u001b[0;32mreturn\u001b[0m \u001b[0mself\u001b[0m\u001b[0;34m.\u001b[0m\u001b[0m_map_async\u001b[0m\u001b[0;34m(\u001b[0m\u001b[0mfunc\u001b[0m\u001b[0;34m,\u001b[0m \u001b[0miterable\u001b[0m\u001b[0;34m,\u001b[0m \u001b[0mmapstar\u001b[0m\u001b[0;34m,\u001b[0m \u001b[0mchunksize\u001b[0m\u001b[0;34m)\u001b[0m\u001b[0;34m.\u001b[0m\u001b[0mget\u001b[0m\u001b[0;34m(\u001b[0m\u001b[0;34m)\u001b[0m\u001b[0;34m\u001b[0m\u001b[0m\n\u001b[0m\u001b[1;32m    261\u001b[0m \u001b[0;34m\u001b[0m\u001b[0m\n",
      "\u001b[0;32m/usr/lib/python3.5/multiprocessing/pool.py\u001b[0m in \u001b[0;36mget\u001b[0;34m(self, timeout)\u001b[0m\n\u001b[1;32m    607\u001b[0m         \u001b[0;32melse\u001b[0m\u001b[0;34m:\u001b[0m\u001b[0;34m\u001b[0m\u001b[0m\n\u001b[0;32m--> 608\u001b[0;31m             \u001b[0;32mraise\u001b[0m \u001b[0mself\u001b[0m\u001b[0;34m.\u001b[0m\u001b[0m_value\u001b[0m\u001b[0;34m\u001b[0m\u001b[0m\n\u001b[0m\u001b[1;32m    609\u001b[0m \u001b[0;34m\u001b[0m\u001b[0m\n",
      "\u001b[0;31mOSError\u001b[0m: [Errno 28] No space left on device",
      "\nDuring handling of the above exception, another exception occurred:\n",
      "\u001b[0;31mKeyboardInterrupt\u001b[0m                         Traceback (most recent call last)",
      "\u001b[0;32m<ipython-input-54-343b6ad0cfa2>\u001b[0m in \u001b[0;36m<module>\u001b[0;34m\u001b[0m\n\u001b[1;32m      2\u001b[0m \u001b[0;34m\u001b[0m\u001b[0m\n\u001b[1;32m      3\u001b[0m \u001b[0;31m# Save images to temporary directories and load into database\u001b[0m\u001b[0;34m\u001b[0m\u001b[0;34m\u001b[0m\u001b[0m\n\u001b[0;32m----> 4\u001b[0;31m \u001b[0miloader\u001b[0m\u001b[0;34m.\u001b[0m\u001b[0mload_dataset_from_np\u001b[0m\u001b[0;34m(\u001b[0m\u001b[0mnp_images\u001b[0m\u001b[0;34m,\u001b[0m \u001b[0mnp_labels\u001b[0m\u001b[0;34m,\u001b[0m \u001b[0;34m'imagenet_train_data'\u001b[0m\u001b[0;34m,\u001b[0m \u001b[0mappend\u001b[0m\u001b[0;34m=\u001b[0m\u001b[0;32mFalse\u001b[0m\u001b[0;34m)\u001b[0m\u001b[0;34m\u001b[0m\u001b[0m\n\u001b[0m",
      "\u001b[0;32m/local/madlib-site/community-artifacts/Deep-learning/madlib_image_loader.py\u001b[0m in \u001b[0;36mload_dataset_from_np\u001b[0;34m(self, data_x, data_y, table_name, append)\u001b[0m\n\u001b[1;32m    498\u001b[0m             \u001b[0mself\u001b[0m\u001b[0;34m.\u001b[0m\u001b[0mpool\u001b[0m\u001b[0;34m.\u001b[0m\u001b[0mmap\u001b[0m\u001b[0;34m(\u001b[0m\u001b[0m_call_np_worker\u001b[0m\u001b[0;34m,\u001b[0m \u001b[0mdatas\u001b[0m\u001b[0;34m)\u001b[0m\u001b[0;34m\u001b[0m\u001b[0m\n\u001b[1;32m    499\u001b[0m         \u001b[0;32mexcept\u001b[0m\u001b[0;34m(\u001b[0m\u001b[0mException\u001b[0m\u001b[0;34m)\u001b[0m \u001b[0;32mas\u001b[0m \u001b[0me\u001b[0m\u001b[0;34m:\u001b[0m\u001b[0;34m\u001b[0m\u001b[0m\n\u001b[0;32m--> 500\u001b[0;31m             \u001b[0mself\u001b[0m\u001b[0;34m.\u001b[0m\u001b[0mterminate_workers\u001b[0m\u001b[0;34m(\u001b[0m\u001b[0;34m)\u001b[0m\u001b[0;34m\u001b[0m\u001b[0m\n\u001b[0m\u001b[1;32m    501\u001b[0m             \u001b[0;32mraise\u001b[0m \u001b[0me\u001b[0m\u001b[0;34m\u001b[0m\u001b[0m\n\u001b[1;32m    502\u001b[0m \u001b[0;34m\u001b[0m\u001b[0m\n",
      "\u001b[0;32m/local/madlib-site/community-artifacts/Deep-learning/madlib_image_loader.py\u001b[0m in \u001b[0;36mterminate_workers\u001b[0;34m(self)\u001b[0m\n\u001b[1;32m    249\u001b[0m     \u001b[0;32mdef\u001b[0m \u001b[0mterminate_workers\u001b[0m\u001b[0;34m(\u001b[0m\u001b[0mself\u001b[0m\u001b[0;34m)\u001b[0m\u001b[0;34m:\u001b[0m\u001b[0;34m\u001b[0m\u001b[0m\n\u001b[1;32m    250\u001b[0m         \u001b[0;32mif\u001b[0m \u001b[0miloader\u001b[0m\u001b[0;34m.\u001b[0m\u001b[0mpool\u001b[0m\u001b[0;34m:\u001b[0m\u001b[0;34m\u001b[0m\u001b[0m\n\u001b[0;32m--> 251\u001b[0;31m             \u001b[0miloader\u001b[0m\u001b[0;34m.\u001b[0m\u001b[0mpool\u001b[0m\u001b[0;34m.\u001b[0m\u001b[0mmap\u001b[0m\u001b[0;34m(\u001b[0m\u001b[0m_worker_cleanup\u001b[0m\u001b[0;34m,\u001b[0m \u001b[0;34m[\u001b[0m\u001b[0;36m0\u001b[0m\u001b[0;34m]\u001b[0m \u001b[0;34m*\u001b[0m \u001b[0mself\u001b[0m\u001b[0;34m.\u001b[0m\u001b[0mnum_workers\u001b[0m\u001b[0;34m)\u001b[0m\u001b[0;34m\u001b[0m\u001b[0m\n\u001b[0m\u001b[1;32m    252\u001b[0m \u001b[0;34m\u001b[0m\u001b[0m\n\u001b[1;32m    253\u001b[0m         \u001b[0mself\u001b[0m\u001b[0;34m.\u001b[0m\u001b[0mpool\u001b[0m\u001b[0;34m.\u001b[0m\u001b[0mterminate\u001b[0m\u001b[0;34m(\u001b[0m\u001b[0;34m)\u001b[0m\u001b[0;34m\u001b[0m\u001b[0m\n",
      "\u001b[0;32m/usr/lib/python3.5/multiprocessing/pool.py\u001b[0m in \u001b[0;36mmap\u001b[0;34m(self, func, iterable, chunksize)\u001b[0m\n\u001b[1;32m    258\u001b[0m         \u001b[0;32min\u001b[0m \u001b[0ma\u001b[0m \u001b[0mlist\u001b[0m \u001b[0mthat\u001b[0m \u001b[0;32mis\u001b[0m \u001b[0mreturned\u001b[0m\u001b[0;34m.\u001b[0m\u001b[0;34m\u001b[0m\u001b[0m\n\u001b[1;32m    259\u001b[0m         '''\n\u001b[0;32m--> 260\u001b[0;31m         \u001b[0;32mreturn\u001b[0m \u001b[0mself\u001b[0m\u001b[0;34m.\u001b[0m\u001b[0m_map_async\u001b[0m\u001b[0;34m(\u001b[0m\u001b[0mfunc\u001b[0m\u001b[0;34m,\u001b[0m \u001b[0miterable\u001b[0m\u001b[0;34m,\u001b[0m \u001b[0mmapstar\u001b[0m\u001b[0;34m,\u001b[0m \u001b[0mchunksize\u001b[0m\u001b[0;34m)\u001b[0m\u001b[0;34m.\u001b[0m\u001b[0mget\u001b[0m\u001b[0;34m(\u001b[0m\u001b[0;34m)\u001b[0m\u001b[0;34m\u001b[0m\u001b[0m\n\u001b[0m\u001b[1;32m    261\u001b[0m \u001b[0;34m\u001b[0m\u001b[0m\n\u001b[1;32m    262\u001b[0m     \u001b[0;32mdef\u001b[0m \u001b[0mstarmap\u001b[0m\u001b[0;34m(\u001b[0m\u001b[0mself\u001b[0m\u001b[0;34m,\u001b[0m \u001b[0mfunc\u001b[0m\u001b[0;34m,\u001b[0m \u001b[0miterable\u001b[0m\u001b[0;34m,\u001b[0m \u001b[0mchunksize\u001b[0m\u001b[0;34m=\u001b[0m\u001b[0;32mNone\u001b[0m\u001b[0;34m)\u001b[0m\u001b[0;34m:\u001b[0m\u001b[0;34m\u001b[0m\u001b[0m\n",
      "\u001b[0;32m/usr/lib/python3.5/multiprocessing/pool.py\u001b[0m in \u001b[0;36mget\u001b[0;34m(self, timeout)\u001b[0m\n\u001b[1;32m    600\u001b[0m \u001b[0;34m\u001b[0m\u001b[0m\n\u001b[1;32m    601\u001b[0m     \u001b[0;32mdef\u001b[0m \u001b[0mget\u001b[0m\u001b[0;34m(\u001b[0m\u001b[0mself\u001b[0m\u001b[0;34m,\u001b[0m \u001b[0mtimeout\u001b[0m\u001b[0;34m=\u001b[0m\u001b[0;32mNone\u001b[0m\u001b[0;34m)\u001b[0m\u001b[0;34m:\u001b[0m\u001b[0;34m\u001b[0m\u001b[0m\n\u001b[0;32m--> 602\u001b[0;31m         \u001b[0mself\u001b[0m\u001b[0;34m.\u001b[0m\u001b[0mwait\u001b[0m\u001b[0;34m(\u001b[0m\u001b[0mtimeout\u001b[0m\u001b[0;34m)\u001b[0m\u001b[0;34m\u001b[0m\u001b[0m\n\u001b[0m\u001b[1;32m    603\u001b[0m         \u001b[0;32mif\u001b[0m \u001b[0;32mnot\u001b[0m \u001b[0mself\u001b[0m\u001b[0;34m.\u001b[0m\u001b[0mready\u001b[0m\u001b[0;34m(\u001b[0m\u001b[0;34m)\u001b[0m\u001b[0;34m:\u001b[0m\u001b[0;34m\u001b[0m\u001b[0m\n\u001b[1;32m    604\u001b[0m             \u001b[0;32mraise\u001b[0m \u001b[0mTimeoutError\u001b[0m\u001b[0;34m\u001b[0m\u001b[0m\n",
      "\u001b[0;32m/usr/lib/python3.5/multiprocessing/pool.py\u001b[0m in \u001b[0;36mwait\u001b[0;34m(self, timeout)\u001b[0m\n\u001b[1;32m    597\u001b[0m \u001b[0;34m\u001b[0m\u001b[0m\n\u001b[1;32m    598\u001b[0m     \u001b[0;32mdef\u001b[0m \u001b[0mwait\u001b[0m\u001b[0;34m(\u001b[0m\u001b[0mself\u001b[0m\u001b[0;34m,\u001b[0m \u001b[0mtimeout\u001b[0m\u001b[0;34m=\u001b[0m\u001b[0;32mNone\u001b[0m\u001b[0;34m)\u001b[0m\u001b[0;34m:\u001b[0m\u001b[0;34m\u001b[0m\u001b[0m\n\u001b[0;32m--> 599\u001b[0;31m         \u001b[0mself\u001b[0m\u001b[0;34m.\u001b[0m\u001b[0m_event\u001b[0m\u001b[0;34m.\u001b[0m\u001b[0mwait\u001b[0m\u001b[0;34m(\u001b[0m\u001b[0mtimeout\u001b[0m\u001b[0;34m)\u001b[0m\u001b[0;34m\u001b[0m\u001b[0m\n\u001b[0m\u001b[1;32m    600\u001b[0m \u001b[0;34m\u001b[0m\u001b[0m\n\u001b[1;32m    601\u001b[0m     \u001b[0;32mdef\u001b[0m \u001b[0mget\u001b[0m\u001b[0;34m(\u001b[0m\u001b[0mself\u001b[0m\u001b[0;34m,\u001b[0m \u001b[0mtimeout\u001b[0m\u001b[0;34m=\u001b[0m\u001b[0;32mNone\u001b[0m\u001b[0;34m)\u001b[0m\u001b[0;34m:\u001b[0m\u001b[0;34m\u001b[0m\u001b[0m\n",
      "\u001b[0;32m/usr/lib/python3.5/threading.py\u001b[0m in \u001b[0;36mwait\u001b[0;34m(self, timeout)\u001b[0m\n\u001b[1;32m    547\u001b[0m             \u001b[0msignaled\u001b[0m \u001b[0;34m=\u001b[0m \u001b[0mself\u001b[0m\u001b[0;34m.\u001b[0m\u001b[0m_flag\u001b[0m\u001b[0;34m\u001b[0m\u001b[0m\n\u001b[1;32m    548\u001b[0m             \u001b[0;32mif\u001b[0m \u001b[0;32mnot\u001b[0m \u001b[0msignaled\u001b[0m\u001b[0;34m:\u001b[0m\u001b[0;34m\u001b[0m\u001b[0m\n\u001b[0;32m--> 549\u001b[0;31m                 \u001b[0msignaled\u001b[0m \u001b[0;34m=\u001b[0m \u001b[0mself\u001b[0m\u001b[0;34m.\u001b[0m\u001b[0m_cond\u001b[0m\u001b[0;34m.\u001b[0m\u001b[0mwait\u001b[0m\u001b[0;34m(\u001b[0m\u001b[0mtimeout\u001b[0m\u001b[0;34m)\u001b[0m\u001b[0;34m\u001b[0m\u001b[0m\n\u001b[0m\u001b[1;32m    550\u001b[0m             \u001b[0;32mreturn\u001b[0m \u001b[0msignaled\u001b[0m\u001b[0;34m\u001b[0m\u001b[0m\n\u001b[1;32m    551\u001b[0m \u001b[0;34m\u001b[0m\u001b[0m\n",
      "\u001b[0;32m/usr/lib/python3.5/threading.py\u001b[0m in \u001b[0;36mwait\u001b[0;34m(self, timeout)\u001b[0m\n\u001b[1;32m    291\u001b[0m         \u001b[0;32mtry\u001b[0m\u001b[0;34m:\u001b[0m    \u001b[0;31m# restore state no matter what (e.g., KeyboardInterrupt)\u001b[0m\u001b[0;34m\u001b[0m\u001b[0m\n\u001b[1;32m    292\u001b[0m             \u001b[0;32mif\u001b[0m \u001b[0mtimeout\u001b[0m \u001b[0;32mis\u001b[0m \u001b[0;32mNone\u001b[0m\u001b[0;34m:\u001b[0m\u001b[0;34m\u001b[0m\u001b[0m\n\u001b[0;32m--> 293\u001b[0;31m                 \u001b[0mwaiter\u001b[0m\u001b[0;34m.\u001b[0m\u001b[0macquire\u001b[0m\u001b[0;34m(\u001b[0m\u001b[0;34m)\u001b[0m\u001b[0;34m\u001b[0m\u001b[0m\n\u001b[0m\u001b[1;32m    294\u001b[0m                 \u001b[0mgotit\u001b[0m \u001b[0;34m=\u001b[0m \u001b[0;32mTrue\u001b[0m\u001b[0;34m\u001b[0m\u001b[0m\n\u001b[1;32m    295\u001b[0m             \u001b[0;32melse\u001b[0m\u001b[0;34m:\u001b[0m\u001b[0;34m\u001b[0m\u001b[0m\n",
      "\u001b[0;31mKeyboardInterrupt\u001b[0m: "
     ]
    },
    {
     "name": "stderr",
     "output_type": "stream",
     "text": [
      "Process ForkPoolWorker-26:\n",
      "Process ForkPoolWorker-25:\n",
      "Process ForkPoolWorker-23:\n",
      "Process ForkPoolWorker-18:\n",
      "Process ForkPoolWorker-34:\n",
      "Process ForkPoolWorker-22:\n",
      "Process ForkPoolWorker-29:\n",
      "Process ForkPoolWorker-16:\n",
      "Process ForkPoolWorker-24:\n"
     ]
    },
    {
     "name": "stdout",
     "output_type": "stream",
     "text": [
      "\n"
     ]
    },
    {
     "name": "stderr",
     "output_type": "stream",
     "text": [
      "Traceback (most recent call last):\n",
      "Process ForkPoolWorker-30:\n",
      "Traceback (most recent call last):\n",
      "Process ForkPoolWorker-20:\n",
      "Traceback (most recent call last):\n"
     ]
    }
   ],
   "source": [
    "%sql DROP TABLE IF EXISTS imagenet_train_data;\n",
    "\n",
    "# Save images to temporary directories and load into database\n",
    "iloader.load_dataset_from_np(np_images, np_labels, 'imagenet_train_data', append=False)\n"
   ]
  },
  {
   "cell_type": "code",
   "execution_count": 8,
   "metadata": {
    "ExecuteTime": {
     "end_time": "2020-04-14T18:29:32.543581Z",
     "start_time": "2020-04-14T18:28:52.985390Z"
    }
   },
   "outputs": [
    {
     "name": "stdout",
     "output_type": "stream",
     "text": [
      " * postgresql://gpadmin@localhost:5432/cerebro\n",
      "Done.\n",
      "MainProcess: Connected to cerebro db.\n",
      "Executing: CREATE TABLE cifar_10_train_data (id SERIAL, x REAL[], y TEXT)\n",
      "CREATE TABLE\n",
      "Created table cifar_10_train_data in cerebro db\n",
      "Spawning 5 workers...\n",
      "Initializing ForkPoolWorker-1 [pid 120269]\n",
      "ForkPoolWorker-1: Created temporary directory /tmp/madlib_UtkeUeMcVk\n",
      "ForkPoolWorker-1: Connected to cerebro db.\n",
      "Initializing ForkPoolWorker-2 [pid 120272]\n",
      "ForkPoolWorker-2: Created temporary directory /tmp/madlib_uYyMLvKdBQ\n",
      "Initializing ForkPoolWorker-3 [pid 120279]\n",
      "ForkPoolWorker-3: Created temporary directory /tmp/madlib_Tlt9UX62iO\n",
      "ForkPoolWorker-2: Connected to cerebro db.\n",
      "Initializing ForkPoolWorker-4 [pid 120287]\n",
      "ForkPoolWorker-4: Created temporary directory /tmp/madlib_DeZY5yzuYF\n",
      "ForkPoolWorker-3: Connected to cerebro db.\n",
      "Initializing ForkPoolWorker-5 [pid 120296]\n",
      "ForkPoolWorker-5: Connected to cerebro db.\n",
      "ForkPoolWorker-5: Created temporary directory /tmp/madlib_vnvXp1dXE0\n",
      "ForkPoolWorker-4: Connected to cerebro db.\n",
      "ForkPoolWorker-1: Wrote 1000 images to /tmp/madlib_UtkeUeMcVk/cifar_10_train_data0000.tmp\n",
      "ForkPoolWorker-2: Wrote 1000 images to /tmp/madlib_uYyMLvKdBQ/cifar_10_train_data0000.tmp\n",
      "ForkPoolWorker-3: Wrote 1000 images to /tmp/madlib_Tlt9UX62iO/cifar_10_train_data0000.tmp\n",
      "ForkPoolWorker-4: Wrote 1000 images to /tmp/madlib_DeZY5yzuYF/cifar_10_train_data0000.tmp\n",
      "ForkPoolWorker-5: Wrote 1000 images to /tmp/madlib_vnvXp1dXE0/cifar_10_train_data0000.tmp\n",
      "ForkPoolWorker-1: Loaded 1000 images into cifar_10_train_data\n",
      "ForkPoolWorker-2: Loaded 1000 images into cifar_10_train_data\n",
      "ForkPoolWorker-3: Loaded 1000 images into cifar_10_train_data\n",
      "ForkPoolWorker-4: Loaded 1000 images into cifar_10_train_data\n",
      "ForkPoolWorker-5: Loaded 1000 images into cifar_10_train_data\n",
      "ForkPoolWorker-1: Wrote 1000 images to /tmp/madlib_UtkeUeMcVk/cifar_10_train_data0001.tmp\n",
      "ForkPoolWorker-2: Wrote 1000 images to /tmp/madlib_uYyMLvKdBQ/cifar_10_train_data0001.tmp\n",
      "ForkPoolWorker-3: Wrote 1000 images to /tmp/madlib_Tlt9UX62iO/cifar_10_train_data0001.tmp\n",
      "ForkPoolWorker-4: Wrote 1000 images to /tmp/madlib_DeZY5yzuYF/cifar_10_train_data0001.tmp\n",
      "ForkPoolWorker-5: Wrote 1000 images to /tmp/madlib_vnvXp1dXE0/cifar_10_train_data0001.tmp\n",
      "ForkPoolWorker-1: Loaded 1000 images into cifar_10_train_data\n",
      "ForkPoolWorker-2: Loaded 1000 images into cifar_10_train_data\n",
      "ForkPoolWorker-3: Loaded 1000 images into cifar_10_train_data\n",
      "ForkPoolWorker-4: Loaded 1000 images into cifar_10_train_data\n",
      "ForkPoolWorker-5: Loaded 1000 images into cifar_10_train_data\n",
      "ForkPoolWorker-1: Wrote 1000 images to /tmp/madlib_UtkeUeMcVk/cifar_10_train_data0002.tmp\n",
      "ForkPoolWorker-2: Wrote 1000 images to /tmp/madlib_uYyMLvKdBQ/cifar_10_train_data0002.tmp\n",
      "ForkPoolWorker-3: Wrote 1000 images to /tmp/madlib_Tlt9UX62iO/cifar_10_train_data0002.tmp\n",
      "ForkPoolWorker-4: Wrote 1000 images to /tmp/madlib_DeZY5yzuYF/cifar_10_train_data0002.tmp\n",
      "ForkPoolWorker-5: Wrote 1000 images to /tmp/madlib_vnvXp1dXE0/cifar_10_train_data0002.tmp\n",
      "ForkPoolWorker-1: Loaded 1000 images into cifar_10_train_data\n",
      "ForkPoolWorker-2: Loaded 1000 images into cifar_10_train_data\n",
      "ForkPoolWorker-3: Loaded 1000 images into cifar_10_train_data\n",
      "ForkPoolWorker-4: Loaded 1000 images into cifar_10_train_data\n",
      "ForkPoolWorker-5: Loaded 1000 images into cifar_10_train_data\n",
      "ForkPoolWorker-1: Wrote 1000 images to /tmp/madlib_UtkeUeMcVk/cifar_10_train_data0003.tmp\n",
      "ForkPoolWorker-2: Wrote 1000 images to /tmp/madlib_uYyMLvKdBQ/cifar_10_train_data0003.tmp\n",
      "ForkPoolWorker-3: Wrote 1000 images to /tmp/madlib_Tlt9UX62iO/cifar_10_train_data0003.tmp\n",
      "ForkPoolWorker-4: Wrote 1000 images to /tmp/madlib_DeZY5yzuYF/cifar_10_train_data0003.tmp\n",
      "ForkPoolWorker-5: Wrote 1000 images to /tmp/madlib_vnvXp1dXE0/cifar_10_train_data0003.tmp\n",
      "ForkPoolWorker-1: Loaded 1000 images into cifar_10_train_data\n",
      "ForkPoolWorker-2: Loaded 1000 images into cifar_10_train_data\n",
      "ForkPoolWorker-3: Loaded 1000 images into cifar_10_train_data\n",
      "ForkPoolWorker-4: Loaded 1000 images into cifar_10_train_data\n",
      "ForkPoolWorker-5: Loaded 1000 images into cifar_10_train_data\n",
      "ForkPoolWorker-1: Wrote 1000 images to /tmp/madlib_UtkeUeMcVk/cifar_10_train_data0004.tmp\n",
      "ForkPoolWorker-2: Wrote 1000 images to /tmp/madlib_uYyMLvKdBQ/cifar_10_train_data0004.tmp\n",
      "ForkPoolWorker-3: Wrote 1000 images to /tmp/madlib_Tlt9UX62iO/cifar_10_train_data0004.tmp\n",
      "ForkPoolWorker-4: Wrote 1000 images to /tmp/madlib_DeZY5yzuYF/cifar_10_train_data0004.tmp\n",
      "ForkPoolWorker-5: Wrote 1000 images to /tmp/madlib_vnvXp1dXE0/cifar_10_train_data0004.tmp\n",
      "ForkPoolWorker-1: Loaded 1000 images into cifar_10_train_data\n",
      "ForkPoolWorker-2: Loaded 1000 images into cifar_10_train_data\n",
      "ForkPoolWorker-3: Loaded 1000 images into cifar_10_train_data\n",
      "ForkPoolWorker-4: Loaded 1000 images into cifar_10_train_data\n",
      "ForkPoolWorker-5: Loaded 1000 images into cifar_10_train_data\n",
      "ForkPoolWorker-1: Wrote 1000 images to /tmp/madlib_UtkeUeMcVk/cifar_10_train_data0005.tmp\n",
      "ForkPoolWorker-2: Wrote 1000 images to /tmp/madlib_uYyMLvKdBQ/cifar_10_train_data0005.tmp\n",
      "ForkPoolWorker-3: Wrote 1000 images to /tmp/madlib_Tlt9UX62iO/cifar_10_train_data0005.tmp\n",
      "ForkPoolWorker-4: Wrote 1000 images to /tmp/madlib_DeZY5yzuYF/cifar_10_train_data0005.tmp\n",
      "ForkPoolWorker-5: Wrote 1000 images to /tmp/madlib_vnvXp1dXE0/cifar_10_train_data0005.tmp\n",
      "ForkPoolWorker-1: Loaded 1000 images into cifar_10_train_data\n",
      "ForkPoolWorker-2: Loaded 1000 images into cifar_10_train_data\n",
      "ForkPoolWorker-3: Loaded 1000 images into cifar_10_train_data\n",
      "ForkPoolWorker-4: Loaded 1000 images into cifar_10_train_data\n",
      "ForkPoolWorker-5: Loaded 1000 images into cifar_10_train_data\n",
      "ForkPoolWorker-1: Wrote 1000 images to /tmp/madlib_UtkeUeMcVk/cifar_10_train_data0006.tmp\n",
      "ForkPoolWorker-2: Wrote 1000 images to /tmp/madlib_uYyMLvKdBQ/cifar_10_train_data0006.tmp\n",
      "ForkPoolWorker-3: Wrote 1000 images to /tmp/madlib_Tlt9UX62iO/cifar_10_train_data0006.tmp\n",
      "ForkPoolWorker-4: Wrote 1000 images to /tmp/madlib_DeZY5yzuYF/cifar_10_train_data0006.tmp\n",
      "ForkPoolWorker-5: Wrote 1000 images to /tmp/madlib_vnvXp1dXE0/cifar_10_train_data0006.tmp\n",
      "ForkPoolWorker-1: Loaded 1000 images into cifar_10_train_data\n",
      "ForkPoolWorker-2: Loaded 1000 images into cifar_10_train_data\n",
      "ForkPoolWorker-3: Loaded 1000 images into cifar_10_train_data\n",
      "ForkPoolWorker-4: Loaded 1000 images into cifar_10_train_data\n",
      "ForkPoolWorker-5: Loaded 1000 images into cifar_10_train_data\n",
      "ForkPoolWorker-1: Wrote 1000 images to /tmp/madlib_UtkeUeMcVk/cifar_10_train_data0007.tmp\n",
      "ForkPoolWorker-2: Wrote 1000 images to /tmp/madlib_uYyMLvKdBQ/cifar_10_train_data0007.tmp\n",
      "ForkPoolWorker-3: Wrote 1000 images to /tmp/madlib_Tlt9UX62iO/cifar_10_train_data0007.tmp\n",
      "ForkPoolWorker-4: Wrote 1000 images to /tmp/madlib_DeZY5yzuYF/cifar_10_train_data0007.tmp\n",
      "ForkPoolWorker-5: Wrote 1000 images to /tmp/madlib_vnvXp1dXE0/cifar_10_train_data0007.tmp\n",
      "ForkPoolWorker-1: Loaded 1000 images into cifar_10_train_data\n",
      "ForkPoolWorker-2: Loaded 1000 images into cifar_10_train_data\n",
      "ForkPoolWorker-3: Loaded 1000 images into cifar_10_train_data\n",
      "ForkPoolWorker-4: Loaded 1000 images into cifar_10_train_data\n",
      "ForkPoolWorker-5: Loaded 1000 images into cifar_10_train_data\n",
      "ForkPoolWorker-1: Wrote 1000 images to /tmp/madlib_UtkeUeMcVk/cifar_10_train_data0008.tmp\n",
      "ForkPoolWorker-2: Wrote 1000 images to /tmp/madlib_uYyMLvKdBQ/cifar_10_train_data0008.tmp\n",
      "ForkPoolWorker-3: Wrote 1000 images to /tmp/madlib_Tlt9UX62iO/cifar_10_train_data0008.tmp\n",
      "ForkPoolWorker-4: Wrote 1000 images to /tmp/madlib_DeZY5yzuYF/cifar_10_train_data0008.tmp\n",
      "ForkPoolWorker-5: Wrote 1000 images to /tmp/madlib_vnvXp1dXE0/cifar_10_train_data0008.tmp\n",
      "ForkPoolWorker-1: Loaded 1000 images into cifar_10_train_data\n",
      "ForkPoolWorker-2: Loaded 1000 images into cifar_10_train_data\n",
      "ForkPoolWorker-3: Loaded 1000 images into cifar_10_train_data\n",
      "ForkPoolWorker-4: Loaded 1000 images into cifar_10_train_data\n",
      "ForkPoolWorker-5: Loaded 1000 images into cifar_10_train_data\n",
      "ForkPoolWorker-1: Wrote 1000 images to /tmp/madlib_UtkeUeMcVk/cifar_10_train_data0009.tmp\n",
      "ForkPoolWorker-2: Wrote 1000 images to /tmp/madlib_uYyMLvKdBQ/cifar_10_train_data0009.tmp\n",
      "ForkPoolWorker-1: Loaded 1000 images into cifar_10_train_data\n",
      "ForkPoolWorker-2: Loaded 1000 images into cifar_10_train_data\n",
      "ForkPoolWorker-1: Wrote 1000 images to /tmp/madlib_UtkeUeMcVk/cifar_10_train_data0010.tmp\n"
     ]
    },
    {
     "name": "stdout",
     "output_type": "stream",
     "text": [
      "ForkPoolWorker-2: Wrote 1000 images to /tmp/madlib_uYyMLvKdBQ/cifar_10_train_data0010.tmp\n",
      "ForkPoolWorker-1: Loaded 1000 images into cifar_10_train_data\n",
      "ForkPoolWorker-2: Loaded 1000 images into cifar_10_train_data\n",
      "ForkPoolWorker-1: Wrote 1000 images to /tmp/madlib_UtkeUeMcVk/cifar_10_train_data0011.tmp\n",
      "ForkPoolWorker-1: Loaded 1000 images into cifar_10_train_data\n",
      "ForkPoolWorker-3: Removed temporary directory /tmp/madlib_Tlt9UX62iO\n",
      "ForkPoolWorker-5: Removed temporary directory /tmp/madlib_vnvXp1dXE0\n",
      "ForkPoolWorker-4: Removed temporary directory /tmp/madlib_DeZY5yzuYF\n",
      "ForkPoolWorker-2: Removed temporary directory /tmp/madlib_uYyMLvKdBQ\n",
      "ForkPoolWorker-1: Removed temporary directory /tmp/madlib_UtkeUeMcVk\n",
      "Done!  Loaded 50000 images in 33.17561364173889s\n",
      "5 workers terminated.\n",
      "MainProcess: Connected to cerebro db.\n",
      "Executing: CREATE TABLE cifar_10_test_data (id SERIAL, x REAL[], y TEXT)\n",
      "CREATE TABLE\n",
      "Created table cifar_10_test_data in cerebro db\n",
      "Spawning 5 workers...\n",
      "Initializing ForkPoolWorker-6 [pid 120531]\n",
      "ForkPoolWorker-6: Created temporary directory /tmp/madlib_CCxh6J0YZZ\n",
      "ForkPoolWorker-6: Connected to cerebro db.\n",
      "Initializing ForkPoolWorker-7 [pid 120534]\n",
      "ForkPoolWorker-7: Created temporary directory /tmp/madlib_83TogIOsVw\n",
      "Initializing ForkPoolWorker-8 [pid 120541]\n",
      "ForkPoolWorker-7: Connected to cerebro db.\n",
      "ForkPoolWorker-8: Created temporary directory /tmp/madlib_4mrJ0vlnjL\n",
      "Initializing ForkPoolWorker-9 [pid 120550]\n",
      "ForkPoolWorker-8: Connected to cerebro db.\n",
      "ForkPoolWorker-9: Created temporary directory /tmp/madlib_0VDholMVyt\n",
      "Initializing ForkPoolWorker-10 [pid 120559]\n",
      "ForkPoolWorker-10: Created temporary directory /tmp/madlib_tRxpygZQ6n\n",
      "ForkPoolWorker-9: Connected to cerebro db.\n",
      "ForkPoolWorker-10: Connected to cerebro db.\n",
      "ForkPoolWorker-6: Wrote 1000 images to /tmp/madlib_CCxh6J0YZZ/cifar_10_test_data0000.tmp\n",
      "ForkPoolWorker-7: Wrote 1000 images to /tmp/madlib_83TogIOsVw/cifar_10_test_data0000.tmp\n",
      "ForkPoolWorker-8: Wrote 1000 images to /tmp/madlib_4mrJ0vlnjL/cifar_10_test_data0000.tmp\n",
      "ForkPoolWorker-9: Wrote 1000 images to /tmp/madlib_0VDholMVyt/cifar_10_test_data0000.tmp\n",
      "ForkPoolWorker-10: Wrote 1000 images to /tmp/madlib_tRxpygZQ6n/cifar_10_test_data0000.tmp\n",
      "ForkPoolWorker-6: Loaded 1000 images into cifar_10_test_data\n",
      "ForkPoolWorker-7: Loaded 1000 images into cifar_10_test_data\n",
      "ForkPoolWorker-8: Loaded 1000 images into cifar_10_test_data\n",
      "ForkPoolWorker-9: Loaded 1000 images into cifar_10_test_data\n",
      "ForkPoolWorker-10: Loaded 1000 images into cifar_10_test_data\n",
      "ForkPoolWorker-6: Wrote 1000 images to /tmp/madlib_CCxh6J0YZZ/cifar_10_test_data0001.tmp\n",
      "ForkPoolWorker-7: Wrote 1000 images to /tmp/madlib_83TogIOsVw/cifar_10_test_data0001.tmp\n",
      "ForkPoolWorker-8: Wrote 1000 images to /tmp/madlib_4mrJ0vlnjL/cifar_10_test_data0001.tmp\n",
      "ForkPoolWorker-10: Wrote 1000 images to /tmp/madlib_tRxpygZQ6n/cifar_10_test_data0001.tmp\n",
      "ForkPoolWorker-9: Wrote 1000 images to /tmp/madlib_0VDholMVyt/cifar_10_test_data0001.tmp\n",
      "ForkPoolWorker-6: Loaded 1000 images into cifar_10_test_data\n",
      "ForkPoolWorker-7: Loaded 1000 images into cifar_10_test_data\n",
      "ForkPoolWorker-8: Loaded 1000 images into cifar_10_test_data\n",
      "ForkPoolWorker-10: Loaded 1000 images into cifar_10_test_data\n",
      "ForkPoolWorker-9: Loaded 1000 images into cifar_10_test_data\n",
      "ForkPoolWorker-6: Removed temporary directory /tmp/madlib_CCxh6J0YZZ\n",
      "ForkPoolWorker-9: Removed temporary directory /tmp/madlib_0VDholMVyt\n",
      "ForkPoolWorker-8: Removed temporary directory /tmp/madlib_4mrJ0vlnjL\n",
      "ForkPoolWorker-7: Removed temporary directory /tmp/madlib_83TogIOsVw\n",
      "ForkPoolWorker-10: Removed temporary directory /tmp/madlib_tRxpygZQ6n\n",
      "Done!  Loaded 10000 images in 6.120592355728149s\n",
      "5 workers terminated.\n"
     ]
    }
   ],
   "source": [
    "%sql DROP TABLE IF EXISTS cifar_10_train_data, cifar_10_test_data;\n",
    "\n",
    "# Save images to temporary directories and load into database\n",
    "iloader.load_dataset_from_np(x_train, y_train, 'cifar_10_train_data', append=False)\n",
    "iloader.load_dataset_from_np(x_test, y_test, 'cifar_10_test_data', append=False)"
   ]
  },
  {
   "cell_type": "code",
   "execution_count": 9,
   "metadata": {
    "ExecuteTime": {
     "end_time": "2020-04-14T18:29:32.717361Z",
     "start_time": "2020-04-14T18:29:32.565643Z"
    }
   },
   "outputs": [
    {
     "name": "stdout",
     "output_type": "stream",
     "text": [
      " * postgresql://gpadmin@localhost:5432/cerebro\n",
      "1 rows affected.\n"
     ]
    },
    {
     "data": {
      "text/html": [
       "<table>\n",
       "    <tr>\n",
       "        <th>count</th>\n",
       "    </tr>\n",
       "    <tr>\n",
       "        <td>50000</td>\n",
       "    </tr>\n",
       "</table>"
      ],
      "text/plain": [
       "[(50000,)]"
      ]
     },
     "execution_count": 9,
     "metadata": {},
     "output_type": "execute_result"
    }
   ],
   "source": [
    "%%sql\n",
    "SELECT COUNT(*) FROM cifar_10_train_data;"
   ]
  },
  {
   "cell_type": "code",
   "execution_count": 13,
   "metadata": {},
   "outputs": [
    {
     "name": "stdout",
     "output_type": "stream",
     "text": [
      "1 rows affected.\n"
     ]
    },
    {
     "data": {
      "text/html": [
       "<table>\n",
       "    <tr>\n",
       "        <th>count</th>\n",
       "    </tr>\n",
       "    <tr>\n",
       "        <td>10000</td>\n",
       "    </tr>\n",
       "</table>"
      ],
      "text/plain": [
       "[(10000L,)]"
      ]
     },
     "execution_count": 13,
     "metadata": {},
     "output_type": "execute_result"
    }
   ],
   "source": [
    "%%sql\n",
    "SELECT COUNT(*) FROM cifar_10_test_data;"
   ]
  },
  {
   "cell_type": "markdown",
   "metadata": {},
   "source": [
    "<a id=\"file_system\"></a>\n",
    "# 3. Load from file system\n",
    "\n",
    "Uses the Python Imaging Library so supports multiple formats\n",
    "http://www.pythonware.com/products/pil/\n",
    "\n",
    "<em>load_dataset_from_disk(root_dir, table_name, num_labels='all', append=False)</em>\n",
    "\n",
    "- Calling this function  will look in <em>root_dir</em> on the local disk of wherever this is being run.  It will skip over any files in that directory, but will load images contained in each of its subdirectories.  The images should be organized by category/class, where the name of each subdirectory is the label for the images contained within it.\n",
    "\n",
    "\n",
    "- The <em>table_name</em> and <em>append</em> parameters are the same as above  The parameter <em>num_labels</em> is an optional parameter which can be used to restrict the number of labels (image classes) loaded, even if more are found in <em>root_dir</em>.  For example, for a large dataset you may have hundreds of labels, but only wish to use a subset of that containing a few dozen.\n",
    "\n",
    "For example, if we put the CIFAR-10 training data is in 10 subdirectories under directory <em>cifar10</em>, with one subdirectory for each class:"
   ]
  },
  {
   "cell_type": "code",
   "execution_count": 14,
   "metadata": {},
   "outputs": [
    {
     "name": "stdout",
     "output_type": "stream",
     "text": [
      "Done.\n",
      "MainProcess: Connected to madlib db.\n",
      "Executing: CREATE TABLE cifar_10_train_data_filesystem (id SERIAL, x REAL[], y TEXT,                        img_name TEXT)\n",
      "CREATE TABLE\n",
      "Created table cifar_10_train_data_filesystem in madlib db\n",
      ".DS_Store is not a directory, skipping\n",
      "number of labels = 10\n",
      "Found 10 image labels in /Users/fmcquillan/tmp/cifar10\n",
      "Spawning 5 workers...\n",
      "Initializing PoolWorker-11 [pid 82438]\n",
      "PoolWorker-11: Created temporary directory /tmp/madlib_aEC1lF2HqL\n",
      "Initializing PoolWorker-12 [pid 82439]\n",
      "PoolWorker-12: Created temporary directory /tmp/madlib_70qpwFzzqW\n",
      "Initializing PoolWorker-13 [pid 82440]\n",
      "PoolWorker-13: Created temporary directory /tmp/madlib_r2u4Zo5bPt\n",
      "PoolWorker-11: Connected to madlib db.\n",
      "Initializing PoolWorker-14 [pid 82441]\n",
      "PoolWorker-12: Connected to madlib db.\n",
      "PoolWorker-14: Created temporary directory /tmp/madlib_aTPESoNjVi\n",
      "Initializing PoolWorker-15 [pid 82443]\n",
      "PoolWorker-13: Connected to madlib db.\n",
      "PoolWorker-15: Created temporary directory /tmp/madlib_rhVwjLTbWI\n",
      "PoolWorker-14: Connected to madlib db.\n",
      "PoolWorker-15: Connected to madlib db.\n",
      "PoolWorker-13: Wrote 1000 images to /tmp/madlib_r2u4Zo5bPt/cifar_10_train_data_filesystem0000.tmp\n",
      "PoolWorker-14: Wrote 1000 images to /tmp/madlib_aTPESoNjVi/cifar_10_train_data_filesystem0000.tmp\n",
      "PoolWorker-12: Wrote 1000 images to /tmp/madlib_70qpwFzzqW/cifar_10_train_data_filesystem0000.tmp\n",
      "PoolWorker-11: Wrote 1000 images to /tmp/madlib_aEC1lF2HqL/cifar_10_train_data_filesystem0000.tmp\n",
      "PoolWorker-15: Wrote 1000 images to /tmp/madlib_rhVwjLTbWI/cifar_10_train_data_filesystem0000.tmp\n",
      "PoolWorker-13: Loaded 1000 images into cifar_10_train_data_filesystem\n",
      "PoolWorker-14: Loaded 1000 images into cifar_10_train_data_filesystem\n",
      "PoolWorker-11: Loaded 1000 images into cifar_10_train_data_filesystem\n",
      "PoolWorker-12: Loaded 1000 images into cifar_10_train_data_filesystem\n",
      "PoolWorker-15: Loaded 1000 images into cifar_10_train_data_filesystem\n",
      "PoolWorker-14: Wrote 1000 images to /tmp/madlib_aTPESoNjVi/cifar_10_train_data_filesystem0001.tmp\n",
      "PoolWorker-11: Wrote 1000 images to /tmp/madlib_aEC1lF2HqL/cifar_10_train_data_filesystem0001.tmp\n",
      "PoolWorker-13: Wrote 1000 images to /tmp/madlib_r2u4Zo5bPt/cifar_10_train_data_filesystem0001.tmp\n",
      "PoolWorker-15: Wrote 1000 images to /tmp/madlib_rhVwjLTbWI/cifar_10_train_data_filesystem0001.tmp\n",
      "PoolWorker-12: Wrote 1000 images to /tmp/madlib_70qpwFzzqW/cifar_10_train_data_filesystem0001.tmp\n",
      "PoolWorker-14: Loaded 1000 images into cifar_10_train_data_filesystem\n",
      "PoolWorker-11: Loaded 1000 images into cifar_10_train_data_filesystem\n",
      "PoolWorker-13: Loaded 1000 images into cifar_10_train_data_filesystem\n",
      "PoolWorker-15: Loaded 1000 images into cifar_10_train_data_filesystem\n",
      "PoolWorker-12: Loaded 1000 images into cifar_10_train_data_filesystem\n",
      "PoolWorker-14: Wrote 1000 images to /tmp/madlib_aTPESoNjVi/cifar_10_train_data_filesystem0002.tmp\n",
      "PoolWorker-15: Wrote 1000 images to /tmp/madlib_rhVwjLTbWI/cifar_10_train_data_filesystem0002.tmp\n",
      "PoolWorker-13: Wrote 1000 images to /tmp/madlib_r2u4Zo5bPt/cifar_10_train_data_filesystem0002.tmp\n",
      "PoolWorker-11: Wrote 1000 images to /tmp/madlib_aEC1lF2HqL/cifar_10_train_data_filesystem0002.tmp\n",
      "PoolWorker-12: Wrote 1000 images to /tmp/madlib_70qpwFzzqW/cifar_10_train_data_filesystem0002.tmp\n",
      "PoolWorker-14: Loaded 1000 images into cifar_10_train_data_filesystem\n",
      "PoolWorker-11: Loaded 1000 images into cifar_10_train_data_filesystem\n",
      "PoolWorker-15: Loaded 1000 images into cifar_10_train_data_filesystem\n",
      "PoolWorker-13: Loaded 1000 images into cifar_10_train_data_filesystem\n",
      "PoolWorker-12: Loaded 1000 images into cifar_10_train_data_filesystem\n",
      "PoolWorker-15: Wrote 1000 images to /tmp/madlib_rhVwjLTbWI/cifar_10_train_data_filesystem0003.tmp\n",
      "PoolWorker-14: Wrote 1000 images to /tmp/madlib_aTPESoNjVi/cifar_10_train_data_filesystem0003.tmp\n",
      "PoolWorker-13: Wrote 1000 images to /tmp/madlib_r2u4Zo5bPt/cifar_10_train_data_filesystem0003.tmp\n",
      "PoolWorker-12: Wrote 1000 images to /tmp/madlib_70qpwFzzqW/cifar_10_train_data_filesystem0003.tmp\n",
      "PoolWorker-11: Wrote 1000 images to /tmp/madlib_aEC1lF2HqL/cifar_10_train_data_filesystem0003.tmp\n",
      "PoolWorker-15: Loaded 1000 images into cifar_10_train_data_filesystem\n",
      "PoolWorker-14: Loaded 1000 images into cifar_10_train_data_filesystem\n",
      "PoolWorker-13: Loaded 1000 images into cifar_10_train_data_filesystem\n",
      "PoolWorker-11: Loaded 1000 images into cifar_10_train_data_filesystem\n",
      "PoolWorker-12: Loaded 1000 images into cifar_10_train_data_filesystem\n",
      "PoolWorker-15: Wrote 1000 images to /tmp/madlib_rhVwjLTbWI/cifar_10_train_data_filesystem0004.tmp\n",
      "PoolWorker-14: Wrote 1000 images to /tmp/madlib_aTPESoNjVi/cifar_10_train_data_filesystem0004.tmp\n",
      "PoolWorker-12: Wrote 1000 images to /tmp/madlib_70qpwFzzqW/cifar_10_train_data_filesystem0004.tmp\n",
      "PoolWorker-13: Wrote 1000 images to /tmp/madlib_r2u4Zo5bPt/cifar_10_train_data_filesystem0004.tmp\n",
      "PoolWorker-11: Wrote 1000 images to /tmp/madlib_aEC1lF2HqL/cifar_10_train_data_filesystem0004.tmp\n",
      "PoolWorker-14: Loaded 1000 images into cifar_10_train_data_filesystem\n",
      "PoolWorker-15: Loaded 1000 images into cifar_10_train_data_filesystem\n",
      "PoolWorker-12: Loaded 1000 images into cifar_10_train_data_filesystem\n",
      "PoolWorker-11: Loaded 1000 images into cifar_10_train_data_filesystem\n",
      "PoolWorker-13: Loaded 1000 images into cifar_10_train_data_filesystem\n",
      "PoolWorker-15: Wrote 1000 images to /tmp/madlib_rhVwjLTbWI/cifar_10_train_data_filesystem0005.tmp\n",
      "PoolWorker-14: Wrote 1000 images to /tmp/madlib_aTPESoNjVi/cifar_10_train_data_filesystem0005.tmp\n",
      "PoolWorker-12: Wrote 1000 images to /tmp/madlib_70qpwFzzqW/cifar_10_train_data_filesystem0005.tmp\n",
      "PoolWorker-11: Wrote 1000 images to /tmp/madlib_aEC1lF2HqL/cifar_10_train_data_filesystem0005.tmp\n",
      "PoolWorker-13: Wrote 1000 images to /tmp/madlib_r2u4Zo5bPt/cifar_10_train_data_filesystem0005.tmp\n",
      "PoolWorker-14: Loaded 1000 images into cifar_10_train_data_filesystem\n",
      "PoolWorker-15: Loaded 1000 images into cifar_10_train_data_filesystem\n",
      "PoolWorker-12: Loaded 1000 images into cifar_10_train_data_filesystem\n",
      "PoolWorker-13: Loaded 1000 images into cifar_10_train_data_filesystem\n",
      "PoolWorker-11: Loaded 1000 images into cifar_10_train_data_filesystem\n",
      "PoolWorker-15: Wrote 1000 images to /tmp/madlib_rhVwjLTbWI/cifar_10_train_data_filesystem0006.tmp\n",
      "PoolWorker-14: Wrote 1000 images to /tmp/madlib_aTPESoNjVi/cifar_10_train_data_filesystem0006.tmp\n",
      "PoolWorker-12: Wrote 1000 images to /tmp/madlib_70qpwFzzqW/cifar_10_train_data_filesystem0006.tmp\n",
      "PoolWorker-13: Wrote 1000 images to /tmp/madlib_r2u4Zo5bPt/cifar_10_train_data_filesystem0006.tmp\n",
      "PoolWorker-11: Wrote 1000 images to /tmp/madlib_aEC1lF2HqL/cifar_10_train_data_filesystem0006.tmp\n",
      "PoolWorker-15: Loaded 1000 images into cifar_10_train_data_filesystem\n",
      "PoolWorker-14: Loaded 1000 images into cifar_10_train_data_filesystem\n",
      "PoolWorker-12: Loaded 1000 images into cifar_10_train_data_filesystem\n",
      "PoolWorker-11: Loaded 1000 images into cifar_10_train_data_filesystem\n",
      "PoolWorker-13: Loaded 1000 images into cifar_10_train_data_filesystem\n",
      "PoolWorker-15: Wrote 1000 images to /tmp/madlib_rhVwjLTbWI/cifar_10_train_data_filesystem0007.tmp\n",
      "PoolWorker-14: Wrote 1000 images to /tmp/madlib_aTPESoNjVi/cifar_10_train_data_filesystem0007.tmp\n",
      "PoolWorker-12: Wrote 1000 images to /tmp/madlib_70qpwFzzqW/cifar_10_train_data_filesystem0007.tmp\n",
      "PoolWorker-13: Wrote 1000 images to /tmp/madlib_r2u4Zo5bPt/cifar_10_train_data_filesystem0007.tmp\n",
      "PoolWorker-11: Wrote 1000 images to /tmp/madlib_aEC1lF2HqL/cifar_10_train_data_filesystem0007.tmp\n",
      "PoolWorker-15: Loaded 1000 images into cifar_10_train_data_filesystem\n",
      "PoolWorker-14: Loaded 1000 images into cifar_10_train_data_filesystem\n",
      "PoolWorker-12: Loaded 1000 images into cifar_10_train_data_filesystem\n",
      "PoolWorker-13: Loaded 1000 images into cifar_10_train_data_filesystem\n",
      "PoolWorker-11: Loaded 1000 images into cifar_10_train_data_filesystem\n",
      "PoolWorker-14: Wrote 1000 images to /tmp/madlib_aTPESoNjVi/cifar_10_train_data_filesystem0008.tmp\n",
      "PoolWorker-15: Wrote 1000 images to /tmp/madlib_rhVwjLTbWI/cifar_10_train_data_filesystem0008.tmp\n",
      "PoolWorker-12: Wrote 1000 images to /tmp/madlib_70qpwFzzqW/cifar_10_train_data_filesystem0008.tmp\n",
      "PoolWorker-13: Wrote 1000 images to /tmp/madlib_r2u4Zo5bPt/cifar_10_train_data_filesystem0008.tmp\n"
     ]
    },
    {
     "name": "stdout",
     "output_type": "stream",
     "text": [
      "PoolWorker-11: Wrote 1000 images to /tmp/madlib_aEC1lF2HqL/cifar_10_train_data_filesystem0008.tmp\n",
      "PoolWorker-14: Loaded 1000 images into cifar_10_train_data_filesystem\n",
      "PoolWorker-15: Loaded 1000 images into cifar_10_train_data_filesystem\n",
      "PoolWorker-12: Loaded 1000 images into cifar_10_train_data_filesystem\n",
      "PoolWorker-13: Loaded 1000 images into cifar_10_train_data_filesystem\n",
      "PoolWorker-11: Loaded 1000 images into cifar_10_train_data_filesystem\n",
      "PoolWorker-14: Wrote 1000 images to /tmp/madlib_aTPESoNjVi/cifar_10_train_data_filesystem0009.tmp\n",
      "PoolWorker-15: Wrote 1000 images to /tmp/madlib_rhVwjLTbWI/cifar_10_train_data_filesystem0009.tmp\n",
      "PoolWorker-12: Wrote 1000 images to /tmp/madlib_70qpwFzzqW/cifar_10_train_data_filesystem0009.tmp\n",
      "PoolWorker-13: Wrote 1000 images to /tmp/madlib_r2u4Zo5bPt/cifar_10_train_data_filesystem0009.tmp\n",
      "PoolWorker-11: Wrote 1000 images to /tmp/madlib_aEC1lF2HqL/cifar_10_train_data_filesystem0009.tmp\n",
      "PoolWorker-14: Loaded 1000 images into cifar_10_train_data_filesystem\n",
      "PoolWorker-12: Loaded 1000 images into cifar_10_train_data_filesystem\n",
      "PoolWorker-15: Loaded 1000 images into cifar_10_train_data_filesystem\n",
      "PoolWorker-13: Loaded 1000 images into cifar_10_train_data_filesystem\n",
      "PoolWorker-11: Loaded 1000 images into cifar_10_train_data_filesystem\n",
      "PoolWorker-12: Removed temporary directory /tmp/madlib_70qpwFzzqW\n",
      "PoolWorker-13: Removed temporary directory /tmp/madlib_r2u4Zo5bPt\n",
      "PoolWorker-15: Removed temporary directory /tmp/madlib_rhVwjLTbWI\n",
      "PoolWorker-11: Removed temporary directory /tmp/madlib_aEC1lF2HqL\n",
      "PoolWorker-14: Removed temporary directory /tmp/madlib_aTPESoNjVi\n",
      "Done!  Loaded 10 image categories in 27.9927430153s\n",
      "5 workers terminated.\n"
     ]
    }
   ],
   "source": [
    "%sql drop table if exists cifar_10_train_data_filesystem;\n",
    "# Load images from file system\n",
    "iloader.load_dataset_from_disk('/Users/fmcquillan/tmp/cifar10', 'cifar_10_train_data_filesystem', num_labels='all', append=False)"
   ]
  },
  {
   "cell_type": "code",
   "execution_count": 15,
   "metadata": {},
   "outputs": [
    {
     "name": "stdout",
     "output_type": "stream",
     "text": [
      "1 rows affected.\n"
     ]
    },
    {
     "data": {
      "text/html": [
       "<table>\n",
       "    <tr>\n",
       "        <th>count</th>\n",
       "    </tr>\n",
       "    <tr>\n",
       "        <td>50000</td>\n",
       "    </tr>\n",
       "</table>"
      ],
      "text/plain": [
       "[(50000L,)]"
      ]
     },
     "execution_count": 15,
     "metadata": {},
     "output_type": "execute_result"
    }
   ],
   "source": [
    "%%sql\n",
    "SELECT COUNT(*) FROM cifar_10_train_data_filesystem;"
   ]
  }
 ],
 "metadata": {
  "kernelspec": {
   "display_name": "Python 3",
   "language": "python",
   "name": "python3"
  },
  "language_info": {
   "codemirror_mode": {
    "name": "ipython",
    "version": 3
   },
   "file_extension": ".py",
   "mimetype": "text/x-python",
   "name": "python",
   "nbconvert_exporter": "python",
   "pygments_lexer": "ipython3",
   "version": "3.5.2"
  }
 },
 "nbformat": 4,
 "nbformat_minor": 2
}
