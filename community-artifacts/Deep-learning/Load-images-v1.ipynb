{
 "cells": [
  {
   "cell_type": "markdown",
   "metadata": {},
   "source": [
    "# Load images into table\n",
    "\n",
    "This demonstrates different ways to load images into a database table.\n",
    "\n",
    "We use the script called <em>madlib_image_loader.py</em> located at https://github.com/apache/madlib-site/tree/asf-site/community-artifacts/Deep-learning which uses the Python Imaging Library so supports multiple formats http://www.pythonware.com/products/pil/\n",
    "\n",
    "## Table of contents\n",
    "\n",
    "<a href=\"#setup\">1. Setup image loader</a>\n",
    "\n",
    "<a href=\"#fetch_numpy\">2. Fetch images then load NumPy array into table</a>\n",
    "\n",
    "<a href=\"#file_system\">3. Load from file system into table</a>"
   ]
  },
  {
   "cell_type": "code",
   "execution_count": null,
   "metadata": {
    "ExecuteTime": {
     "start_time": "2020-04-14T20:08:39.705Z"
    }
   },
   "outputs": [],
   "source": [
    "import sys\n",
    "import h5py\n",
    "import numpy as np"
   ]
  },
  {
   "cell_type": "code",
   "execution_count": null,
   "metadata": {
    "ExecuteTime": {
     "start_time": "2020-04-14T20:07:28.575Z"
    }
   },
   "outputs": [],
   "source": [
    "file_path = '/mnt/imagenet/train/train_0.h5'"
   ]
  },
  {
   "cell_type": "code",
   "execution_count": null,
   "metadata": {
    "ExecuteTime": {
     "start_time": "2020-04-14T20:07:29.027Z"
    }
   },
   "outputs": [],
   "source": [
    "sys.path.append('/home/gpadmin/.local/lib/python3.5/site-packages/')"
   ]
  },
  {
   "cell_type": "code",
   "execution_count": null,
   "metadata": {
    "ExecuteTime": {
     "start_time": "2020-04-14T20:07:29.323Z"
    }
   },
   "outputs": [],
   "source": [
    "%load_ext sql"
   ]
  },
  {
   "cell_type": "code",
   "execution_count": null,
   "metadata": {
    "ExecuteTime": {
     "start_time": "2020-04-14T20:07:30.589Z"
    }
   },
   "outputs": [],
   "source": [
    "# Greenplum Database 5.x on GCP for deep learning (PM demo machine)\n",
    "#%sql postgresql://gpadmin@35.239.240.26:5432/madlib\n",
    "        \n",
    "# PostgreSQL local\n",
    "%sql postgresql://gpadmin@localhost:5432/cerebro"
   ]
  },
  {
   "cell_type": "code",
   "execution_count": null,
   "metadata": {
    "ExecuteTime": {
     "start_time": "2020-04-14T20:07:30.831Z"
    }
   },
   "outputs": [],
   "source": [
    "%sql select madlib.version();\n",
    "#%sql select version();"
   ]
  },
  {
   "cell_type": "markdown",
   "metadata": {},
   "source": [
    "<a id=\"setup\"></a>\n",
    "# 1. Set up image loader\n",
    "\n",
    "We use the script called <em>madlib_image_loader.py</em> located at https://github.com/apache/madlib-site/tree/asf-site/community-artifacts/Deep-learning"
   ]
  },
  {
   "cell_type": "code",
   "execution_count": null,
   "metadata": {
    "ExecuteTime": {
     "start_time": "2020-04-14T20:07:32.284Z"
    }
   },
   "outputs": [],
   "source": [
    "import sys\n",
    "import os\n",
    "from keras.datasets import cifar10\n",
    "\n",
    "madlib_site_dir = '/Users/fmcquillan/Documents/Product/MADlib/Demos/data'\n",
    "sys.path.append(madlib_site_dir)\n",
    "\n",
    "# Import image loader module\n",
    "from madlib_image_loader import ImageLoader, DbCredentials\n",
    "\n",
    "# Specify database credentials, for connecting to db\n",
    "#db_creds = DbCredentials(user='gpadmin',\n",
    "#                         host='35.239.240.26',\n",
    "#                         port='5432',\n",
    "#                         password='')\n",
    "\n",
    "# Specify database credentials, for connecting to db\n",
    "db_creds = DbCredentials(db_name='cerebro',\n",
    "    user='gpadmin',\n",
    "                          host='localhost',\n",
    "                          port='5432',\n",
    "                          password='')\n",
    "\n",
    "# Initialize ImageLoader (increase num_workers to run faster)\n",
    "iloader = ImageLoader(num_workers=8, db_creds=db_creds)"
   ]
  },
  {
   "cell_type": "markdown",
   "metadata": {},
   "source": [
    "<a id=\"fetch_numpy\"></a>\n",
    "# 2. Fetch images then load NumPy array into table\n",
    "\n",
    "<em>iloader.load_dataset_from_np(data_x, data_y, table_name, append=False)</em>\n",
    "\n",
    "- <em>data_x</em> contains image data in np.array format\n",
    "\n",
    "\n",
    "- <em>data_y</em> is a 1D np.array of the image categories (labels).\n",
    "\n",
    "\n",
    "- If the user passes a <em>table_name</em> while creating ImageLoader object, it will be used for all further calls to load_dataset_from_np.  It can be changed by passing it as a parameter during the actual call to load_dataset_from_np, and if so future calls will load to that table name instead.  This avoids needing to pass the table_name again every time, but also allows it to be changed at any time."
   ]
  },
  {
   "cell_type": "code",
   "execution_count": 19,
   "metadata": {
    "ExecuteTime": {
     "end_time": "2020-04-14T19:52:21.661412Z",
     "start_time": "2020-04-14T19:52:21.656719Z"
    }
   },
   "outputs": [],
   "source": [
    "h5f = h5py.File(file_path, 'r')\n",
    "\n",
    "np_images = np.asarray(h5f.get(\"images\"))\n",
    "\n",
    "np_labels = np.eye(1000)[np.asarray(h5f.get(\"labels\")).astype(int)]\n",
    "\n",
    "%sql DROP TABLE IF EXISTS imagenet_train_data;\n",
    "\n",
    "# Save images to temporary directories and load into database\n",
    "iloader.load_dataset_from_np(np_images, np_labels, 'imagenet_train_data', append=False)\n"
   ]
  },
  {
   "cell_type": "code",
   "execution_count": 8,
   "metadata": {
    "ExecuteTime": {
     "end_time": "2020-04-14T18:29:32.543581Z",
     "start_time": "2020-04-14T18:28:52.985390Z"
    }
   },
   "outputs": [
    {
     "name": "stdout",
     "output_type": "stream",
     "text": [
      " * postgresql://gpadmin@localhost:5432/cerebro\n",
      "Done.\n",
      "MainProcess: Connected to cerebro db.\n",
      "Executing: CREATE TABLE cifar_10_train_data (id SERIAL, x REAL[], y TEXT)\n",
      "CREATE TABLE\n",
      "Created table cifar_10_train_data in cerebro db\n",
      "Spawning 5 workers...\n",
      "Initializing ForkPoolWorker-1 [pid 120269]\n",
      "ForkPoolWorker-1: Created temporary directory /tmp/madlib_UtkeUeMcVk\n",
      "ForkPoolWorker-1: Connected to cerebro db.\n",
      "Initializing ForkPoolWorker-2 [pid 120272]\n",
      "ForkPoolWorker-2: Created temporary directory /tmp/madlib_uYyMLvKdBQ\n",
      "Initializing ForkPoolWorker-3 [pid 120279]\n",
      "ForkPoolWorker-3: Created temporary directory /tmp/madlib_Tlt9UX62iO\n",
      "ForkPoolWorker-2: Connected to cerebro db.\n",
      "Initializing ForkPoolWorker-4 [pid 120287]\n",
      "ForkPoolWorker-4: Created temporary directory /tmp/madlib_DeZY5yzuYF\n",
      "ForkPoolWorker-3: Connected to cerebro db.\n",
      "Initializing ForkPoolWorker-5 [pid 120296]\n",
      "ForkPoolWorker-5: Connected to cerebro db.\n",
      "ForkPoolWorker-5: Created temporary directory /tmp/madlib_vnvXp1dXE0\n",
      "ForkPoolWorker-4: Connected to cerebro db.\n",
      "ForkPoolWorker-1: Wrote 1000 images to /tmp/madlib_UtkeUeMcVk/cifar_10_train_data0000.tmp\n",
      "ForkPoolWorker-2: Wrote 1000 images to /tmp/madlib_uYyMLvKdBQ/cifar_10_train_data0000.tmp\n",
      "ForkPoolWorker-3: Wrote 1000 images to /tmp/madlib_Tlt9UX62iO/cifar_10_train_data0000.tmp\n",
      "ForkPoolWorker-4: Wrote 1000 images to /tmp/madlib_DeZY5yzuYF/cifar_10_train_data0000.tmp\n",
      "ForkPoolWorker-5: Wrote 1000 images to /tmp/madlib_vnvXp1dXE0/cifar_10_train_data0000.tmp\n",
      "ForkPoolWorker-1: Loaded 1000 images into cifar_10_train_data\n",
      "ForkPoolWorker-2: Loaded 1000 images into cifar_10_train_data\n",
      "ForkPoolWorker-3: Loaded 1000 images into cifar_10_train_data\n",
      "ForkPoolWorker-4: Loaded 1000 images into cifar_10_train_data\n",
      "ForkPoolWorker-5: Loaded 1000 images into cifar_10_train_data\n",
      "ForkPoolWorker-1: Wrote 1000 images to /tmp/madlib_UtkeUeMcVk/cifar_10_train_data0001.tmp\n",
      "ForkPoolWorker-2: Wrote 1000 images to /tmp/madlib_uYyMLvKdBQ/cifar_10_train_data0001.tmp\n",
      "ForkPoolWorker-3: Wrote 1000 images to /tmp/madlib_Tlt9UX62iO/cifar_10_train_data0001.tmp\n",
      "ForkPoolWorker-4: Wrote 1000 images to /tmp/madlib_DeZY5yzuYF/cifar_10_train_data0001.tmp\n",
      "ForkPoolWorker-5: Wrote 1000 images to /tmp/madlib_vnvXp1dXE0/cifar_10_train_data0001.tmp\n",
      "ForkPoolWorker-1: Loaded 1000 images into cifar_10_train_data\n",
      "ForkPoolWorker-2: Loaded 1000 images into cifar_10_train_data\n",
      "ForkPoolWorker-3: Loaded 1000 images into cifar_10_train_data\n",
      "ForkPoolWorker-4: Loaded 1000 images into cifar_10_train_data\n",
      "ForkPoolWorker-5: Loaded 1000 images into cifar_10_train_data\n",
      "ForkPoolWorker-1: Wrote 1000 images to /tmp/madlib_UtkeUeMcVk/cifar_10_train_data0002.tmp\n",
      "ForkPoolWorker-2: Wrote 1000 images to /tmp/madlib_uYyMLvKdBQ/cifar_10_train_data0002.tmp\n",
      "ForkPoolWorker-3: Wrote 1000 images to /tmp/madlib_Tlt9UX62iO/cifar_10_train_data0002.tmp\n",
      "ForkPoolWorker-4: Wrote 1000 images to /tmp/madlib_DeZY5yzuYF/cifar_10_train_data0002.tmp\n",
      "ForkPoolWorker-5: Wrote 1000 images to /tmp/madlib_vnvXp1dXE0/cifar_10_train_data0002.tmp\n",
      "ForkPoolWorker-1: Loaded 1000 images into cifar_10_train_data\n",
      "ForkPoolWorker-2: Loaded 1000 images into cifar_10_train_data\n",
      "ForkPoolWorker-3: Loaded 1000 images into cifar_10_train_data\n",
      "ForkPoolWorker-4: Loaded 1000 images into cifar_10_train_data\n",
      "ForkPoolWorker-5: Loaded 1000 images into cifar_10_train_data\n",
      "ForkPoolWorker-1: Wrote 1000 images to /tmp/madlib_UtkeUeMcVk/cifar_10_train_data0003.tmp\n",
      "ForkPoolWorker-2: Wrote 1000 images to /tmp/madlib_uYyMLvKdBQ/cifar_10_train_data0003.tmp\n",
      "ForkPoolWorker-3: Wrote 1000 images to /tmp/madlib_Tlt9UX62iO/cifar_10_train_data0003.tmp\n",
      "ForkPoolWorker-4: Wrote 1000 images to /tmp/madlib_DeZY5yzuYF/cifar_10_train_data0003.tmp\n",
      "ForkPoolWorker-5: Wrote 1000 images to /tmp/madlib_vnvXp1dXE0/cifar_10_train_data0003.tmp\n",
      "ForkPoolWorker-1: Loaded 1000 images into cifar_10_train_data\n",
      "ForkPoolWorker-2: Loaded 1000 images into cifar_10_train_data\n",
      "ForkPoolWorker-3: Loaded 1000 images into cifar_10_train_data\n",
      "ForkPoolWorker-4: Loaded 1000 images into cifar_10_train_data\n",
      "ForkPoolWorker-5: Loaded 1000 images into cifar_10_train_data\n",
      "ForkPoolWorker-1: Wrote 1000 images to /tmp/madlib_UtkeUeMcVk/cifar_10_train_data0004.tmp\n",
      "ForkPoolWorker-2: Wrote 1000 images to /tmp/madlib_uYyMLvKdBQ/cifar_10_train_data0004.tmp\n",
      "ForkPoolWorker-3: Wrote 1000 images to /tmp/madlib_Tlt9UX62iO/cifar_10_train_data0004.tmp\n",
      "ForkPoolWorker-4: Wrote 1000 images to /tmp/madlib_DeZY5yzuYF/cifar_10_train_data0004.tmp\n",
      "ForkPoolWorker-5: Wrote 1000 images to /tmp/madlib_vnvXp1dXE0/cifar_10_train_data0004.tmp\n",
      "ForkPoolWorker-1: Loaded 1000 images into cifar_10_train_data\n",
      "ForkPoolWorker-2: Loaded 1000 images into cifar_10_train_data\n",
      "ForkPoolWorker-3: Loaded 1000 images into cifar_10_train_data\n",
      "ForkPoolWorker-4: Loaded 1000 images into cifar_10_train_data\n",
      "ForkPoolWorker-5: Loaded 1000 images into cifar_10_train_data\n",
      "ForkPoolWorker-1: Wrote 1000 images to /tmp/madlib_UtkeUeMcVk/cifar_10_train_data0005.tmp\n",
      "ForkPoolWorker-2: Wrote 1000 images to /tmp/madlib_uYyMLvKdBQ/cifar_10_train_data0005.tmp\n",
      "ForkPoolWorker-3: Wrote 1000 images to /tmp/madlib_Tlt9UX62iO/cifar_10_train_data0005.tmp\n",
      "ForkPoolWorker-4: Wrote 1000 images to /tmp/madlib_DeZY5yzuYF/cifar_10_train_data0005.tmp\n",
      "ForkPoolWorker-5: Wrote 1000 images to /tmp/madlib_vnvXp1dXE0/cifar_10_train_data0005.tmp\n",
      "ForkPoolWorker-1: Loaded 1000 images into cifar_10_train_data\n",
      "ForkPoolWorker-2: Loaded 1000 images into cifar_10_train_data\n",
      "ForkPoolWorker-3: Loaded 1000 images into cifar_10_train_data\n",
      "ForkPoolWorker-4: Loaded 1000 images into cifar_10_train_data\n",
      "ForkPoolWorker-5: Loaded 1000 images into cifar_10_train_data\n",
      "ForkPoolWorker-1: Wrote 1000 images to /tmp/madlib_UtkeUeMcVk/cifar_10_train_data0006.tmp\n",
      "ForkPoolWorker-2: Wrote 1000 images to /tmp/madlib_uYyMLvKdBQ/cifar_10_train_data0006.tmp\n",
      "ForkPoolWorker-3: Wrote 1000 images to /tmp/madlib_Tlt9UX62iO/cifar_10_train_data0006.tmp\n",
      "ForkPoolWorker-4: Wrote 1000 images to /tmp/madlib_DeZY5yzuYF/cifar_10_train_data0006.tmp\n",
      "ForkPoolWorker-5: Wrote 1000 images to /tmp/madlib_vnvXp1dXE0/cifar_10_train_data0006.tmp\n",
      "ForkPoolWorker-1: Loaded 1000 images into cifar_10_train_data\n",
      "ForkPoolWorker-2: Loaded 1000 images into cifar_10_train_data\n",
      "ForkPoolWorker-3: Loaded 1000 images into cifar_10_train_data\n",
      "ForkPoolWorker-4: Loaded 1000 images into cifar_10_train_data\n",
      "ForkPoolWorker-5: Loaded 1000 images into cifar_10_train_data\n",
      "ForkPoolWorker-1: Wrote 1000 images to /tmp/madlib_UtkeUeMcVk/cifar_10_train_data0007.tmp\n",
      "ForkPoolWorker-2: Wrote 1000 images to /tmp/madlib_uYyMLvKdBQ/cifar_10_train_data0007.tmp\n",
      "ForkPoolWorker-3: Wrote 1000 images to /tmp/madlib_Tlt9UX62iO/cifar_10_train_data0007.tmp\n",
      "ForkPoolWorker-4: Wrote 1000 images to /tmp/madlib_DeZY5yzuYF/cifar_10_train_data0007.tmp\n",
      "ForkPoolWorker-5: Wrote 1000 images to /tmp/madlib_vnvXp1dXE0/cifar_10_train_data0007.tmp\n",
      "ForkPoolWorker-1: Loaded 1000 images into cifar_10_train_data\n",
      "ForkPoolWorker-2: Loaded 1000 images into cifar_10_train_data\n",
      "ForkPoolWorker-3: Loaded 1000 images into cifar_10_train_data\n",
      "ForkPoolWorker-4: Loaded 1000 images into cifar_10_train_data\n",
      "ForkPoolWorker-5: Loaded 1000 images into cifar_10_train_data\n",
      "ForkPoolWorker-1: Wrote 1000 images to /tmp/madlib_UtkeUeMcVk/cifar_10_train_data0008.tmp\n",
      "ForkPoolWorker-2: Wrote 1000 images to /tmp/madlib_uYyMLvKdBQ/cifar_10_train_data0008.tmp\n",
      "ForkPoolWorker-3: Wrote 1000 images to /tmp/madlib_Tlt9UX62iO/cifar_10_train_data0008.tmp\n",
      "ForkPoolWorker-4: Wrote 1000 images to /tmp/madlib_DeZY5yzuYF/cifar_10_train_data0008.tmp\n",
      "ForkPoolWorker-5: Wrote 1000 images to /tmp/madlib_vnvXp1dXE0/cifar_10_train_data0008.tmp\n",
      "ForkPoolWorker-1: Loaded 1000 images into cifar_10_train_data\n",
      "ForkPoolWorker-2: Loaded 1000 images into cifar_10_train_data\n",
      "ForkPoolWorker-3: Loaded 1000 images into cifar_10_train_data\n",
      "ForkPoolWorker-4: Loaded 1000 images into cifar_10_train_data\n",
      "ForkPoolWorker-5: Loaded 1000 images into cifar_10_train_data\n",
      "ForkPoolWorker-1: Wrote 1000 images to /tmp/madlib_UtkeUeMcVk/cifar_10_train_data0009.tmp\n",
      "ForkPoolWorker-2: Wrote 1000 images to /tmp/madlib_uYyMLvKdBQ/cifar_10_train_data0009.tmp\n",
      "ForkPoolWorker-1: Loaded 1000 images into cifar_10_train_data\n",
      "ForkPoolWorker-2: Loaded 1000 images into cifar_10_train_data\n",
      "ForkPoolWorker-1: Wrote 1000 images to /tmp/madlib_UtkeUeMcVk/cifar_10_train_data0010.tmp\n"
     ]
    },
    {
     "name": "stdout",
     "output_type": "stream",
     "text": [
      "ForkPoolWorker-2: Wrote 1000 images to /tmp/madlib_uYyMLvKdBQ/cifar_10_train_data0010.tmp\n",
      "ForkPoolWorker-1: Loaded 1000 images into cifar_10_train_data\n",
      "ForkPoolWorker-2: Loaded 1000 images into cifar_10_train_data\n",
      "ForkPoolWorker-1: Wrote 1000 images to /tmp/madlib_UtkeUeMcVk/cifar_10_train_data0011.tmp\n",
      "ForkPoolWorker-1: Loaded 1000 images into cifar_10_train_data\n",
      "ForkPoolWorker-3: Removed temporary directory /tmp/madlib_Tlt9UX62iO\n",
      "ForkPoolWorker-5: Removed temporary directory /tmp/madlib_vnvXp1dXE0\n",
      "ForkPoolWorker-4: Removed temporary directory /tmp/madlib_DeZY5yzuYF\n",
      "ForkPoolWorker-2: Removed temporary directory /tmp/madlib_uYyMLvKdBQ\n",
      "ForkPoolWorker-1: Removed temporary directory /tmp/madlib_UtkeUeMcVk\n",
      "Done!  Loaded 50000 images in 33.17561364173889s\n",
      "5 workers terminated.\n",
      "MainProcess: Connected to cerebro db.\n",
      "Executing: CREATE TABLE cifar_10_test_data (id SERIAL, x REAL[], y TEXT)\n",
      "CREATE TABLE\n",
      "Created table cifar_10_test_data in cerebro db\n",
      "Spawning 5 workers...\n",
      "Initializing ForkPoolWorker-6 [pid 120531]\n",
      "ForkPoolWorker-6: Created temporary directory /tmp/madlib_CCxh6J0YZZ\n",
      "ForkPoolWorker-6: Connected to cerebro db.\n",
      "Initializing ForkPoolWorker-7 [pid 120534]\n",
      "ForkPoolWorker-7: Created temporary directory /tmp/madlib_83TogIOsVw\n",
      "Initializing ForkPoolWorker-8 [pid 120541]\n",
      "ForkPoolWorker-7: Connected to cerebro db.\n",
      "ForkPoolWorker-8: Created temporary directory /tmp/madlib_4mrJ0vlnjL\n",
      "Initializing ForkPoolWorker-9 [pid 120550]\n",
      "ForkPoolWorker-8: Connected to cerebro db.\n",
      "ForkPoolWorker-9: Created temporary directory /tmp/madlib_0VDholMVyt\n",
      "Initializing ForkPoolWorker-10 [pid 120559]\n",
      "ForkPoolWorker-10: Created temporary directory /tmp/madlib_tRxpygZQ6n\n",
      "ForkPoolWorker-9: Connected to cerebro db.\n",
      "ForkPoolWorker-10: Connected to cerebro db.\n",
      "ForkPoolWorker-6: Wrote 1000 images to /tmp/madlib_CCxh6J0YZZ/cifar_10_test_data0000.tmp\n",
      "ForkPoolWorker-7: Wrote 1000 images to /tmp/madlib_83TogIOsVw/cifar_10_test_data0000.tmp\n",
      "ForkPoolWorker-8: Wrote 1000 images to /tmp/madlib_4mrJ0vlnjL/cifar_10_test_data0000.tmp\n",
      "ForkPoolWorker-9: Wrote 1000 images to /tmp/madlib_0VDholMVyt/cifar_10_test_data0000.tmp\n",
      "ForkPoolWorker-10: Wrote 1000 images to /tmp/madlib_tRxpygZQ6n/cifar_10_test_data0000.tmp\n",
      "ForkPoolWorker-6: Loaded 1000 images into cifar_10_test_data\n",
      "ForkPoolWorker-7: Loaded 1000 images into cifar_10_test_data\n",
      "ForkPoolWorker-8: Loaded 1000 images into cifar_10_test_data\n",
      "ForkPoolWorker-9: Loaded 1000 images into cifar_10_test_data\n",
      "ForkPoolWorker-10: Loaded 1000 images into cifar_10_test_data\n",
      "ForkPoolWorker-6: Wrote 1000 images to /tmp/madlib_CCxh6J0YZZ/cifar_10_test_data0001.tmp\n",
      "ForkPoolWorker-7: Wrote 1000 images to /tmp/madlib_83TogIOsVw/cifar_10_test_data0001.tmp\n",
      "ForkPoolWorker-8: Wrote 1000 images to /tmp/madlib_4mrJ0vlnjL/cifar_10_test_data0001.tmp\n",
      "ForkPoolWorker-10: Wrote 1000 images to /tmp/madlib_tRxpygZQ6n/cifar_10_test_data0001.tmp\n",
      "ForkPoolWorker-9: Wrote 1000 images to /tmp/madlib_0VDholMVyt/cifar_10_test_data0001.tmp\n",
      "ForkPoolWorker-6: Loaded 1000 images into cifar_10_test_data\n",
      "ForkPoolWorker-7: Loaded 1000 images into cifar_10_test_data\n",
      "ForkPoolWorker-8: Loaded 1000 images into cifar_10_test_data\n",
      "ForkPoolWorker-10: Loaded 1000 images into cifar_10_test_data\n",
      "ForkPoolWorker-9: Loaded 1000 images into cifar_10_test_data\n",
      "ForkPoolWorker-6: Removed temporary directory /tmp/madlib_CCxh6J0YZZ\n",
      "ForkPoolWorker-9: Removed temporary directory /tmp/madlib_0VDholMVyt\n",
      "ForkPoolWorker-8: Removed temporary directory /tmp/madlib_4mrJ0vlnjL\n",
      "ForkPoolWorker-7: Removed temporary directory /tmp/madlib_83TogIOsVw\n",
      "ForkPoolWorker-10: Removed temporary directory /tmp/madlib_tRxpygZQ6n\n",
      "Done!  Loaded 10000 images in 6.120592355728149s\n",
      "5 workers terminated.\n"
     ]
    }
   ],
   "source": [
    "(x_train, y_train), (x_test, y_test) = cifar10.load_data()\n",
    "%sql DROP TABLE IF EXISTS cifar_10_train_data, cifar_10_test_data;\n",
    "\n",
    "# Save images to temporary directories and load into database\n",
    "iloader.load_dataset_from_np(x_train, y_train, 'cifar_10_train_data', append=False)\n",
    "iloader.load_dataset_from_np(x_test, y_test, 'cifar_10_test_data', append=False)"
   ]
  },
  {
   "cell_type": "code",
   "execution_count": 9,
   "metadata": {
    "ExecuteTime": {
     "end_time": "2020-04-14T18:29:32.717361Z",
     "start_time": "2020-04-14T18:29:32.565643Z"
    }
   },
   "outputs": [
    {
     "name": "stdout",
     "output_type": "stream",
     "text": [
      " * postgresql://gpadmin@localhost:5432/cerebro\n",
      "1 rows affected.\n"
     ]
    },
    {
     "data": {
      "text/html": [
       "<table>\n",
       "    <tr>\n",
       "        <th>count</th>\n",
       "    </tr>\n",
       "    <tr>\n",
       "        <td>50000</td>\n",
       "    </tr>\n",
       "</table>"
      ],
      "text/plain": [
       "[(50000,)]"
      ]
     },
     "execution_count": 9,
     "metadata": {},
     "output_type": "execute_result"
    }
   ],
   "source": [
    "%%sql\n",
    "SELECT COUNT(*) FROM cifar_10_train_data;"
   ]
  },
  {
   "cell_type": "code",
   "execution_count": 13,
   "metadata": {},
   "outputs": [
    {
     "name": "stdout",
     "output_type": "stream",
     "text": [
      "1 rows affected.\n"
     ]
    },
    {
     "data": {
      "text/html": [
       "<table>\n",
       "    <tr>\n",
       "        <th>count</th>\n",
       "    </tr>\n",
       "    <tr>\n",
       "        <td>10000</td>\n",
       "    </tr>\n",
       "</table>"
      ],
      "text/plain": [
       "[(10000L,)]"
      ]
     },
     "execution_count": 13,
     "metadata": {},
     "output_type": "execute_result"
    }
   ],
   "source": [
    "%%sql\n",
    "SELECT COUNT(*) FROM cifar_10_test_data;"
   ]
  },
  {
   "cell_type": "markdown",
   "metadata": {},
   "source": [
    "<a id=\"file_system\"></a>\n",
    "# 3. Load from file system\n",
    "\n",
    "Uses the Python Imaging Library so supports multiple formats\n",
    "http://www.pythonware.com/products/pil/\n",
    "\n",
    "<em>load_dataset_from_disk(root_dir, table_name, num_labels='all', append=False)</em>\n",
    "\n",
    "- Calling this function  will look in <em>root_dir</em> on the local disk of wherever this is being run.  It will skip over any files in that directory, but will load images contained in each of its subdirectories.  The images should be organized by category/class, where the name of each subdirectory is the label for the images contained within it.\n",
    "\n",
    "\n",
    "- The <em>table_name</em> and <em>append</em> parameters are the same as above  The parameter <em>num_labels</em> is an optional parameter which can be used to restrict the number of labels (image classes) loaded, even if more are found in <em>root_dir</em>.  For example, for a large dataset you may have hundreds of labels, but only wish to use a subset of that containing a few dozen.\n",
    "\n",
    "For example, if we put the CIFAR-10 training data is in 10 subdirectories under directory <em>cifar10</em>, with one subdirectory for each class:"
   ]
  },
  {
   "cell_type": "code",
   "execution_count": 14,
   "metadata": {},
   "outputs": [
    {
     "name": "stdout",
     "output_type": "stream",
     "text": [
      "Done.\n",
      "MainProcess: Connected to madlib db.\n",
      "Executing: CREATE TABLE cifar_10_train_data_filesystem (id SERIAL, x REAL[], y TEXT,                        img_name TEXT)\n",
      "CREATE TABLE\n",
      "Created table cifar_10_train_data_filesystem in madlib db\n",
      ".DS_Store is not a directory, skipping\n",
      "number of labels = 10\n",
      "Found 10 image labels in /Users/fmcquillan/tmp/cifar10\n",
      "Spawning 5 workers...\n",
      "Initializing PoolWorker-11 [pid 82438]\n",
      "PoolWorker-11: Created temporary directory /tmp/madlib_aEC1lF2HqL\n",
      "Initializing PoolWorker-12 [pid 82439]\n",
      "PoolWorker-12: Created temporary directory /tmp/madlib_70qpwFzzqW\n",
      "Initializing PoolWorker-13 [pid 82440]\n",
      "PoolWorker-13: Created temporary directory /tmp/madlib_r2u4Zo5bPt\n",
      "PoolWorker-11: Connected to madlib db.\n",
      "Initializing PoolWorker-14 [pid 82441]\n",
      "PoolWorker-12: Connected to madlib db.\n",
      "PoolWorker-14: Created temporary directory /tmp/madlib_aTPESoNjVi\n",
      "Initializing PoolWorker-15 [pid 82443]\n",
      "PoolWorker-13: Connected to madlib db.\n",
      "PoolWorker-15: Created temporary directory /tmp/madlib_rhVwjLTbWI\n",
      "PoolWorker-14: Connected to madlib db.\n",
      "PoolWorker-15: Connected to madlib db.\n",
      "PoolWorker-13: Wrote 1000 images to /tmp/madlib_r2u4Zo5bPt/cifar_10_train_data_filesystem0000.tmp\n",
      "PoolWorker-14: Wrote 1000 images to /tmp/madlib_aTPESoNjVi/cifar_10_train_data_filesystem0000.tmp\n",
      "PoolWorker-12: Wrote 1000 images to /tmp/madlib_70qpwFzzqW/cifar_10_train_data_filesystem0000.tmp\n",
      "PoolWorker-11: Wrote 1000 images to /tmp/madlib_aEC1lF2HqL/cifar_10_train_data_filesystem0000.tmp\n",
      "PoolWorker-15: Wrote 1000 images to /tmp/madlib_rhVwjLTbWI/cifar_10_train_data_filesystem0000.tmp\n",
      "PoolWorker-13: Loaded 1000 images into cifar_10_train_data_filesystem\n",
      "PoolWorker-14: Loaded 1000 images into cifar_10_train_data_filesystem\n",
      "PoolWorker-11: Loaded 1000 images into cifar_10_train_data_filesystem\n",
      "PoolWorker-12: Loaded 1000 images into cifar_10_train_data_filesystem\n",
      "PoolWorker-15: Loaded 1000 images into cifar_10_train_data_filesystem\n",
      "PoolWorker-14: Wrote 1000 images to /tmp/madlib_aTPESoNjVi/cifar_10_train_data_filesystem0001.tmp\n",
      "PoolWorker-11: Wrote 1000 images to /tmp/madlib_aEC1lF2HqL/cifar_10_train_data_filesystem0001.tmp\n",
      "PoolWorker-13: Wrote 1000 images to /tmp/madlib_r2u4Zo5bPt/cifar_10_train_data_filesystem0001.tmp\n",
      "PoolWorker-15: Wrote 1000 images to /tmp/madlib_rhVwjLTbWI/cifar_10_train_data_filesystem0001.tmp\n",
      "PoolWorker-12: Wrote 1000 images to /tmp/madlib_70qpwFzzqW/cifar_10_train_data_filesystem0001.tmp\n",
      "PoolWorker-14: Loaded 1000 images into cifar_10_train_data_filesystem\n",
      "PoolWorker-11: Loaded 1000 images into cifar_10_train_data_filesystem\n",
      "PoolWorker-13: Loaded 1000 images into cifar_10_train_data_filesystem\n",
      "PoolWorker-15: Loaded 1000 images into cifar_10_train_data_filesystem\n",
      "PoolWorker-12: Loaded 1000 images into cifar_10_train_data_filesystem\n",
      "PoolWorker-14: Wrote 1000 images to /tmp/madlib_aTPESoNjVi/cifar_10_train_data_filesystem0002.tmp\n",
      "PoolWorker-15: Wrote 1000 images to /tmp/madlib_rhVwjLTbWI/cifar_10_train_data_filesystem0002.tmp\n",
      "PoolWorker-13: Wrote 1000 images to /tmp/madlib_r2u4Zo5bPt/cifar_10_train_data_filesystem0002.tmp\n",
      "PoolWorker-11: Wrote 1000 images to /tmp/madlib_aEC1lF2HqL/cifar_10_train_data_filesystem0002.tmp\n",
      "PoolWorker-12: Wrote 1000 images to /tmp/madlib_70qpwFzzqW/cifar_10_train_data_filesystem0002.tmp\n",
      "PoolWorker-14: Loaded 1000 images into cifar_10_train_data_filesystem\n",
      "PoolWorker-11: Loaded 1000 images into cifar_10_train_data_filesystem\n",
      "PoolWorker-15: Loaded 1000 images into cifar_10_train_data_filesystem\n",
      "PoolWorker-13: Loaded 1000 images into cifar_10_train_data_filesystem\n",
      "PoolWorker-12: Loaded 1000 images into cifar_10_train_data_filesystem\n",
      "PoolWorker-15: Wrote 1000 images to /tmp/madlib_rhVwjLTbWI/cifar_10_train_data_filesystem0003.tmp\n",
      "PoolWorker-14: Wrote 1000 images to /tmp/madlib_aTPESoNjVi/cifar_10_train_data_filesystem0003.tmp\n",
      "PoolWorker-13: Wrote 1000 images to /tmp/madlib_r2u4Zo5bPt/cifar_10_train_data_filesystem0003.tmp\n",
      "PoolWorker-12: Wrote 1000 images to /tmp/madlib_70qpwFzzqW/cifar_10_train_data_filesystem0003.tmp\n",
      "PoolWorker-11: Wrote 1000 images to /tmp/madlib_aEC1lF2HqL/cifar_10_train_data_filesystem0003.tmp\n",
      "PoolWorker-15: Loaded 1000 images into cifar_10_train_data_filesystem\n",
      "PoolWorker-14: Loaded 1000 images into cifar_10_train_data_filesystem\n",
      "PoolWorker-13: Loaded 1000 images into cifar_10_train_data_filesystem\n",
      "PoolWorker-11: Loaded 1000 images into cifar_10_train_data_filesystem\n",
      "PoolWorker-12: Loaded 1000 images into cifar_10_train_data_filesystem\n",
      "PoolWorker-15: Wrote 1000 images to /tmp/madlib_rhVwjLTbWI/cifar_10_train_data_filesystem0004.tmp\n",
      "PoolWorker-14: Wrote 1000 images to /tmp/madlib_aTPESoNjVi/cifar_10_train_data_filesystem0004.tmp\n",
      "PoolWorker-12: Wrote 1000 images to /tmp/madlib_70qpwFzzqW/cifar_10_train_data_filesystem0004.tmp\n",
      "PoolWorker-13: Wrote 1000 images to /tmp/madlib_r2u4Zo5bPt/cifar_10_train_data_filesystem0004.tmp\n",
      "PoolWorker-11: Wrote 1000 images to /tmp/madlib_aEC1lF2HqL/cifar_10_train_data_filesystem0004.tmp\n",
      "PoolWorker-14: Loaded 1000 images into cifar_10_train_data_filesystem\n",
      "PoolWorker-15: Loaded 1000 images into cifar_10_train_data_filesystem\n",
      "PoolWorker-12: Loaded 1000 images into cifar_10_train_data_filesystem\n",
      "PoolWorker-11: Loaded 1000 images into cifar_10_train_data_filesystem\n",
      "PoolWorker-13: Loaded 1000 images into cifar_10_train_data_filesystem\n",
      "PoolWorker-15: Wrote 1000 images to /tmp/madlib_rhVwjLTbWI/cifar_10_train_data_filesystem0005.tmp\n",
      "PoolWorker-14: Wrote 1000 images to /tmp/madlib_aTPESoNjVi/cifar_10_train_data_filesystem0005.tmp\n",
      "PoolWorker-12: Wrote 1000 images to /tmp/madlib_70qpwFzzqW/cifar_10_train_data_filesystem0005.tmp\n",
      "PoolWorker-11: Wrote 1000 images to /tmp/madlib_aEC1lF2HqL/cifar_10_train_data_filesystem0005.tmp\n",
      "PoolWorker-13: Wrote 1000 images to /tmp/madlib_r2u4Zo5bPt/cifar_10_train_data_filesystem0005.tmp\n",
      "PoolWorker-14: Loaded 1000 images into cifar_10_train_data_filesystem\n",
      "PoolWorker-15: Loaded 1000 images into cifar_10_train_data_filesystem\n",
      "PoolWorker-12: Loaded 1000 images into cifar_10_train_data_filesystem\n",
      "PoolWorker-13: Loaded 1000 images into cifar_10_train_data_filesystem\n",
      "PoolWorker-11: Loaded 1000 images into cifar_10_train_data_filesystem\n",
      "PoolWorker-15: Wrote 1000 images to /tmp/madlib_rhVwjLTbWI/cifar_10_train_data_filesystem0006.tmp\n",
      "PoolWorker-14: Wrote 1000 images to /tmp/madlib_aTPESoNjVi/cifar_10_train_data_filesystem0006.tmp\n",
      "PoolWorker-12: Wrote 1000 images to /tmp/madlib_70qpwFzzqW/cifar_10_train_data_filesystem0006.tmp\n",
      "PoolWorker-13: Wrote 1000 images to /tmp/madlib_r2u4Zo5bPt/cifar_10_train_data_filesystem0006.tmp\n",
      "PoolWorker-11: Wrote 1000 images to /tmp/madlib_aEC1lF2HqL/cifar_10_train_data_filesystem0006.tmp\n",
      "PoolWorker-15: Loaded 1000 images into cifar_10_train_data_filesystem\n",
      "PoolWorker-14: Loaded 1000 images into cifar_10_train_data_filesystem\n",
      "PoolWorker-12: Loaded 1000 images into cifar_10_train_data_filesystem\n",
      "PoolWorker-11: Loaded 1000 images into cifar_10_train_data_filesystem\n",
      "PoolWorker-13: Loaded 1000 images into cifar_10_train_data_filesystem\n",
      "PoolWorker-15: Wrote 1000 images to /tmp/madlib_rhVwjLTbWI/cifar_10_train_data_filesystem0007.tmp\n",
      "PoolWorker-14: Wrote 1000 images to /tmp/madlib_aTPESoNjVi/cifar_10_train_data_filesystem0007.tmp\n",
      "PoolWorker-12: Wrote 1000 images to /tmp/madlib_70qpwFzzqW/cifar_10_train_data_filesystem0007.tmp\n",
      "PoolWorker-13: Wrote 1000 images to /tmp/madlib_r2u4Zo5bPt/cifar_10_train_data_filesystem0007.tmp\n",
      "PoolWorker-11: Wrote 1000 images to /tmp/madlib_aEC1lF2HqL/cifar_10_train_data_filesystem0007.tmp\n",
      "PoolWorker-15: Loaded 1000 images into cifar_10_train_data_filesystem\n",
      "PoolWorker-14: Loaded 1000 images into cifar_10_train_data_filesystem\n",
      "PoolWorker-12: Loaded 1000 images into cifar_10_train_data_filesystem\n",
      "PoolWorker-13: Loaded 1000 images into cifar_10_train_data_filesystem\n",
      "PoolWorker-11: Loaded 1000 images into cifar_10_train_data_filesystem\n",
      "PoolWorker-14: Wrote 1000 images to /tmp/madlib_aTPESoNjVi/cifar_10_train_data_filesystem0008.tmp\n",
      "PoolWorker-15: Wrote 1000 images to /tmp/madlib_rhVwjLTbWI/cifar_10_train_data_filesystem0008.tmp\n",
      "PoolWorker-12: Wrote 1000 images to /tmp/madlib_70qpwFzzqW/cifar_10_train_data_filesystem0008.tmp\n",
      "PoolWorker-13: Wrote 1000 images to /tmp/madlib_r2u4Zo5bPt/cifar_10_train_data_filesystem0008.tmp\n"
     ]
    },
    {
     "name": "stdout",
     "output_type": "stream",
     "text": [
      "PoolWorker-11: Wrote 1000 images to /tmp/madlib_aEC1lF2HqL/cifar_10_train_data_filesystem0008.tmp\n",
      "PoolWorker-14: Loaded 1000 images into cifar_10_train_data_filesystem\n",
      "PoolWorker-15: Loaded 1000 images into cifar_10_train_data_filesystem\n",
      "PoolWorker-12: Loaded 1000 images into cifar_10_train_data_filesystem\n",
      "PoolWorker-13: Loaded 1000 images into cifar_10_train_data_filesystem\n",
      "PoolWorker-11: Loaded 1000 images into cifar_10_train_data_filesystem\n",
      "PoolWorker-14: Wrote 1000 images to /tmp/madlib_aTPESoNjVi/cifar_10_train_data_filesystem0009.tmp\n",
      "PoolWorker-15: Wrote 1000 images to /tmp/madlib_rhVwjLTbWI/cifar_10_train_data_filesystem0009.tmp\n",
      "PoolWorker-12: Wrote 1000 images to /tmp/madlib_70qpwFzzqW/cifar_10_train_data_filesystem0009.tmp\n",
      "PoolWorker-13: Wrote 1000 images to /tmp/madlib_r2u4Zo5bPt/cifar_10_train_data_filesystem0009.tmp\n",
      "PoolWorker-11: Wrote 1000 images to /tmp/madlib_aEC1lF2HqL/cifar_10_train_data_filesystem0009.tmp\n",
      "PoolWorker-14: Loaded 1000 images into cifar_10_train_data_filesystem\n",
      "PoolWorker-12: Loaded 1000 images into cifar_10_train_data_filesystem\n",
      "PoolWorker-15: Loaded 1000 images into cifar_10_train_data_filesystem\n",
      "PoolWorker-13: Loaded 1000 images into cifar_10_train_data_filesystem\n",
      "PoolWorker-11: Loaded 1000 images into cifar_10_train_data_filesystem\n",
      "PoolWorker-12: Removed temporary directory /tmp/madlib_70qpwFzzqW\n",
      "PoolWorker-13: Removed temporary directory /tmp/madlib_r2u4Zo5bPt\n",
      "PoolWorker-15: Removed temporary directory /tmp/madlib_rhVwjLTbWI\n",
      "PoolWorker-11: Removed temporary directory /tmp/madlib_aEC1lF2HqL\n",
      "PoolWorker-14: Removed temporary directory /tmp/madlib_aTPESoNjVi\n",
      "Done!  Loaded 10 image categories in 27.9927430153s\n",
      "5 workers terminated.\n"
     ]
    }
   ],
   "source": [
    "%sql drop table if exists cifar_10_train_data_filesystem;\n",
    "# Load images from file system\n",
    "iloader.load_dataset_from_disk('/Users/fmcquillan/tmp/cifar10', 'cifar_10_train_data_filesystem', num_labels='all', append=False)"
   ]
  },
  {
   "cell_type": "code",
   "execution_count": 15,
   "metadata": {},
   "outputs": [
    {
     "name": "stdout",
     "output_type": "stream",
     "text": [
      "1 rows affected.\n"
     ]
    },
    {
     "data": {
      "text/html": [
       "<table>\n",
       "    <tr>\n",
       "        <th>count</th>\n",
       "    </tr>\n",
       "    <tr>\n",
       "        <td>50000</td>\n",
       "    </tr>\n",
       "</table>"
      ],
      "text/plain": [
       "[(50000L,)]"
      ]
     },
     "execution_count": 15,
     "metadata": {},
     "output_type": "execute_result"
    }
   ],
   "source": [
    "%%sql\n",
    "SELECT COUNT(*) FROM cifar_10_train_data_filesystem;"
   ]
  }
 ],
 "metadata": {
  "kernelspec": {
   "display_name": "Python 3",
   "language": "python",
   "name": "python3"
  },
  "language_info": {
   "codemirror_mode": {
    "name": "ipython",
    "version": 3
   },
   "file_extension": ".py",
   "mimetype": "text/x-python",
   "name": "python",
   "nbconvert_exporter": "python",
   "pygments_lexer": "ipython3",
   "version": "3.5.2"
  }
 },
 "nbformat": 4,
 "nbformat_minor": 2
}
