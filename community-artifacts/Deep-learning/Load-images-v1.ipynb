{
 "cells": [
  {
   "cell_type": "markdown",
   "metadata": {},
   "source": [
    "# Load images into table\n",
    "\n",
    "This demonstrates different ways to load images into a database table.\n",
    "\n",
    "We use the script called <em>madlib_image_loader.py</em> located at https://github.com/apache/madlib-site/tree/asf-site/community-artifacts/Deep-learning which uses the Python Imaging Library so supports multiple formats http://www.pythonware.com/products/pil/\n",
    "\n",
    "## Table of contents\n",
    "\n",
    "<a href=\"#setup\">1. Setup image loader</a>\n",
    "\n",
    "<a href=\"#fetch_numpy\">2. Fetch images then load NumPy array into table</a>\n",
    "\n",
    "<a href=\"#file_system\">3. Load from file system into table</a>"
   ]
  },
  {
   "cell_type": "code",
   "execution_count": 1,
   "metadata": {
    "ExecuteTime": {
     "end_time": "2020-04-18T00:48:47.162139Z",
     "start_time": "2020-04-18T00:48:45.710009Z"
    }
   },
   "outputs": [
    {
     "name": "stderr",
     "output_type": "stream",
     "text": [
      "Using TensorFlow backend.\n",
      "/usr/local/lib/python3.5/dist-packages/tensorflow/python/framework/dtypes.py:516: FutureWarning: Passing (type, 1) or '1type' as a synonym of type is deprecated; in a future version of numpy, it will be understood as (type, (1,)) / '(1,)type'.\n",
      "  _np_qint8 = np.dtype([(\"qint8\", np.int8, 1)])\n",
      "/usr/local/lib/python3.5/dist-packages/tensorflow/python/framework/dtypes.py:517: FutureWarning: Passing (type, 1) or '1type' as a synonym of type is deprecated; in a future version of numpy, it will be understood as (type, (1,)) / '(1,)type'.\n",
      "  _np_quint8 = np.dtype([(\"quint8\", np.uint8, 1)])\n",
      "/usr/local/lib/python3.5/dist-packages/tensorflow/python/framework/dtypes.py:518: FutureWarning: Passing (type, 1) or '1type' as a synonym of type is deprecated; in a future version of numpy, it will be understood as (type, (1,)) / '(1,)type'.\n",
      "  _np_qint16 = np.dtype([(\"qint16\", np.int16, 1)])\n",
      "/usr/local/lib/python3.5/dist-packages/tensorflow/python/framework/dtypes.py:519: FutureWarning: Passing (type, 1) or '1type' as a synonym of type is deprecated; in a future version of numpy, it will be understood as (type, (1,)) / '(1,)type'.\n",
      "  _np_quint16 = np.dtype([(\"quint16\", np.uint16, 1)])\n",
      "/usr/local/lib/python3.5/dist-packages/tensorflow/python/framework/dtypes.py:520: FutureWarning: Passing (type, 1) or '1type' as a synonym of type is deprecated; in a future version of numpy, it will be understood as (type, (1,)) / '(1,)type'.\n",
      "  _np_qint32 = np.dtype([(\"qint32\", np.int32, 1)])\n",
      "/usr/local/lib/python3.5/dist-packages/tensorflow/python/framework/dtypes.py:525: FutureWarning: Passing (type, 1) or '1type' as a synonym of type is deprecated; in a future version of numpy, it will be understood as (type, (1,)) / '(1,)type'.\n",
      "  np_resource = np.dtype([(\"resource\", np.ubyte, 1)])\n",
      "/usr/local/lib/python3.5/dist-packages/tensorboard/compat/tensorflow_stub/dtypes.py:541: FutureWarning: Passing (type, 1) or '1type' as a synonym of type is deprecated; in a future version of numpy, it will be understood as (type, (1,)) / '(1,)type'.\n",
      "  _np_qint8 = np.dtype([(\"qint8\", np.int8, 1)])\n",
      "/usr/local/lib/python3.5/dist-packages/tensorboard/compat/tensorflow_stub/dtypes.py:542: FutureWarning: Passing (type, 1) or '1type' as a synonym of type is deprecated; in a future version of numpy, it will be understood as (type, (1,)) / '(1,)type'.\n",
      "  _np_quint8 = np.dtype([(\"quint8\", np.uint8, 1)])\n",
      "/usr/local/lib/python3.5/dist-packages/tensorboard/compat/tensorflow_stub/dtypes.py:543: FutureWarning: Passing (type, 1) or '1type' as a synonym of type is deprecated; in a future version of numpy, it will be understood as (type, (1,)) / '(1,)type'.\n",
      "  _np_qint16 = np.dtype([(\"qint16\", np.int16, 1)])\n",
      "/usr/local/lib/python3.5/dist-packages/tensorboard/compat/tensorflow_stub/dtypes.py:544: FutureWarning: Passing (type, 1) or '1type' as a synonym of type is deprecated; in a future version of numpy, it will be understood as (type, (1,)) / '(1,)type'.\n",
      "  _np_quint16 = np.dtype([(\"quint16\", np.uint16, 1)])\n",
      "/usr/local/lib/python3.5/dist-packages/tensorboard/compat/tensorflow_stub/dtypes.py:545: FutureWarning: Passing (type, 1) or '1type' as a synonym of type is deprecated; in a future version of numpy, it will be understood as (type, (1,)) / '(1,)type'.\n",
      "  _np_qint32 = np.dtype([(\"qint32\", np.int32, 1)])\n",
      "/usr/local/lib/python3.5/dist-packages/tensorboard/compat/tensorflow_stub/dtypes.py:550: FutureWarning: Passing (type, 1) or '1type' as a synonym of type is deprecated; in a future version of numpy, it will be understood as (type, (1,)) / '(1,)type'.\n",
      "  np_resource = np.dtype([(\"resource\", np.ubyte, 1)])\n"
     ]
    }
   ],
   "source": [
    "import sys\n",
    "sys.path.append('/home/gpadmin/.local/lib/python3.5/site-packages/')\n",
    "import h5py\n",
    "import numpy as np\n",
    "import psycopg2\n",
    "import glob\n",
    "import os\n",
    "from keras.datasets import cifar10\n",
    "\n",
    "from madlib_image_loader import ImageLoader, DbCredentials\n",
    "\n",
    "\n",
    "class ImageNetLoader(object):\n",
    "    def __init__(self, db_creds, num_workers=1):\n",
    "        self.connection = psycopg2.connect(user=db_creds.user,\n",
    "                                           password=db_creds.password,\n",
    "                                           host=db_creds.host,\n",
    "                                           port=db_creds.port,\n",
    "                                           database=db_creds.db_name)\n",
    "        self.connection.autocommit = True\n",
    "        self.cursor = self.connection.cursor()\n",
    "        self.iloader = ImageLoader(num_workers=num_workers, db_creds=db_creds)\n",
    "    def drop_table(self, name):\n",
    "        self.cursor.execute(\"DROP TABLE IF EXISTS {}\".format(name)) \n",
    "    def load_one(self, file_path, name, force=False):\n",
    "        print (\"Loading {}\".format(file_path))\n",
    "        exists = self.if_exists_table(name)\n",
    "        if exists and not force:\n",
    "            raise Exception(\"Table {} already exists!\".format(name))\n",
    "        h5f = h5py.File(file_path, 'r')\n",
    "        np_images = np.asarray(h5f.get(\"images\"))\n",
    "        np_labels = np.eye(1000)[np.asarray(h5f.get(\"labels\")).astype(int)]\n",
    "        \n",
    "        self.iloader.load_dataset_from_np(np_images, np_labels, name, append=exists)\n",
    "    def load_many(self, file_list, name, force=False):\n",
    "        exists = self.if_exists_table(name)\n",
    "        if exists and not force:\n",
    "            raise Exception(\"Table {} already exists!\".format(name))\n",
    "        for file_path in file_list:\n",
    "            self.load_one(file_path, name, True)\n",
    "    def if_exists_table(self, name):\n",
    "        res = None\n",
    "        try:\n",
    "            self.cursor.execute(\"SELECT '{}'::regclass\".format(name))\n",
    "            res = self.cursor.fetchone()\n",
    "        except Exception:\n",
    "            pass\n",
    "        return res is not None\n",
    "\n",
    "def get_all_h5(fdir):\n",
    "    return sorted(glob.glob(os.path.join(fdir, '*.h5')))\n",
    "# if __name__ == \"__main__\":\n",
    "    \n",
    "#     db_creds = DbCredentials(db_name='cerebro',\n",
    "#         user='gpadmin',\n",
    "#                               host='localhost',\n",
    "#                               port='5432',\n",
    "#                               password='')\n",
    "#     imagenet_loader = ImageNetLoader(db_creds, 16)\n",
    "#     train_root = '/mnt/imagenet/train'\n",
    "#     valid_root = '/mnt/imagenet/valid'\n",
    "#     name_list = ['imagenet_train_data', 'imagenet_valid_data']\n",
    "#     file_list_list = [get_all_h5(train_root), get_all_h5(valid_root)]\n",
    "#     for name, file_list in zip(name_list, file_list_list):\n",
    "#         imagenet_loader.drop_table(name)\n",
    "#         imagenet_loader.load_many(file_list, name)"
   ]
  },
  {
   "cell_type": "code",
   "execution_count": 1,
   "metadata": {
    "ExecuteTime": {
     "end_time": "2020-04-17T21:30:31.608017Z",
     "start_time": "2020-04-17T21:30:31.235639Z"
    }
   },
   "outputs": [],
   "source": [
    "import sys\n",
    "import h5py\n",
    "import numpy as np\n",
    "import psycopg2\n",
    "import glob"
   ]
  },
  {
   "cell_type": "code",
   "execution_count": 2,
   "metadata": {
    "ExecuteTime": {
     "end_time": "2020-04-17T21:30:32.431853Z",
     "start_time": "2020-04-17T21:30:32.427708Z"
    }
   },
   "outputs": [],
   "source": [
    "sys.path.append('/home/gpadmin/.local/lib/python3.5/site-packages/')"
   ]
  },
  {
   "cell_type": "code",
   "execution_count": 4,
   "metadata": {
    "ExecuteTime": {
     "end_time": "2020-04-17T19:40:28.124390Z",
     "start_time": "2020-04-17T19:40:28.011802Z"
    }
   },
   "outputs": [],
   "source": [
    "%load_ext sql"
   ]
  },
  {
   "cell_type": "code",
   "execution_count": 5,
   "metadata": {
    "ExecuteTime": {
     "end_time": "2020-04-17T19:40:29.233033Z",
     "start_time": "2020-04-17T19:40:29.115262Z"
    }
   },
   "outputs": [
    {
     "data": {
      "text/plain": [
       "'Connected: gpadmin@cerebro'"
      ]
     },
     "execution_count": 5,
     "metadata": {},
     "output_type": "execute_result"
    }
   ],
   "source": [
    "# Greenplum Database 5.x on GCP for deep learning (PM demo machine)\n",
    "#%sql postgresql://gpadmin@35.239.240.26:5432/madlib\n",
    "        \n",
    "# PostgreSQL local\n",
    "%sql postgresql://gpadmin@localhost:5432/cerebro"
   ]
  },
  {
   "cell_type": "code",
   "execution_count": 6,
   "metadata": {
    "ExecuteTime": {
     "end_time": "2020-04-17T19:40:31.286406Z",
     "start_time": "2020-04-17T19:40:31.267365Z"
    }
   },
   "outputs": [
    {
     "name": "stdout",
     "output_type": "stream",
     "text": [
      " * postgresql://gpadmin@localhost:5432/cerebro\n",
      "1 rows affected.\n"
     ]
    },
    {
     "data": {
      "text/html": [
       "<table>\n",
       "    <tr>\n",
       "        <th>version</th>\n",
       "    </tr>\n",
       "    <tr>\n",
       "        <td>MADlib version: 1.17.0, git revision: rel/v1.17.0, cmake configuration time: Fri Apr 17 06:35:28 UTC 2020, build type: RelWithDebInfo, build system: Linux-4.4.0-174-generic, C compiler: gcc 5.4.0, C++ compiler: g++ 5.4.0</td>\n",
       "    </tr>\n",
       "</table>"
      ],
      "text/plain": [
       "[('MADlib version: 1.17.0, git revision: rel/v1.17.0, cmake configuration time: Fri Apr 17 06:35:28 UTC 2020, build type: RelWithDebInfo, build system: Linux-4.4.0-174-generic, C compiler: gcc 5.4.0, C++ compiler: g++ 5.4.0',)]"
      ]
     },
     "execution_count": 6,
     "metadata": {},
     "output_type": "execute_result"
    }
   ],
   "source": [
    "%sql select madlib.version();\n",
    "#%sql select version();"
   ]
  },
  {
   "cell_type": "markdown",
   "metadata": {},
   "source": [
    "<a id=\"setup\"></a>\n",
    "# 1. Set up image loader\n",
    "\n",
    "We use the script called <em>madlib_image_loader.py</em> located at https://github.com/apache/madlib-site/tree/asf-site/community-artifacts/Deep-learning"
   ]
  },
  {
   "cell_type": "code",
   "execution_count": 3,
   "metadata": {
    "ExecuteTime": {
     "end_time": "2020-04-17T21:30:52.951677Z",
     "start_time": "2020-04-17T21:30:50.115592Z"
    }
   },
   "outputs": [
    {
     "name": "stderr",
     "output_type": "stream",
     "text": [
      "Using TensorFlow backend.\n",
      "/usr/local/lib/python3.5/dist-packages/tensorflow/python/framework/dtypes.py:516: FutureWarning: Passing (type, 1) or '1type' as a synonym of type is deprecated; in a future version of numpy, it will be understood as (type, (1,)) / '(1,)type'.\n",
      "  _np_qint8 = np.dtype([(\"qint8\", np.int8, 1)])\n",
      "/usr/local/lib/python3.5/dist-packages/tensorflow/python/framework/dtypes.py:517: FutureWarning: Passing (type, 1) or '1type' as a synonym of type is deprecated; in a future version of numpy, it will be understood as (type, (1,)) / '(1,)type'.\n",
      "  _np_quint8 = np.dtype([(\"quint8\", np.uint8, 1)])\n",
      "/usr/local/lib/python3.5/dist-packages/tensorflow/python/framework/dtypes.py:518: FutureWarning: Passing (type, 1) or '1type' as a synonym of type is deprecated; in a future version of numpy, it will be understood as (type, (1,)) / '(1,)type'.\n",
      "  _np_qint16 = np.dtype([(\"qint16\", np.int16, 1)])\n",
      "/usr/local/lib/python3.5/dist-packages/tensorflow/python/framework/dtypes.py:519: FutureWarning: Passing (type, 1) or '1type' as a synonym of type is deprecated; in a future version of numpy, it will be understood as (type, (1,)) / '(1,)type'.\n",
      "  _np_quint16 = np.dtype([(\"quint16\", np.uint16, 1)])\n",
      "/usr/local/lib/python3.5/dist-packages/tensorflow/python/framework/dtypes.py:520: FutureWarning: Passing (type, 1) or '1type' as a synonym of type is deprecated; in a future version of numpy, it will be understood as (type, (1,)) / '(1,)type'.\n",
      "  _np_qint32 = np.dtype([(\"qint32\", np.int32, 1)])\n",
      "/usr/local/lib/python3.5/dist-packages/tensorflow/python/framework/dtypes.py:525: FutureWarning: Passing (type, 1) or '1type' as a synonym of type is deprecated; in a future version of numpy, it will be understood as (type, (1,)) / '(1,)type'.\n",
      "  np_resource = np.dtype([(\"resource\", np.ubyte, 1)])\n",
      "/usr/local/lib/python3.5/dist-packages/tensorboard/compat/tensorflow_stub/dtypes.py:541: FutureWarning: Passing (type, 1) or '1type' as a synonym of type is deprecated; in a future version of numpy, it will be understood as (type, (1,)) / '(1,)type'.\n",
      "  _np_qint8 = np.dtype([(\"qint8\", np.int8, 1)])\n",
      "/usr/local/lib/python3.5/dist-packages/tensorboard/compat/tensorflow_stub/dtypes.py:542: FutureWarning: Passing (type, 1) or '1type' as a synonym of type is deprecated; in a future version of numpy, it will be understood as (type, (1,)) / '(1,)type'.\n",
      "  _np_quint8 = np.dtype([(\"quint8\", np.uint8, 1)])\n",
      "/usr/local/lib/python3.5/dist-packages/tensorboard/compat/tensorflow_stub/dtypes.py:543: FutureWarning: Passing (type, 1) or '1type' as a synonym of type is deprecated; in a future version of numpy, it will be understood as (type, (1,)) / '(1,)type'.\n",
      "  _np_qint16 = np.dtype([(\"qint16\", np.int16, 1)])\n",
      "/usr/local/lib/python3.5/dist-packages/tensorboard/compat/tensorflow_stub/dtypes.py:544: FutureWarning: Passing (type, 1) or '1type' as a synonym of type is deprecated; in a future version of numpy, it will be understood as (type, (1,)) / '(1,)type'.\n",
      "  _np_quint16 = np.dtype([(\"quint16\", np.uint16, 1)])\n",
      "/usr/local/lib/python3.5/dist-packages/tensorboard/compat/tensorflow_stub/dtypes.py:545: FutureWarning: Passing (type, 1) or '1type' as a synonym of type is deprecated; in a future version of numpy, it will be understood as (type, (1,)) / '(1,)type'.\n",
      "  _np_qint32 = np.dtype([(\"qint32\", np.int32, 1)])\n",
      "/usr/local/lib/python3.5/dist-packages/tensorboard/compat/tensorflow_stub/dtypes.py:550: FutureWarning: Passing (type, 1) or '1type' as a synonym of type is deprecated; in a future version of numpy, it will be understood as (type, (1,)) / '(1,)type'.\n",
      "  np_resource = np.dtype([(\"resource\", np.ubyte, 1)])\n"
     ]
    }
   ],
   "source": [
    "import sys\n",
    "import os\n",
    "from keras.datasets import cifar10\n",
    "\n",
    "# madlib_site_dir = '/Users/fmcquillan/Documents/Product/MADlib/Demos/data'\n",
    "# sys.path.append(madlib_site_dir)\n",
    "\n",
    "# Import image loader module\n",
    "from madlib_image_loader import ImageLoader, DbCredentials\n",
    "\n",
    "# Specify database credentials, for connecting to db\n",
    "#db_creds = DbCredentials(user='gpadmin',\n",
    "#                         host='35.239.240.26',\n",
    "#                         port='5432',\n",
    "#                         password='')\n",
    "\n",
    "# Specify database credentials, for connecting to db\n",
    "db_creds = DbCredentials(db_name='cerebro',\n",
    "    user='gpadmin',\n",
    "                          host='localhost',\n",
    "                          port='5432',\n",
    "                          password='')\n",
    "# connection = psycopg2.connect(user = db_creds.user,\n",
    "#                                   password = db_creds.password,\n",
    "#                                   host = db_creds.host,\n",
    "#                                   port = db_creds.port,\n",
    "#                                   database = db_creds.db_name)\n",
    "# connection.autocommit = True\n",
    "# cursor = connection.cursor()\n",
    "# Initialize ImageLoader (increase num_workers to run faster)\n"
   ]
  },
  {
   "cell_type": "markdown",
   "metadata": {},
   "source": [
    "<a id=\"fetch_numpy\"></a>\n",
    "# 2. Fetch images then load NumPy array into table\n",
    "\n",
    "<em>iloader.load_dataset_from_np(data_x, data_y, table_name, append=False)</em>\n",
    "\n",
    "- <em>data_x</em> contains image data in np.array format\n",
    "\n",
    "\n",
    "- <em>data_y</em> is a 1D np.array of the image categories (labels).\n",
    "\n",
    "\n",
    "- If the user passes a <em>table_name</em> while creating ImageLoader object, it will be used for all further calls to load_dataset_from_np.  It can be changed by passing it as a parameter during the actual call to load_dataset_from_np, and if so future calls will load to that table name instead.  This avoids needing to pass the table_name again every time, but also allows it to be changed at any time."
   ]
  },
  {
   "cell_type": "code",
   "execution_count": 11,
   "metadata": {
    "ExecuteTime": {
     "end_time": "2020-04-17T21:58:07.993388Z",
     "start_time": "2020-04-17T21:58:07.975637Z"
    }
   },
   "outputs": [],
   "source": [
    "class ImageNetLoader(object):\n",
    "    def __init__(self, db_creds, num_workers=1):\n",
    "        self.connection = psycopg2.connect(user=db_creds.user,\n",
    "                                           password=db_creds.password,\n",
    "                                           host=db_creds.host,\n",
    "                                           port=db_creds.port,\n",
    "                                           database=db_creds.db_name)\n",
    "        self.connection.autocommit = True\n",
    "        self.cursor = self.connection.cursor()\n",
    "        self.iloader = ImageLoader(num_workers=num_workers, db_creds=db_creds)\n",
    "    def drop_table(self, name):\n",
    "        self.cursor.execute(\"DROP TABLE IF EXISTS {}\".format(name)) \n",
    "    def load_one(self, file_path, name, force=False):\n",
    "        print (\"Loading {}\".format(file_path))\n",
    "        exists = self.if_exists_table(name)\n",
    "        if exists and not force:\n",
    "            raise Exception(\"Table {} already exists!\".format(name))\n",
    "        h5f = h5py.File(file_path, 'r')\n",
    "        np_images = np.asarray(h5f.get(\"images\"))\n",
    "        np_labels = np.eye(1000)[np.asarray(h5f.get(\"labels\")).astype(int)]\n",
    "        \n",
    "        self.iloader.load_dataset_from_np(np_images, np_labels, name, append=exists)\n",
    "    def load_many(self, file_list, name, force=False):\n",
    "        exists = self.if_exists_table(name)\n",
    "        if exists and not force:\n",
    "            raise Exception(\"Table {} already exists!\".format(name))\n",
    "        for file_path in file_list:\n",
    "            self.load_one(file_path, name, True)\n",
    "    def if_exists_table(self, name):\n",
    "        res = None\n",
    "        try:\n",
    "            self.cursor.execute(\"SELECT '{}'::regclass\".format(name))\n",
    "            res = self.cursor.fetchone()\n",
    "        except Exception:\n",
    "            pass\n",
    "        return res is not None"
   ]
  },
  {
   "cell_type": "code",
   "execution_count": 12,
   "metadata": {
    "ExecuteTime": {
     "end_time": "2020-04-17T21:58:11.180682Z",
     "start_time": "2020-04-17T21:58:11.159275Z"
    }
   },
   "outputs": [],
   "source": [
    "imagenet_loader = ImageNetLoader(db_creds, 16)\n",
    "\n",
    "name = 'imagenet_train_data'\n",
    "file_path = '/mnt/imagenet/train/train_0.h5'\n",
    "\n",
    "imagenet_loader.load_one(file_path, name, True)\n",
    "\n",
    "train_root = '/mnt/imagenet/train'\n",
    "valid_root = '/mnt/imagenet/valid'\n",
    "name_list = ['imagenet_train_data', 'imagenet_valid_data']\n",
    "file_list_list = [glob.glob(os.path.join(train_root, '*.h5')), glob.glob(os.path.join(valid_root, '*.h5'))]\n",
    "for name, file_list in zip(name_list, file_list_list):\n",
    "    imagenet_loader.drop_table(name)\n",
    "    imagenet_loader.load_many(file_list, name)"
   ]
  },
  {
   "cell_type": "code",
   "execution_count": 31,
   "metadata": {
    "ExecuteTime": {
     "end_time": "2020-04-17T21:00:23.941172Z",
     "start_time": "2020-04-17T21:00:23.933762Z"
    }
   },
   "outputs": [],
   "source": []
  },
  {
   "cell_type": "code",
   "execution_count": 34,
   "metadata": {
    "ExecuteTime": {
     "end_time": "2020-04-17T21:03:44.761563Z",
     "start_time": "2020-04-17T21:03:44.755760Z"
    }
   },
   "outputs": [],
   "source": [
    "train_list = "
   ]
  },
  {
   "cell_type": "code",
   "execution_count": 42,
   "metadata": {
    "ExecuteTime": {
     "end_time": "2020-04-17T21:08:45.146155Z",
     "start_time": "2020-04-17T21:08:45.139170Z"
    }
   },
   "outputs": [],
   "source": []
  },
  {
   "cell_type": "code",
   "execution_count": 43,
   "metadata": {
    "ExecuteTime": {
     "end_time": "2020-04-17T21:08:45.471966Z",
     "start_time": "2020-04-17T21:08:45.466810Z"
    }
   },
   "outputs": [
    {
     "data": {
      "text/plain": [
       "('imagenet_train_data',)"
      ]
     },
     "execution_count": 43,
     "metadata": {},
     "output_type": "execute_result"
    }
   ],
   "source": []
  },
  {
   "cell_type": "code",
   "execution_count": null,
   "metadata": {},
   "outputs": [],
   "source": [
    "SELECT 'schema_name.table_name'::regclass\n"
   ]
  },
  {
   "cell_type": "code",
   "execution_count": 51,
   "metadata": {
    "ExecuteTime": {
     "end_time": "2020-04-17T21:16:07.799434Z",
     "start_time": "2020-04-17T21:16:07.791575Z"
    }
   },
   "outputs": [],
   "source": []
  },
  {
   "cell_type": "code",
   "execution_count": 52,
   "metadata": {
    "ExecuteTime": {
     "end_time": "2020-04-17T21:16:08.137527Z",
     "start_time": "2020-04-17T21:16:08.131644Z"
    }
   },
   "outputs": [
    {
     "data": {
      "text/plain": [
       "False"
      ]
     },
     "execution_count": 52,
     "metadata": {},
     "output_type": "execute_result"
    }
   ],
   "source": [
    "if_exists_table(cursor, 'tal')"
   ]
  },
  {
   "cell_type": "code",
   "execution_count": null,
   "metadata": {},
   "outputs": [],
   "source": [
    "def init_table()"
   ]
  },
  {
   "cell_type": "code",
   "execution_count": 27,
   "metadata": {
    "ExecuteTime": {
     "end_time": "2020-04-17T19:52:45.762209Z",
     "start_time": "2020-04-17T19:52:45.758477Z"
    }
   },
   "outputs": [],
   "source": []
  },
  {
   "cell_type": "code",
   "execution_count": 30,
   "metadata": {
    "ExecuteTime": {
     "end_time": "2020-04-17T20:22:27.774538Z",
     "start_time": "2020-04-17T20:07:56.638353Z"
    }
   },
   "outputs": [
    {
     "name": "stdout",
     "output_type": "stream",
     "text": [
      "Executing: CREATE TABLE imagenet_train_data (id SERIAL, x REAL[], y TEXT)\n",
      "CREATE TABLE\n",
      "Created table imagenet_train_data in cerebro db\n",
      "Spawning 16 workers...\n",
      "Initializing ForkPoolWorker-1 [pid 175721]\n",
      "ForkPoolWorker-1: Created temporary directory /mnt/madlib_1N7IcM8OpO\n",
      "ForkPoolWorker-1: Connected to cerebro db.\n",
      "Initializing ForkPoolWorker-2 [pid 175724]\n",
      "ForkPoolWorker-2: Created temporary directory /mnt/madlib_9IyBGdIay4\n",
      "Initializing ForkPoolWorker-3 [pid 175733]\n",
      "ForkPoolWorker-2: Connected to cerebro db.\n",
      "ForkPoolWorker-3: Created temporary directory /mnt/madlib_OlVzBf3iW6\n",
      "Initializing ForkPoolWorker-4 [pid 175742]\n",
      "ForkPoolWorker-3: Connected to cerebro db.\n",
      "ForkPoolWorker-4: Created temporary directory /mnt/madlib_PMTaXqdso3\n",
      "Initializing ForkPoolWorker-5 [pid 175751]\n",
      "ForkPoolWorker-4: Connected to cerebro db.\n",
      "ForkPoolWorker-5: Created temporary directory /mnt/madlib_Ylkz0bYo4K\n",
      "Initializing ForkPoolWorker-6 [pid 175760]\n",
      "ForkPoolWorker-5: Connected to cerebro db.\n",
      "ForkPoolWorker-6: Created temporary directory /mnt/madlib_wXxk19evsi\n",
      "Initializing ForkPoolWorker-7 [pid 175769]\n",
      "ForkPoolWorker-6: Connected to cerebro db.\n",
      "ForkPoolWorker-7: Created temporary directory /mnt/madlib_hMMK4xxgWY\n",
      "Initializing ForkPoolWorker-8 [pid 175778]\n",
      "ForkPoolWorker-8: Created temporary directory /mnt/madlib_X4jqceiKoH\n",
      "Initializing ForkPoolWorker-9 [pid 175783]\n",
      "ForkPoolWorker-7: Connected to cerebro db.\n",
      "ForkPoolWorker-9: Created temporary directory /mnt/madlib_LQhu8diW0x\n",
      "Initializing ForkPoolWorker-10 [pid 175792]\n",
      "ForkPoolWorker-8: Connected to cerebro db.\n",
      "ForkPoolWorker-10: Created temporary directory /mnt/madlib_ECsPZL00HW\n",
      "Initializing ForkPoolWorker-11 [pid 175801]\n",
      "ForkPoolWorker-9: Connected to cerebro db.\n",
      "ForkPoolWorker-11: Created temporary directory /mnt/madlib_aIiORdWyTR\n",
      "Initializing ForkPoolWorker-12 [pid 175810]\n",
      "ForkPoolWorker-10: Connected to cerebro db.\n",
      "ForkPoolWorker-12: Created temporary directory /mnt/madlib_I5ev9PSdBP\n",
      "Initializing ForkPoolWorker-13 [pid 175819]\n",
      "ForkPoolWorker-11: Connected to cerebro db.\n",
      "ForkPoolWorker-13: Created temporary directory /mnt/madlib_UNywEhg8MV\n",
      "Initializing ForkPoolWorker-14 [pid 175828]\n",
      "ForkPoolWorker-12: Connected to cerebro db.\n",
      "ForkPoolWorker-14: Created temporary directory /mnt/madlib_EKSqYlPo9z\n",
      "Initializing ForkPoolWorker-15 [pid 175837]\n",
      "ForkPoolWorker-13: Connected to cerebro db.\n",
      "ForkPoolWorker-14: Connected to cerebro db.\n",
      "ForkPoolWorker-15: Created temporary directory /mnt/madlib_8wZRr1UYpf\n",
      "Initializing ForkPoolWorker-16 [pid 175850]\n",
      "ForkPoolWorker-16: Created temporary directory /mnt/madlib_Bsku7rwohG\n",
      "ForkPoolWorker-15: Connected to cerebro db.\n",
      "ForkPoolWorker-16: Connected to cerebro db.\n",
      "ForkPoolWorker-1: Wrote 1000 images to /mnt/madlib_1N7IcM8OpO/imagenet_train_data0000.tmp\n",
      "ForkPoolWorker-2: Wrote 1000 images to /mnt/madlib_9IyBGdIay4/imagenet_train_data0000.tmp\n",
      "ForkPoolWorker-3: Wrote 1000 images to /mnt/madlib_OlVzBf3iW6/imagenet_train_data0000.tmp\n",
      "ForkPoolWorker-4: Wrote 1000 images to /mnt/madlib_PMTaXqdso3/imagenet_train_data0000.tmp\n",
      "ForkPoolWorker-5: Wrote 1000 images to /mnt/madlib_Ylkz0bYo4K/imagenet_train_data0000.tmp\n",
      "ForkPoolWorker-6: Wrote 1000 images to /mnt/madlib_wXxk19evsi/imagenet_train_data0000.tmp\n",
      "ForkPoolWorker-7: Wrote 1000 images to /mnt/madlib_hMMK4xxgWY/imagenet_train_data0000.tmp\n",
      "ForkPoolWorker-8: Wrote 1000 images to /mnt/madlib_X4jqceiKoH/imagenet_train_data0000.tmp\n",
      "ForkPoolWorker-1: Loaded 1000 images into imagenet_train_data\n",
      "ForkPoolWorker-2: Loaded 1000 images into imagenet_train_data\n",
      "ForkPoolWorker-3: Loaded 1000 images into imagenet_train_data\n",
      "ForkPoolWorker-4: Loaded 1000 images into imagenet_train_data\n",
      "ForkPoolWorker-9: Wrote 1000 images to /mnt/madlib_LQhu8diW0x/imagenet_train_data0000.tmp\n",
      "ForkPoolWorker-10: Wrote 1000 images to /mnt/madlib_ECsPZL00HW/imagenet_train_data0000.tmp\n",
      "ForkPoolWorker-11: Wrote 1000 images to /mnt/madlib_aIiORdWyTR/imagenet_train_data0000.tmp\n",
      "ForkPoolWorker-5: Loaded 1000 images into imagenet_train_data\n",
      "ForkPoolWorker-6: Loaded 1000 images into imagenet_train_data\n",
      "ForkPoolWorker-8: Loaded 1000 images into imagenet_train_data\n",
      "ForkPoolWorker-7: Loaded 1000 images into imagenet_train_data\n",
      "ForkPoolWorker-12: Wrote 1000 images to /mnt/madlib_I5ev9PSdBP/imagenet_train_data0000.tmp\n",
      "ForkPoolWorker-13: Wrote 1000 images to /mnt/madlib_UNywEhg8MV/imagenet_train_data0000.tmp\n",
      "ForkPoolWorker-9: Loaded 1000 images into imagenet_train_data\n",
      "ForkPoolWorker-14: Wrote 1000 images to /mnt/madlib_EKSqYlPo9z/imagenet_train_data0000.tmp\n",
      "ForkPoolWorker-15: Wrote 1000 images to /mnt/madlib_8wZRr1UYpf/imagenet_train_data0000.tmp\n",
      "ForkPoolWorker-10: Loaded 1000 images into imagenet_train_data\n",
      "ForkPoolWorker-11: Loaded 1000 images into imagenet_train_data\n",
      "ForkPoolWorker-12: Loaded 1000 images into imagenet_train_data\n",
      "ForkPoolWorker-16: Wrote 1000 images to /mnt/madlib_Bsku7rwohG/imagenet_train_data0000.tmp\n",
      "ForkPoolWorker-13: Loaded 1000 images into imagenet_train_data\n",
      "ForkPoolWorker-14: Loaded 1000 images into imagenet_train_data\n",
      "ForkPoolWorker-16: Loaded 1000 images into imagenet_train_data\n",
      "ForkPoolWorker-15: Loaded 1000 images into imagenet_train_data\n",
      "ForkPoolWorker-2: Wrote 1000 images to /mnt/madlib_9IyBGdIay4/imagenet_train_data0001.tmp\n",
      "ForkPoolWorker-1: Wrote 1000 images to /mnt/madlib_1N7IcM8OpO/imagenet_train_data0001.tmp\n",
      "ForkPoolWorker-4: Wrote 1000 images to /mnt/madlib_PMTaXqdso3/imagenet_train_data0001.tmp\n",
      "ForkPoolWorker-3: Wrote 1000 images to /mnt/madlib_OlVzBf3iW6/imagenet_train_data0001.tmp\n",
      "ForkPoolWorker-3: Loaded 1000 images into imagenet_train_data\n",
      "ForkPoolWorker-2: Loaded 1000 images into imagenet_train_data\n",
      "ForkPoolWorker-1: Loaded 1000 images into imagenet_train_data\n",
      "ForkPoolWorker-4: Loaded 1000 images into imagenet_train_data\n",
      "ForkPoolWorker-8: Wrote 1000 images to /mnt/madlib_X4jqceiKoH/imagenet_train_data0001.tmp\n",
      "ForkPoolWorker-7: Wrote 1000 images to /mnt/madlib_hMMK4xxgWY/imagenet_train_data0001.tmp\n",
      "ForkPoolWorker-6: Wrote 1000 images to /mnt/madlib_wXxk19evsi/imagenet_train_data0001.tmp\n",
      "ForkPoolWorker-5: Wrote 1000 images to /mnt/madlib_Ylkz0bYo4K/imagenet_train_data0001.tmp\n",
      "ForkPoolWorker-6: Loaded 1000 images into imagenet_train_data\n",
      "ForkPoolWorker-7: Loaded 1000 images into imagenet_train_data\n",
      "ForkPoolWorker-9: Wrote 1000 images to /mnt/madlib_LQhu8diW0x/imagenet_train_data0001.tmp\n",
      "ForkPoolWorker-8: Loaded 1000 images into imagenet_train_data\n",
      "ForkPoolWorker-5: Loaded 1000 images into imagenet_train_data\n",
      "ForkPoolWorker-10: Wrote 1000 images to /mnt/madlib_ECsPZL00HW/imagenet_train_data0001.tmp\n",
      "ForkPoolWorker-12: Wrote 1000 images to /mnt/madlib_I5ev9PSdBP/imagenet_train_data0001.tmp\n",
      "ForkPoolWorker-11: Wrote 1000 images to /mnt/madlib_aIiORdWyTR/imagenet_train_data0001.tmp\n",
      "ForkPoolWorker-9: Loaded 1000 images into imagenet_train_data\n",
      "ForkPoolWorker-10: Loaded 1000 images into imagenet_train_data\n",
      "ForkPoolWorker-13: Wrote 1000 images to /mnt/madlib_UNywEhg8MV/imagenet_train_data0001.tmp\n",
      "ForkPoolWorker-14: Wrote 1000 images to /mnt/madlib_EKSqYlPo9z/imagenet_train_data0001.tmp\n",
      "ForkPoolWorker-16: Wrote 1000 images to /mnt/madlib_Bsku7rwohG/imagenet_train_data0001.tmp\n",
      "ForkPoolWorker-15: Wrote 1000 images to /mnt/madlib_8wZRr1UYpf/imagenet_train_data0001.tmp\n",
      "ForkPoolWorker-13: Loaded 1000 images into imagenet_train_data\n",
      "ForkPoolWorker-12: Loaded 1000 images into imagenet_train_data\n",
      "ForkPoolWorker-11: Loaded 1000 images into imagenet_train_data\n",
      "ForkPoolWorker-14: Loaded 1000 images into imagenet_train_data\n",
      "ForkPoolWorker-16: Loaded 1000 images into imagenet_train_data\n",
      "ForkPoolWorker-15: Loaded 1000 images into imagenet_train_data\n",
      "ForkPoolWorker-2: Wrote 1000 images to /mnt/madlib_9IyBGdIay4/imagenet_train_data0002.tmp\n",
      "ForkPoolWorker-1: Wrote 1000 images to /mnt/madlib_1N7IcM8OpO/imagenet_train_data0002.tmp\n",
      "ForkPoolWorker-4: Wrote 1000 images to /mnt/madlib_PMTaXqdso3/imagenet_train_data0002.tmp\n",
      "ForkPoolWorker-3: Wrote 1000 images to /mnt/madlib_OlVzBf3iW6/imagenet_train_data0002.tmp\n",
      "ForkPoolWorker-8: Wrote 1000 images to /mnt/madlib_X4jqceiKoH/imagenet_train_data0002.tmp\n",
      "ForkPoolWorker-6: Wrote 1000 images to /mnt/madlib_wXxk19evsi/imagenet_train_data0002.tmp\n",
      "ForkPoolWorker-7: Wrote 1000 images to /mnt/madlib_hMMK4xxgWY/imagenet_train_data0002.tmp\n",
      "ForkPoolWorker-4: Loaded 1000 images into imagenet_train_data\n"
     ]
    },
    {
     "name": "stdout",
     "output_type": "stream",
     "text": [
      "ForkPoolWorker-2: Loaded 1000 images into imagenet_train_data\n",
      "ForkPoolWorker-1: Loaded 1000 images into imagenet_train_data\n",
      "ForkPoolWorker-3: Loaded 1000 images into imagenet_train_data\n",
      "ForkPoolWorker-5: Wrote 1000 images to /mnt/madlib_Ylkz0bYo4K/imagenet_train_data0002.tmp\n",
      "ForkPoolWorker-6: Loaded 1000 images into imagenet_train_data\n",
      "ForkPoolWorker-8: Loaded 1000 images into imagenet_train_data\n",
      "ForkPoolWorker-7: Loaded 1000 images into imagenet_train_data\n",
      "ForkPoolWorker-9: Wrote 1000 images to /mnt/madlib_LQhu8diW0x/imagenet_train_data0002.tmp\n",
      "ForkPoolWorker-5: Loaded 1000 images into imagenet_train_data\n",
      "ForkPoolWorker-10: Wrote 1000 images to /mnt/madlib_ECsPZL00HW/imagenet_train_data0002.tmp\n",
      "ForkPoolWorker-9: Loaded 1000 images into imagenet_train_data\n",
      "ForkPoolWorker-13: Wrote 1000 images to /mnt/madlib_UNywEhg8MV/imagenet_train_data0002.tmp\n",
      "ForkPoolWorker-12: Wrote 1000 images to /mnt/madlib_I5ev9PSdBP/imagenet_train_data0002.tmp\n",
      "ForkPoolWorker-11: Wrote 1000 images to /mnt/madlib_aIiORdWyTR/imagenet_train_data0002.tmp\n",
      "ForkPoolWorker-10: Loaded 1000 images into imagenet_train_data\n",
      "ForkPoolWorker-14: Wrote 1000 images to /mnt/madlib_EKSqYlPo9z/imagenet_train_data0002.tmp\n",
      "ForkPoolWorker-16: Wrote 1000 images to /mnt/madlib_Bsku7rwohG/imagenet_train_data0002.tmp\n",
      "ForkPoolWorker-15: Wrote 1000 images to /mnt/madlib_8wZRr1UYpf/imagenet_train_data0002.tmp\n",
      "ForkPoolWorker-11: Loaded 1000 images into imagenet_train_data\n",
      "ForkPoolWorker-13: Loaded 1000 images into imagenet_train_data\n",
      "ForkPoolWorker-12: Loaded 1000 images into imagenet_train_data\n",
      "ForkPoolWorker-14: Loaded 1000 images into imagenet_train_data\n",
      "ForkPoolWorker-16: Loaded 1000 images into imagenet_train_data\n",
      "ForkPoolWorker-15: Loaded 1000 images into imagenet_train_data\n",
      "ForkPoolWorker-4: Wrote 1000 images to /mnt/madlib_PMTaXqdso3/imagenet_train_data0003.tmp\n",
      "ForkPoolWorker-2: Wrote 1000 images to /mnt/madlib_9IyBGdIay4/imagenet_train_data0003.tmp\n",
      "ForkPoolWorker-1: Wrote 1000 images to /mnt/madlib_1N7IcM8OpO/imagenet_train_data0003.tmp\n",
      "ForkPoolWorker-3: Wrote 1000 images to /mnt/madlib_OlVzBf3iW6/imagenet_train_data0003.tmp\n",
      "ForkPoolWorker-6: Wrote 1000 images to /mnt/madlib_wXxk19evsi/imagenet_train_data0003.tmp\n",
      "ForkPoolWorker-4: Loaded 1000 images into imagenet_train_data\n",
      "ForkPoolWorker-8: Wrote 1000 images to /mnt/madlib_X4jqceiKoH/imagenet_train_data0003.tmp\n",
      "ForkPoolWorker-1: Loaded 1000 images into imagenet_train_data\n",
      "ForkPoolWorker-2: Loaded 1000 images into imagenet_train_data\n",
      "ForkPoolWorker-7: Wrote 1000 images to /mnt/madlib_hMMK4xxgWY/imagenet_train_data0003.tmp\n",
      "ForkPoolWorker-3: Loaded 1000 images into imagenet_train_data\n",
      "ForkPoolWorker-5: Wrote 1000 images to /mnt/madlib_Ylkz0bYo4K/imagenet_train_data0003.tmp\n",
      "ForkPoolWorker-9: Wrote 1000 images to /mnt/madlib_LQhu8diW0x/imagenet_train_data0003.tmp\n",
      "ForkPoolWorker-6: Loaded 1000 images into imagenet_train_data\n",
      "ForkPoolWorker-8: Loaded 1000 images into imagenet_train_data\n",
      "ForkPoolWorker-10: Wrote 1000 images to /mnt/madlib_ECsPZL00HW/imagenet_train_data0003.tmp\n",
      "ForkPoolWorker-7: Loaded 1000 images into imagenet_train_data\n",
      "ForkPoolWorker-5: Loaded 1000 images into imagenet_train_data\n",
      "ForkPoolWorker-11: Wrote 1000 images to /mnt/madlib_aIiORdWyTR/imagenet_train_data0003.tmp\n",
      "ForkPoolWorker-9: Loaded 1000 images into imagenet_train_data\n",
      "ForkPoolWorker-10: Loaded 1000 images into imagenet_train_data\n",
      "ForkPoolWorker-13: Wrote 1000 images to /mnt/madlib_UNywEhg8MV/imagenet_train_data0003.tmp\n",
      "ForkPoolWorker-12: Wrote 1000 images to /mnt/madlib_I5ev9PSdBP/imagenet_train_data0003.tmp\n",
      "ForkPoolWorker-11: Loaded 1000 images into imagenet_train_data\n",
      "ForkPoolWorker-14: Wrote 1000 images to /mnt/madlib_EKSqYlPo9z/imagenet_train_data0003.tmp\n",
      "ForkPoolWorker-16: Wrote 1000 images to /mnt/madlib_Bsku7rwohG/imagenet_train_data0003.tmp\n",
      "ForkPoolWorker-15: Wrote 1000 images to /mnt/madlib_8wZRr1UYpf/imagenet_train_data0003.tmp\n",
      "ForkPoolWorker-13: Loaded 1000 images into imagenet_train_data\n",
      "ForkPoolWorker-12: Loaded 1000 images into imagenet_train_data\n",
      "ForkPoolWorker-14: Loaded 1000 images into imagenet_train_data\n",
      "ForkPoolWorker-16: Loaded 1000 images into imagenet_train_data\n",
      "ForkPoolWorker-15: Loaded 1000 images into imagenet_train_data\n",
      "ForkPoolWorker-4: Wrote 1000 images to /mnt/madlib_PMTaXqdso3/imagenet_train_data0004.tmp\n",
      "ForkPoolWorker-1: Wrote 1000 images to /mnt/madlib_1N7IcM8OpO/imagenet_train_data0004.tmp\n",
      "ForkPoolWorker-2: Wrote 1000 images to /mnt/madlib_9IyBGdIay4/imagenet_train_data0004.tmp\n",
      "ForkPoolWorker-3: Wrote 1000 images to /mnt/madlib_OlVzBf3iW6/imagenet_train_data0004.tmp\n",
      "ForkPoolWorker-8: Wrote 1000 images to /mnt/madlib_X4jqceiKoH/imagenet_train_data0004.tmp\n",
      "ForkPoolWorker-6: Wrote 1000 images to /mnt/madlib_wXxk19evsi/imagenet_train_data0004.tmp\n",
      "ForkPoolWorker-2: Loaded 1000 images into imagenet_train_data\n",
      "ForkPoolWorker-1: Loaded 1000 images into imagenet_train_data\n",
      "ForkPoolWorker-4: Loaded 1000 images into imagenet_train_data\n",
      "ForkPoolWorker-7: Wrote 1000 images to /mnt/madlib_hMMK4xxgWY/imagenet_train_data0004.tmp\n",
      "ForkPoolWorker-3: Loaded 1000 images into imagenet_train_data\n",
      "ForkPoolWorker-5: Wrote 1000 images to /mnt/madlib_Ylkz0bYo4K/imagenet_train_data0004.tmp\n",
      "ForkPoolWorker-9: Wrote 1000 images to /mnt/madlib_LQhu8diW0x/imagenet_train_data0004.tmp\n",
      "ForkPoolWorker-8: Loaded 1000 images into imagenet_train_data\n",
      "ForkPoolWorker-10: Wrote 1000 images to /mnt/madlib_ECsPZL00HW/imagenet_train_data0004.tmp\n",
      "ForkPoolWorker-6: Loaded 1000 images into imagenet_train_data\n",
      "ForkPoolWorker-7: Loaded 1000 images into imagenet_train_data\n",
      "ForkPoolWorker-5: Loaded 1000 images into imagenet_train_data\n",
      "ForkPoolWorker-11: Wrote 1000 images to /mnt/madlib_aIiORdWyTR/imagenet_train_data0004.tmp\n",
      "ForkPoolWorker-9: Loaded 1000 images into imagenet_train_data\n",
      "ForkPoolWorker-10: Loaded 1000 images into imagenet_train_data\n",
      "ForkPoolWorker-13: Wrote 1000 images to /mnt/madlib_UNywEhg8MV/imagenet_train_data0004.tmp\n",
      "ForkPoolWorker-11: Loaded 1000 images into imagenet_train_data\n",
      "ForkPoolWorker-12: Wrote 1000 images to /mnt/madlib_I5ev9PSdBP/imagenet_train_data0004.tmp\n",
      "ForkPoolWorker-14: Wrote 1000 images to /mnt/madlib_EKSqYlPo9z/imagenet_train_data0004.tmp\n",
      "ForkPoolWorker-16: Wrote 1000 images to /mnt/madlib_Bsku7rwohG/imagenet_train_data0004.tmp\n",
      "ForkPoolWorker-13: Loaded 1000 images into imagenet_train_data\n",
      "ForkPoolWorker-12: Loaded 1000 images into imagenet_train_data\n",
      "ForkPoolWorker-14: Loaded 1000 images into imagenet_train_data\n",
      "ForkPoolWorker-16: Loaded 1000 images into imagenet_train_data\n",
      "ForkPoolWorker-15: Wrote 1000 images to /mnt/madlib_8wZRr1UYpf/imagenet_train_data0004.tmp\n",
      "ForkPoolWorker-15: Loaded 1000 images into imagenet_train_data\n",
      "ForkPoolWorker-4: Wrote 1000 images to /mnt/madlib_PMTaXqdso3/imagenet_train_data0005.tmp\n",
      "ForkPoolWorker-2: Wrote 1000 images to /mnt/madlib_9IyBGdIay4/imagenet_train_data0005.tmp\n",
      "ForkPoolWorker-1: Wrote 1000 images to /mnt/madlib_1N7IcM8OpO/imagenet_train_data0005.tmp\n",
      "ForkPoolWorker-3: Wrote 1000 images to /mnt/madlib_OlVzBf3iW6/imagenet_train_data0005.tmp\n",
      "ForkPoolWorker-8: Wrote 1000 images to /mnt/madlib_X4jqceiKoH/imagenet_train_data0005.tmp\n",
      "ForkPoolWorker-4: Loaded 1000 images into imagenet_train_data\n",
      "ForkPoolWorker-6: Wrote 1000 images to /mnt/madlib_wXxk19evsi/imagenet_train_data0005.tmp\n",
      "ForkPoolWorker-7: Wrote 1000 images to /mnt/madlib_hMMK4xxgWY/imagenet_train_data0005.tmp\n",
      "ForkPoolWorker-1: Loaded 1000 images into imagenet_train_data\n",
      "ForkPoolWorker-2: Loaded 1000 images into imagenet_train_data\n",
      "ForkPoolWorker-10: Wrote 1000 images to /mnt/madlib_ECsPZL00HW/imagenet_train_data0005.tmp\n",
      "ForkPoolWorker-5: Wrote 1000 images to /mnt/madlib_Ylkz0bYo4K/imagenet_train_data0005.tmp\n",
      "ForkPoolWorker-3: Loaded 1000 images into imagenet_train_data\n",
      "ForkPoolWorker-8: Loaded 1000 images into imagenet_train_data\n",
      "ForkPoolWorker-7: Loaded 1000 images into imagenet_train_data\n",
      "ForkPoolWorker-6: Loaded 1000 images into imagenet_train_data\n",
      "ForkPoolWorker-9: Wrote 1000 images to /mnt/madlib_LQhu8diW0x/imagenet_train_data0005.tmp\n",
      "ForkPoolWorker-10: Loaded 1000 images into imagenet_train_data\n",
      "ForkPoolWorker-11: Wrote 1000 images to /mnt/madlib_aIiORdWyTR/imagenet_train_data0005.tmp\n",
      "ForkPoolWorker-5: Loaded 1000 images into imagenet_train_data\n"
     ]
    },
    {
     "name": "stdout",
     "output_type": "stream",
     "text": [
      "ForkPoolWorker-9: Loaded 1000 images into imagenet_train_data\n",
      "ForkPoolWorker-14: Wrote 1000 images to /mnt/madlib_EKSqYlPo9z/imagenet_train_data0005.tmp\n",
      "ForkPoolWorker-12: Wrote 1000 images to /mnt/madlib_I5ev9PSdBP/imagenet_train_data0005.tmp\n",
      "ForkPoolWorker-16: Wrote 1000 images to /mnt/madlib_Bsku7rwohG/imagenet_train_data0005.tmp\n",
      "ForkPoolWorker-11: Loaded 1000 images into imagenet_train_data\n",
      "ForkPoolWorker-13: Wrote 1000 images to /mnt/madlib_UNywEhg8MV/imagenet_train_data0005.tmp\n",
      "ForkPoolWorker-14: Loaded 1000 images into imagenet_train_data\n",
      "ForkPoolWorker-12: Loaded 1000 images into imagenet_train_data\n",
      "ForkPoolWorker-16: Loaded 1000 images into imagenet_train_data\n",
      "ForkPoolWorker-13: Loaded 1000 images into imagenet_train_data\n",
      "ForkPoolWorker-15: Wrote 1000 images to /mnt/madlib_8wZRr1UYpf/imagenet_train_data0005.tmp\n",
      "ForkPoolWorker-15: Loaded 1000 images into imagenet_train_data\n",
      "ForkPoolWorker-4: Wrote 1000 images to /mnt/madlib_PMTaXqdso3/imagenet_train_data0006.tmp\n",
      "ForkPoolWorker-1: Wrote 1000 images to /mnt/madlib_1N7IcM8OpO/imagenet_train_data0006.tmp\n",
      "ForkPoolWorker-2: Wrote 1000 images to /mnt/madlib_9IyBGdIay4/imagenet_train_data0006.tmp\n",
      "ForkPoolWorker-4: Loaded 1000 images into imagenet_train_data\n",
      "ForkPoolWorker-3: Wrote 1000 images to /mnt/madlib_OlVzBf3iW6/imagenet_train_data0006.tmp\n",
      "ForkPoolWorker-8: Wrote 1000 images to /mnt/madlib_X4jqceiKoH/imagenet_train_data0006.tmp\n",
      "ForkPoolWorker-1: Loaded 1000 images into imagenet_train_data\n",
      "ForkPoolWorker-2: Loaded 1000 images into imagenet_train_data\n",
      "ForkPoolWorker-7: Wrote 1000 images to /mnt/madlib_hMMK4xxgWY/imagenet_train_data0006.tmp\n",
      "ForkPoolWorker-6: Wrote 1000 images to /mnt/madlib_wXxk19evsi/imagenet_train_data0006.tmp\n",
      "ForkPoolWorker-3: Loaded 1000 images into imagenet_train_data\n",
      "ForkPoolWorker-8: Loaded 1000 images into imagenet_train_data\n",
      "ForkPoolWorker-5: Wrote 1000 images to /mnt/madlib_Ylkz0bYo4K/imagenet_train_data0006.tmp\n",
      "ForkPoolWorker-10: Wrote 1000 images to /mnt/madlib_ECsPZL00HW/imagenet_train_data0006.tmp\n",
      "ForkPoolWorker-9: Wrote 1000 images to /mnt/madlib_LQhu8diW0x/imagenet_train_data0006.tmp\n",
      "ForkPoolWorker-11: Wrote 1000 images to /mnt/madlib_aIiORdWyTR/imagenet_train_data0006.tmp\n",
      "ForkPoolWorker-7: Loaded 1000 images into imagenet_train_data\n",
      "ForkPoolWorker-6: Loaded 1000 images into imagenet_train_data\n",
      "ForkPoolWorker-10: Loaded 1000 images into imagenet_train_data\n",
      "ForkPoolWorker-5: Loaded 1000 images into imagenet_train_data\n",
      "ForkPoolWorker-11: Loaded 1000 images into imagenet_train_data\n",
      "ForkPoolWorker-12: Wrote 1000 images to /mnt/madlib_I5ev9PSdBP/imagenet_train_data0006.tmp\n",
      "ForkPoolWorker-9: Loaded 1000 images into imagenet_train_data\n",
      "ForkPoolWorker-16: Wrote 1000 images to /mnt/madlib_Bsku7rwohG/imagenet_train_data0006.tmp\n",
      "ForkPoolWorker-14: Wrote 1000 images to /mnt/madlib_EKSqYlPo9z/imagenet_train_data0006.tmp\n",
      "ForkPoolWorker-13: Wrote 1000 images to /mnt/madlib_UNywEhg8MV/imagenet_train_data0006.tmp\n",
      "ForkPoolWorker-12: Loaded 1000 images into imagenet_train_data\n",
      "ForkPoolWorker-16: Loaded 1000 images into imagenet_train_data\n",
      "ForkPoolWorker-14: Loaded 1000 images into imagenet_train_data\n",
      "ForkPoolWorker-13: Loaded 1000 images into imagenet_train_data\n",
      "ForkPoolWorker-15: Wrote 1000 images to /mnt/madlib_8wZRr1UYpf/imagenet_train_data0006.tmp\n",
      "ForkPoolWorker-15: Loaded 1000 images into imagenet_train_data\n",
      "ForkPoolWorker-4: Wrote 1000 images to /mnt/madlib_PMTaXqdso3/imagenet_train_data0007.tmp\n",
      "ForkPoolWorker-1: Wrote 1000 images to /mnt/madlib_1N7IcM8OpO/imagenet_train_data0007.tmp\n",
      "ForkPoolWorker-2: Wrote 1000 images to /mnt/madlib_9IyBGdIay4/imagenet_train_data0007.tmp\n",
      "ForkPoolWorker-8: Wrote 1000 images to /mnt/madlib_X4jqceiKoH/imagenet_train_data0007.tmp\n",
      "ForkPoolWorker-4: Loaded 1000 images into imagenet_train_data\n",
      "ForkPoolWorker-1: Loaded 1000 images into imagenet_train_data\n",
      "ForkPoolWorker-3: Wrote 1000 images to /mnt/madlib_OlVzBf3iW6/imagenet_train_data0007.tmp\n",
      "ForkPoolWorker-2: Loaded 1000 images into imagenet_train_data\n",
      "ForkPoolWorker-8: Loaded 1000 images into imagenet_train_data\n",
      "ForkPoolWorker-7: Wrote 1000 images to /mnt/madlib_hMMK4xxgWY/imagenet_train_data0007.tmp\n",
      "ForkPoolWorker-3: Loaded 1000 images into imagenet_train_data\n",
      "ForkPoolWorker-6: Wrote 1000 images to /mnt/madlib_wXxk19evsi/imagenet_train_data0007.tmp\n",
      "ForkPoolWorker-10: Wrote 1000 images to /mnt/madlib_ECsPZL00HW/imagenet_train_data0007.tmp\n",
      "ForkPoolWorker-11: Wrote 1000 images to /mnt/madlib_aIiORdWyTR/imagenet_train_data0007.tmp\n",
      "ForkPoolWorker-5: Wrote 1000 images to /mnt/madlib_Ylkz0bYo4K/imagenet_train_data0007.tmp\n",
      "ForkPoolWorker-9: Wrote 1000 images to /mnt/madlib_LQhu8diW0x/imagenet_train_data0007.tmp\n",
      "ForkPoolWorker-7: Loaded 1000 images into imagenet_train_data\n",
      "ForkPoolWorker-6: Loaded 1000 images into imagenet_train_data\n",
      "ForkPoolWorker-10: Loaded 1000 images into imagenet_train_data\n",
      "ForkPoolWorker-11: Loaded 1000 images into imagenet_train_data\n",
      "ForkPoolWorker-5: Loaded 1000 images into imagenet_train_data\n",
      "ForkPoolWorker-9: Loaded 1000 images into imagenet_train_data\n",
      "ForkPoolWorker-16: Wrote 1000 images to /mnt/madlib_Bsku7rwohG/imagenet_train_data0007.tmp\n",
      "ForkPoolWorker-12: Wrote 1000 images to /mnt/madlib_I5ev9PSdBP/imagenet_train_data0007.tmp\n",
      "ForkPoolWorker-14: Wrote 1000 images to /mnt/madlib_EKSqYlPo9z/imagenet_train_data0007.tmp\n",
      "ForkPoolWorker-16: Loaded 1000 images into imagenet_train_data\n",
      "ForkPoolWorker-12: Loaded 1000 images into imagenet_train_data\n",
      "ForkPoolWorker-14: Loaded 1000 images into imagenet_train_data\n",
      "ForkPoolWorker-13: Wrote 1000 images to /mnt/madlib_UNywEhg8MV/imagenet_train_data0007.tmp\n",
      "ForkPoolWorker-13: Loaded 1000 images into imagenet_train_data\n",
      "ForkPoolWorker-15: Wrote 1000 images to /mnt/madlib_8wZRr1UYpf/imagenet_train_data0007.tmp\n",
      "ForkPoolWorker-15: Loaded 1000 images into imagenet_train_data\n",
      "ForkPoolWorker-4: Wrote 1000 images to /mnt/madlib_PMTaXqdso3/imagenet_train_data0008.tmp\n",
      "ForkPoolWorker-1: Wrote 1000 images to /mnt/madlib_1N7IcM8OpO/imagenet_train_data0008.tmp\n",
      "ForkPoolWorker-2: Wrote 1000 images to /mnt/madlib_9IyBGdIay4/imagenet_train_data0008.tmp\n",
      "ForkPoolWorker-4: Loaded 1000 images into imagenet_train_data\n",
      "ForkPoolWorker-1: Loaded 1000 images into imagenet_train_data\n",
      "ForkPoolWorker-8: Wrote 1000 images to /mnt/madlib_X4jqceiKoH/imagenet_train_data0008.tmp\n",
      "ForkPoolWorker-2: Loaded 1000 images into imagenet_train_data\n",
      "ForkPoolWorker-3: Wrote 1000 images to /mnt/madlib_OlVzBf3iW6/imagenet_train_data0008.tmp\n",
      "ForkPoolWorker-7: Wrote 1000 images to /mnt/madlib_hMMK4xxgWY/imagenet_train_data0008.tmp\n",
      "ForkPoolWorker-8: Loaded 1000 images into imagenet_train_data\n",
      "ForkPoolWorker-3: Loaded 1000 images into imagenet_train_data\n",
      "ForkPoolWorker-11: Wrote 1000 images to /mnt/madlib_aIiORdWyTR/imagenet_train_data0008.tmp\n",
      "ForkPoolWorker-6: Wrote 1000 images to /mnt/madlib_wXxk19evsi/imagenet_train_data0008.tmp\n",
      "ForkPoolWorker-10: Wrote 1000 images to /mnt/madlib_ECsPZL00HW/imagenet_train_data0008.tmp\n",
      "ForkPoolWorker-5: Wrote 1000 images to /mnt/madlib_Ylkz0bYo4K/imagenet_train_data0008.tmp\n",
      "ForkPoolWorker-9: Wrote 1000 images to /mnt/madlib_LQhu8diW0x/imagenet_train_data0008.tmp\n",
      "ForkPoolWorker-7: Loaded 1000 images into imagenet_train_data\n",
      "ForkPoolWorker-16: Wrote 1000 images to /mnt/madlib_Bsku7rwohG/imagenet_train_data0008.tmp\n",
      "ForkPoolWorker-9: Loaded 1000 images into imagenet_train_data\n",
      "ForkPoolWorker-5: Loaded 1000 images into imagenet_train_data\n",
      "ForkPoolWorker-10: Loaded 1000 images into imagenet_train_data\n",
      "ForkPoolWorker-11: Loaded 1000 images into imagenet_train_data\n",
      "ForkPoolWorker-6: Loaded 1000 images into imagenet_train_data\n",
      "ForkPoolWorker-14: Wrote 1000 images to /mnt/madlib_EKSqYlPo9z/imagenet_train_data0008.tmp\n",
      "ForkPoolWorker-12: Wrote 1000 images to /mnt/madlib_I5ev9PSdBP/imagenet_train_data0008.tmp\n",
      "ForkPoolWorker-16: Loaded 1000 images into imagenet_train_data\n",
      "ForkPoolWorker-14: Loaded 1000 images into imagenet_train_data\n",
      "ForkPoolWorker-12: Loaded 1000 images into imagenet_train_data\n",
      "ForkPoolWorker-13: Wrote 1000 images to /mnt/madlib_UNywEhg8MV/imagenet_train_data0008.tmp\n",
      "ForkPoolWorker-13: Loaded 1000 images into imagenet_train_data\n",
      "ForkPoolWorker-15: Wrote 1000 images to /mnt/madlib_8wZRr1UYpf/imagenet_train_data0008.tmp\n",
      "ForkPoolWorker-15: Loaded 1000 images into imagenet_train_data\n"
     ]
    },
    {
     "name": "stdout",
     "output_type": "stream",
     "text": [
      "ForkPoolWorker-4: Wrote 1000 images to /mnt/madlib_PMTaXqdso3/imagenet_train_data0009.tmp\n",
      "ForkPoolWorker-1: Wrote 1000 images to /mnt/madlib_1N7IcM8OpO/imagenet_train_data0009.tmp\n",
      "ForkPoolWorker-2: Wrote 1000 images to /mnt/madlib_9IyBGdIay4/imagenet_train_data0009.tmp\n",
      "ForkPoolWorker-4: Loaded 1000 images into imagenet_train_data\n",
      "ForkPoolWorker-1: Loaded 1000 images into imagenet_train_data\n",
      "ForkPoolWorker-8: Wrote 1000 images to /mnt/madlib_X4jqceiKoH/imagenet_train_data0009.tmp\n",
      "ForkPoolWorker-2: Loaded 1000 images into imagenet_train_data\n",
      "ForkPoolWorker-3: Wrote 1000 images to /mnt/madlib_OlVzBf3iW6/imagenet_train_data0009.tmp\n",
      "ForkPoolWorker-7: Wrote 1000 images to /mnt/madlib_hMMK4xxgWY/imagenet_train_data0009.tmp\n",
      "ForkPoolWorker-8: Loaded 1000 images into imagenet_train_data\n",
      "ForkPoolWorker-3: Loaded 1000 images into imagenet_train_data\n",
      "ForkPoolWorker-7: Loaded 1000 images into imagenet_train_data\n",
      "ForkPoolWorker-7: Wrote 146 images to /mnt/madlib_hMMK4xxgWY/imagenet_train_data0010.tmp\n",
      "ForkPoolWorker-7: Loaded 146 images into imagenet_train_data\n",
      "ForkPoolWorker-4: Wrote 1000 images to /mnt/madlib_PMTaXqdso3/imagenet_train_data0010.tmp\n",
      "ForkPoolWorker-2: Wrote 1000 images to /mnt/madlib_9IyBGdIay4/imagenet_train_data0010.tmp\n",
      "ForkPoolWorker-1: Wrote 1000 images to /mnt/madlib_1N7IcM8OpO/imagenet_train_data0010.tmp\n",
      "ForkPoolWorker-4: Loaded 1000 images into imagenet_train_data\n",
      "ForkPoolWorker-8: Wrote 1000 images to /mnt/madlib_X4jqceiKoH/imagenet_train_data0010.tmp\n",
      "ForkPoolWorker-2: Loaded 1000 images into imagenet_train_data\n",
      "ForkPoolWorker-3: Wrote 1000 images to /mnt/madlib_OlVzBf3iW6/imagenet_train_data0010.tmp\n",
      "ForkPoolWorker-1: Loaded 1000 images into imagenet_train_data\n",
      "ForkPoolWorker-8: Loaded 1000 images into imagenet_train_data\n",
      "ForkPoolWorker-3: Loaded 1000 images into imagenet_train_data\n",
      "ForkPoolWorker-4: Wrote 1000 images to /mnt/madlib_PMTaXqdso3/imagenet_train_data0011.tmp\n",
      "ForkPoolWorker-2: Wrote 1000 images to /mnt/madlib_9IyBGdIay4/imagenet_train_data0011.tmp\n",
      "ForkPoolWorker-1: Wrote 1000 images to /mnt/madlib_1N7IcM8OpO/imagenet_train_data0011.tmp\n",
      "ForkPoolWorker-4: Loaded 1000 images into imagenet_train_data\n",
      "ForkPoolWorker-3: Wrote 1000 images to /mnt/madlib_OlVzBf3iW6/imagenet_train_data0011.tmp\n",
      "ForkPoolWorker-8: Wrote 1000 images to /mnt/madlib_X4jqceiKoH/imagenet_train_data0011.tmp\n",
      "ForkPoolWorker-2: Loaded 1000 images into imagenet_train_data\n",
      "ForkPoolWorker-1: Loaded 1000 images into imagenet_train_data\n",
      "ForkPoolWorker-3: Loaded 1000 images into imagenet_train_data\n",
      "ForkPoolWorker-8: Loaded 1000 images into imagenet_train_data\n",
      "Done!  Loaded 160146 images in 764.4377887248993s\n",
      "ForkPoolWorker-10: Removed temporary directory /mnt/madlib_ECsPZL00HW\n",
      "ForkPoolWorker-9: Removed temporary directory /mnt/madlib_LQhu8diW0x\n",
      "ForkPoolWorker-12: Removed temporary directory /mnt/madlib_I5ev9PSdBP\n",
      "ForkPoolWorker-13: Removed temporary directory /mnt/madlib_UNywEhg8MV\n",
      "ForkPoolWorker-5: Removed temporary directory /mnt/madlib_Ylkz0bYo4K\n",
      "ForkPoolWorker-6: Removed temporary directory /mnt/madlib_wXxk19evsi\n",
      "ForkPoolWorker-14: Removed temporary directory /mnt/madlib_EKSqYlPo9z\n",
      "ForkPoolWorker-11: Removed temporary directory /mnt/madlib_aIiORdWyTR\n",
      "ForkPoolWorker-16: Removed temporary directory /mnt/madlib_Bsku7rwohG\n",
      "ForkPoolWorker-15: Removed temporary directory /mnt/madlib_8wZRr1UYpf\n",
      "ForkPoolWorker-7: Removed temporary directory /mnt/madlib_hMMK4xxgWY\n",
      "ForkPoolWorker-3: Removed temporary directory /mnt/madlib_OlVzBf3iW6\n",
      "ForkPoolWorker-2: Removed temporary directory /mnt/madlib_9IyBGdIay4\n",
      "ForkPoolWorker-8: Removed temporary directory /mnt/madlib_X4jqceiKoH\n",
      "ForkPoolWorker-1: Removed temporary directory /mnt/madlib_1N7IcM8OpO\n",
      "ForkPoolWorker-4: Removed temporary directory /mnt/madlib_PMTaXqdso3\n",
      "16 workers terminated.\n"
     ]
    }
   ],
   "source": [
    "load_one(file_path, name)"
   ]
  },
  {
   "cell_type": "code",
   "execution_count": 19,
   "metadata": {
    "ExecuteTime": {
     "end_time": "2020-04-14T19:52:21.661412Z",
     "start_time": "2020-04-14T19:52:21.656719Z"
    }
   },
   "outputs": [],
   "source": [
    "h5f = h5py.File(file_path, 'r')\n",
    "\n",
    "np_images = np.asarray(h5f.get(\"images\"))\n",
    "\n",
    "np_labels = np.eye(1000)[np.asarray(h5f.get(\"labels\")).astype(int)]\n",
    "\n",
    "%sql DROP TABLE IF EXISTS imagenet_train_data;\n",
    "\n",
    "# Save images to temporary directories and load into database\n",
    "iloader.load_dataset_from_np(np_images, np_labels, 'imagenet_train_data', append=False)\n"
   ]
  },
  {
   "cell_type": "code",
   "execution_count": 8,
   "metadata": {
    "ExecuteTime": {
     "end_time": "2020-04-14T18:29:32.543581Z",
     "start_time": "2020-04-14T18:28:52.985390Z"
    }
   },
   "outputs": [
    {
     "name": "stdout",
     "output_type": "stream",
     "text": [
      " * postgresql://gpadmin@localhost:5432/cerebro\n",
      "Done.\n",
      "MainProcess: Connected to cerebro db.\n",
      "Executing: CREATE TABLE cifar_10_train_data (id SERIAL, x REAL[], y TEXT)\n",
      "CREATE TABLE\n",
      "Created table cifar_10_train_data in cerebro db\n",
      "Spawning 5 workers...\n",
      "Initializing ForkPoolWorker-1 [pid 120269]\n",
      "ForkPoolWorker-1: Created temporary directory /tmp/madlib_UtkeUeMcVk\n",
      "ForkPoolWorker-1: Connected to cerebro db.\n",
      "Initializing ForkPoolWorker-2 [pid 120272]\n",
      "ForkPoolWorker-2: Created temporary directory /tmp/madlib_uYyMLvKdBQ\n",
      "Initializing ForkPoolWorker-3 [pid 120279]\n",
      "ForkPoolWorker-3: Created temporary directory /tmp/madlib_Tlt9UX62iO\n",
      "ForkPoolWorker-2: Connected to cerebro db.\n",
      "Initializing ForkPoolWorker-4 [pid 120287]\n",
      "ForkPoolWorker-4: Created temporary directory /tmp/madlib_DeZY5yzuYF\n",
      "ForkPoolWorker-3: Connected to cerebro db.\n",
      "Initializing ForkPoolWorker-5 [pid 120296]\n",
      "ForkPoolWorker-5: Connected to cerebro db.\n",
      "ForkPoolWorker-5: Created temporary directory /tmp/madlib_vnvXp1dXE0\n",
      "ForkPoolWorker-4: Connected to cerebro db.\n",
      "ForkPoolWorker-1: Wrote 1000 images to /tmp/madlib_UtkeUeMcVk/cifar_10_train_data0000.tmp\n",
      "ForkPoolWorker-2: Wrote 1000 images to /tmp/madlib_uYyMLvKdBQ/cifar_10_train_data0000.tmp\n",
      "ForkPoolWorker-3: Wrote 1000 images to /tmp/madlib_Tlt9UX62iO/cifar_10_train_data0000.tmp\n",
      "ForkPoolWorker-4: Wrote 1000 images to /tmp/madlib_DeZY5yzuYF/cifar_10_train_data0000.tmp\n",
      "ForkPoolWorker-5: Wrote 1000 images to /tmp/madlib_vnvXp1dXE0/cifar_10_train_data0000.tmp\n",
      "ForkPoolWorker-1: Loaded 1000 images into cifar_10_train_data\n",
      "ForkPoolWorker-2: Loaded 1000 images into cifar_10_train_data\n",
      "ForkPoolWorker-3: Loaded 1000 images into cifar_10_train_data\n",
      "ForkPoolWorker-4: Loaded 1000 images into cifar_10_train_data\n",
      "ForkPoolWorker-5: Loaded 1000 images into cifar_10_train_data\n",
      "ForkPoolWorker-1: Wrote 1000 images to /tmp/madlib_UtkeUeMcVk/cifar_10_train_data0001.tmp\n",
      "ForkPoolWorker-2: Wrote 1000 images to /tmp/madlib_uYyMLvKdBQ/cifar_10_train_data0001.tmp\n",
      "ForkPoolWorker-3: Wrote 1000 images to /tmp/madlib_Tlt9UX62iO/cifar_10_train_data0001.tmp\n",
      "ForkPoolWorker-4: Wrote 1000 images to /tmp/madlib_DeZY5yzuYF/cifar_10_train_data0001.tmp\n",
      "ForkPoolWorker-5: Wrote 1000 images to /tmp/madlib_vnvXp1dXE0/cifar_10_train_data0001.tmp\n",
      "ForkPoolWorker-1: Loaded 1000 images into cifar_10_train_data\n",
      "ForkPoolWorker-2: Loaded 1000 images into cifar_10_train_data\n",
      "ForkPoolWorker-3: Loaded 1000 images into cifar_10_train_data\n",
      "ForkPoolWorker-4: Loaded 1000 images into cifar_10_train_data\n",
      "ForkPoolWorker-5: Loaded 1000 images into cifar_10_train_data\n",
      "ForkPoolWorker-1: Wrote 1000 images to /tmp/madlib_UtkeUeMcVk/cifar_10_train_data0002.tmp\n",
      "ForkPoolWorker-2: Wrote 1000 images to /tmp/madlib_uYyMLvKdBQ/cifar_10_train_data0002.tmp\n",
      "ForkPoolWorker-3: Wrote 1000 images to /tmp/madlib_Tlt9UX62iO/cifar_10_train_data0002.tmp\n",
      "ForkPoolWorker-4: Wrote 1000 images to /tmp/madlib_DeZY5yzuYF/cifar_10_train_data0002.tmp\n",
      "ForkPoolWorker-5: Wrote 1000 images to /tmp/madlib_vnvXp1dXE0/cifar_10_train_data0002.tmp\n",
      "ForkPoolWorker-1: Loaded 1000 images into cifar_10_train_data\n",
      "ForkPoolWorker-2: Loaded 1000 images into cifar_10_train_data\n",
      "ForkPoolWorker-3: Loaded 1000 images into cifar_10_train_data\n",
      "ForkPoolWorker-4: Loaded 1000 images into cifar_10_train_data\n",
      "ForkPoolWorker-5: Loaded 1000 images into cifar_10_train_data\n",
      "ForkPoolWorker-1: Wrote 1000 images to /tmp/madlib_UtkeUeMcVk/cifar_10_train_data0003.tmp\n",
      "ForkPoolWorker-2: Wrote 1000 images to /tmp/madlib_uYyMLvKdBQ/cifar_10_train_data0003.tmp\n",
      "ForkPoolWorker-3: Wrote 1000 images to /tmp/madlib_Tlt9UX62iO/cifar_10_train_data0003.tmp\n",
      "ForkPoolWorker-4: Wrote 1000 images to /tmp/madlib_DeZY5yzuYF/cifar_10_train_data0003.tmp\n",
      "ForkPoolWorker-5: Wrote 1000 images to /tmp/madlib_vnvXp1dXE0/cifar_10_train_data0003.tmp\n",
      "ForkPoolWorker-1: Loaded 1000 images into cifar_10_train_data\n",
      "ForkPoolWorker-2: Loaded 1000 images into cifar_10_train_data\n",
      "ForkPoolWorker-3: Loaded 1000 images into cifar_10_train_data\n",
      "ForkPoolWorker-4: Loaded 1000 images into cifar_10_train_data\n",
      "ForkPoolWorker-5: Loaded 1000 images into cifar_10_train_data\n",
      "ForkPoolWorker-1: Wrote 1000 images to /tmp/madlib_UtkeUeMcVk/cifar_10_train_data0004.tmp\n",
      "ForkPoolWorker-2: Wrote 1000 images to /tmp/madlib_uYyMLvKdBQ/cifar_10_train_data0004.tmp\n",
      "ForkPoolWorker-3: Wrote 1000 images to /tmp/madlib_Tlt9UX62iO/cifar_10_train_data0004.tmp\n",
      "ForkPoolWorker-4: Wrote 1000 images to /tmp/madlib_DeZY5yzuYF/cifar_10_train_data0004.tmp\n",
      "ForkPoolWorker-5: Wrote 1000 images to /tmp/madlib_vnvXp1dXE0/cifar_10_train_data0004.tmp\n",
      "ForkPoolWorker-1: Loaded 1000 images into cifar_10_train_data\n",
      "ForkPoolWorker-2: Loaded 1000 images into cifar_10_train_data\n",
      "ForkPoolWorker-3: Loaded 1000 images into cifar_10_train_data\n",
      "ForkPoolWorker-4: Loaded 1000 images into cifar_10_train_data\n",
      "ForkPoolWorker-5: Loaded 1000 images into cifar_10_train_data\n",
      "ForkPoolWorker-1: Wrote 1000 images to /tmp/madlib_UtkeUeMcVk/cifar_10_train_data0005.tmp\n",
      "ForkPoolWorker-2: Wrote 1000 images to /tmp/madlib_uYyMLvKdBQ/cifar_10_train_data0005.tmp\n",
      "ForkPoolWorker-3: Wrote 1000 images to /tmp/madlib_Tlt9UX62iO/cifar_10_train_data0005.tmp\n",
      "ForkPoolWorker-4: Wrote 1000 images to /tmp/madlib_DeZY5yzuYF/cifar_10_train_data0005.tmp\n",
      "ForkPoolWorker-5: Wrote 1000 images to /tmp/madlib_vnvXp1dXE0/cifar_10_train_data0005.tmp\n",
      "ForkPoolWorker-1: Loaded 1000 images into cifar_10_train_data\n",
      "ForkPoolWorker-2: Loaded 1000 images into cifar_10_train_data\n",
      "ForkPoolWorker-3: Loaded 1000 images into cifar_10_train_data\n",
      "ForkPoolWorker-4: Loaded 1000 images into cifar_10_train_data\n",
      "ForkPoolWorker-5: Loaded 1000 images into cifar_10_train_data\n",
      "ForkPoolWorker-1: Wrote 1000 images to /tmp/madlib_UtkeUeMcVk/cifar_10_train_data0006.tmp\n",
      "ForkPoolWorker-2: Wrote 1000 images to /tmp/madlib_uYyMLvKdBQ/cifar_10_train_data0006.tmp\n",
      "ForkPoolWorker-3: Wrote 1000 images to /tmp/madlib_Tlt9UX62iO/cifar_10_train_data0006.tmp\n",
      "ForkPoolWorker-4: Wrote 1000 images to /tmp/madlib_DeZY5yzuYF/cifar_10_train_data0006.tmp\n",
      "ForkPoolWorker-5: Wrote 1000 images to /tmp/madlib_vnvXp1dXE0/cifar_10_train_data0006.tmp\n",
      "ForkPoolWorker-1: Loaded 1000 images into cifar_10_train_data\n",
      "ForkPoolWorker-2: Loaded 1000 images into cifar_10_train_data\n",
      "ForkPoolWorker-3: Loaded 1000 images into cifar_10_train_data\n",
      "ForkPoolWorker-4: Loaded 1000 images into cifar_10_train_data\n",
      "ForkPoolWorker-5: Loaded 1000 images into cifar_10_train_data\n",
      "ForkPoolWorker-1: Wrote 1000 images to /tmp/madlib_UtkeUeMcVk/cifar_10_train_data0007.tmp\n",
      "ForkPoolWorker-2: Wrote 1000 images to /tmp/madlib_uYyMLvKdBQ/cifar_10_train_data0007.tmp\n",
      "ForkPoolWorker-3: Wrote 1000 images to /tmp/madlib_Tlt9UX62iO/cifar_10_train_data0007.tmp\n",
      "ForkPoolWorker-4: Wrote 1000 images to /tmp/madlib_DeZY5yzuYF/cifar_10_train_data0007.tmp\n",
      "ForkPoolWorker-5: Wrote 1000 images to /tmp/madlib_vnvXp1dXE0/cifar_10_train_data0007.tmp\n",
      "ForkPoolWorker-1: Loaded 1000 images into cifar_10_train_data\n",
      "ForkPoolWorker-2: Loaded 1000 images into cifar_10_train_data\n",
      "ForkPoolWorker-3: Loaded 1000 images into cifar_10_train_data\n",
      "ForkPoolWorker-4: Loaded 1000 images into cifar_10_train_data\n",
      "ForkPoolWorker-5: Loaded 1000 images into cifar_10_train_data\n",
      "ForkPoolWorker-1: Wrote 1000 images to /tmp/madlib_UtkeUeMcVk/cifar_10_train_data0008.tmp\n",
      "ForkPoolWorker-2: Wrote 1000 images to /tmp/madlib_uYyMLvKdBQ/cifar_10_train_data0008.tmp\n",
      "ForkPoolWorker-3: Wrote 1000 images to /tmp/madlib_Tlt9UX62iO/cifar_10_train_data0008.tmp\n",
      "ForkPoolWorker-4: Wrote 1000 images to /tmp/madlib_DeZY5yzuYF/cifar_10_train_data0008.tmp\n",
      "ForkPoolWorker-5: Wrote 1000 images to /tmp/madlib_vnvXp1dXE0/cifar_10_train_data0008.tmp\n",
      "ForkPoolWorker-1: Loaded 1000 images into cifar_10_train_data\n",
      "ForkPoolWorker-2: Loaded 1000 images into cifar_10_train_data\n",
      "ForkPoolWorker-3: Loaded 1000 images into cifar_10_train_data\n",
      "ForkPoolWorker-4: Loaded 1000 images into cifar_10_train_data\n",
      "ForkPoolWorker-5: Loaded 1000 images into cifar_10_train_data\n",
      "ForkPoolWorker-1: Wrote 1000 images to /tmp/madlib_UtkeUeMcVk/cifar_10_train_data0009.tmp\n",
      "ForkPoolWorker-2: Wrote 1000 images to /tmp/madlib_uYyMLvKdBQ/cifar_10_train_data0009.tmp\n",
      "ForkPoolWorker-1: Loaded 1000 images into cifar_10_train_data\n",
      "ForkPoolWorker-2: Loaded 1000 images into cifar_10_train_data\n",
      "ForkPoolWorker-1: Wrote 1000 images to /tmp/madlib_UtkeUeMcVk/cifar_10_train_data0010.tmp\n"
     ]
    },
    {
     "name": "stdout",
     "output_type": "stream",
     "text": [
      "ForkPoolWorker-2: Wrote 1000 images to /tmp/madlib_uYyMLvKdBQ/cifar_10_train_data0010.tmp\n",
      "ForkPoolWorker-1: Loaded 1000 images into cifar_10_train_data\n",
      "ForkPoolWorker-2: Loaded 1000 images into cifar_10_train_data\n",
      "ForkPoolWorker-1: Wrote 1000 images to /tmp/madlib_UtkeUeMcVk/cifar_10_train_data0011.tmp\n",
      "ForkPoolWorker-1: Loaded 1000 images into cifar_10_train_data\n",
      "ForkPoolWorker-3: Removed temporary directory /tmp/madlib_Tlt9UX62iO\n",
      "ForkPoolWorker-5: Removed temporary directory /tmp/madlib_vnvXp1dXE0\n",
      "ForkPoolWorker-4: Removed temporary directory /tmp/madlib_DeZY5yzuYF\n",
      "ForkPoolWorker-2: Removed temporary directory /tmp/madlib_uYyMLvKdBQ\n",
      "ForkPoolWorker-1: Removed temporary directory /tmp/madlib_UtkeUeMcVk\n",
      "Done!  Loaded 50000 images in 33.17561364173889s\n",
      "5 workers terminated.\n",
      "MainProcess: Connected to cerebro db.\n",
      "Executing: CREATE TABLE cifar_10_test_data (id SERIAL, x REAL[], y TEXT)\n",
      "CREATE TABLE\n",
      "Created table cifar_10_test_data in cerebro db\n",
      "Spawning 5 workers...\n",
      "Initializing ForkPoolWorker-6 [pid 120531]\n",
      "ForkPoolWorker-6: Created temporary directory /tmp/madlib_CCxh6J0YZZ\n",
      "ForkPoolWorker-6: Connected to cerebro db.\n",
      "Initializing ForkPoolWorker-7 [pid 120534]\n",
      "ForkPoolWorker-7: Created temporary directory /tmp/madlib_83TogIOsVw\n",
      "Initializing ForkPoolWorker-8 [pid 120541]\n",
      "ForkPoolWorker-7: Connected to cerebro db.\n",
      "ForkPoolWorker-8: Created temporary directory /tmp/madlib_4mrJ0vlnjL\n",
      "Initializing ForkPoolWorker-9 [pid 120550]\n",
      "ForkPoolWorker-8: Connected to cerebro db.\n",
      "ForkPoolWorker-9: Created temporary directory /tmp/madlib_0VDholMVyt\n",
      "Initializing ForkPoolWorker-10 [pid 120559]\n",
      "ForkPoolWorker-10: Created temporary directory /tmp/madlib_tRxpygZQ6n\n",
      "ForkPoolWorker-9: Connected to cerebro db.\n",
      "ForkPoolWorker-10: Connected to cerebro db.\n",
      "ForkPoolWorker-6: Wrote 1000 images to /tmp/madlib_CCxh6J0YZZ/cifar_10_test_data0000.tmp\n",
      "ForkPoolWorker-7: Wrote 1000 images to /tmp/madlib_83TogIOsVw/cifar_10_test_data0000.tmp\n",
      "ForkPoolWorker-8: Wrote 1000 images to /tmp/madlib_4mrJ0vlnjL/cifar_10_test_data0000.tmp\n",
      "ForkPoolWorker-9: Wrote 1000 images to /tmp/madlib_0VDholMVyt/cifar_10_test_data0000.tmp\n",
      "ForkPoolWorker-10: Wrote 1000 images to /tmp/madlib_tRxpygZQ6n/cifar_10_test_data0000.tmp\n",
      "ForkPoolWorker-6: Loaded 1000 images into cifar_10_test_data\n",
      "ForkPoolWorker-7: Loaded 1000 images into cifar_10_test_data\n",
      "ForkPoolWorker-8: Loaded 1000 images into cifar_10_test_data\n",
      "ForkPoolWorker-9: Loaded 1000 images into cifar_10_test_data\n",
      "ForkPoolWorker-10: Loaded 1000 images into cifar_10_test_data\n",
      "ForkPoolWorker-6: Wrote 1000 images to /tmp/madlib_CCxh6J0YZZ/cifar_10_test_data0001.tmp\n",
      "ForkPoolWorker-7: Wrote 1000 images to /tmp/madlib_83TogIOsVw/cifar_10_test_data0001.tmp\n",
      "ForkPoolWorker-8: Wrote 1000 images to /tmp/madlib_4mrJ0vlnjL/cifar_10_test_data0001.tmp\n",
      "ForkPoolWorker-10: Wrote 1000 images to /tmp/madlib_tRxpygZQ6n/cifar_10_test_data0001.tmp\n",
      "ForkPoolWorker-9: Wrote 1000 images to /tmp/madlib_0VDholMVyt/cifar_10_test_data0001.tmp\n",
      "ForkPoolWorker-6: Loaded 1000 images into cifar_10_test_data\n",
      "ForkPoolWorker-7: Loaded 1000 images into cifar_10_test_data\n",
      "ForkPoolWorker-8: Loaded 1000 images into cifar_10_test_data\n",
      "ForkPoolWorker-10: Loaded 1000 images into cifar_10_test_data\n",
      "ForkPoolWorker-9: Loaded 1000 images into cifar_10_test_data\n",
      "ForkPoolWorker-6: Removed temporary directory /tmp/madlib_CCxh6J0YZZ\n",
      "ForkPoolWorker-9: Removed temporary directory /tmp/madlib_0VDholMVyt\n",
      "ForkPoolWorker-8: Removed temporary directory /tmp/madlib_4mrJ0vlnjL\n",
      "ForkPoolWorker-7: Removed temporary directory /tmp/madlib_83TogIOsVw\n",
      "ForkPoolWorker-10: Removed temporary directory /tmp/madlib_tRxpygZQ6n\n",
      "Done!  Loaded 10000 images in 6.120592355728149s\n",
      "5 workers terminated.\n"
     ]
    }
   ],
   "source": [
    "(x_train, y_train), (x_test, y_test) = cifar10.load_data()\n",
    "%sql DROP TABLE IF EXISTS cifar_10_train_data, cifar_10_test_data;\n",
    "\n",
    "# Save images to temporary directories and load into database\n",
    "iloader.load_dataset_from_np(x_train, y_train, 'cifar_10_train_data', append=False)\n",
    "iloader.load_dataset_from_np(x_test, y_test, 'cifar_10_test_data', append=False)"
   ]
  },
  {
   "cell_type": "code",
   "execution_count": 9,
   "metadata": {
    "ExecuteTime": {
     "end_time": "2020-04-14T18:29:32.717361Z",
     "start_time": "2020-04-14T18:29:32.565643Z"
    }
   },
   "outputs": [
    {
     "name": "stdout",
     "output_type": "stream",
     "text": [
      " * postgresql://gpadmin@localhost:5432/cerebro\n",
      "1 rows affected.\n"
     ]
    },
    {
     "data": {
      "text/html": [
       "<table>\n",
       "    <tr>\n",
       "        <th>count</th>\n",
       "    </tr>\n",
       "    <tr>\n",
       "        <td>50000</td>\n",
       "    </tr>\n",
       "</table>"
      ],
      "text/plain": [
       "[(50000,)]"
      ]
     },
     "execution_count": 9,
     "metadata": {},
     "output_type": "execute_result"
    }
   ],
   "source": [
    "%%sql\n",
    "SELECT COUNT(*) FROM cifar_10_train_data;"
   ]
  },
  {
   "cell_type": "code",
   "execution_count": 13,
   "metadata": {},
   "outputs": [
    {
     "name": "stdout",
     "output_type": "stream",
     "text": [
      "1 rows affected.\n"
     ]
    },
    {
     "data": {
      "text/html": [
       "<table>\n",
       "    <tr>\n",
       "        <th>count</th>\n",
       "    </tr>\n",
       "    <tr>\n",
       "        <td>10000</td>\n",
       "    </tr>\n",
       "</table>"
      ],
      "text/plain": [
       "[(10000L,)]"
      ]
     },
     "execution_count": 13,
     "metadata": {},
     "output_type": "execute_result"
    }
   ],
   "source": [
    "%%sql\n",
    "SELECT COUNT(*) FROM cifar_10_test_data;"
   ]
  },
  {
   "cell_type": "markdown",
   "metadata": {},
   "source": [
    "<a id=\"file_system\"></a>\n",
    "# 3. Load from file system\n",
    "\n",
    "Uses the Python Imaging Library so supports multiple formats\n",
    "http://www.pythonware.com/products/pil/\n",
    "\n",
    "<em>load_dataset_from_disk(root_dir, table_name, num_labels='all', append=False)</em>\n",
    "\n",
    "- Calling this function  will look in <em>root_dir</em> on the local disk of wherever this is being run.  It will skip over any files in that directory, but will load images contained in each of its subdirectories.  The images should be organized by category/class, where the name of each subdirectory is the label for the images contained within it.\n",
    "\n",
    "\n",
    "- The <em>table_name</em> and <em>append</em> parameters are the same as above  The parameter <em>num_labels</em> is an optional parameter which can be used to restrict the number of labels (image classes) loaded, even if more are found in <em>root_dir</em>.  For example, for a large dataset you may have hundreds of labels, but only wish to use a subset of that containing a few dozen.\n",
    "\n",
    "For example, if we put the CIFAR-10 training data is in 10 subdirectories under directory <em>cifar10</em>, with one subdirectory for each class:"
   ]
  },
  {
   "cell_type": "code",
   "execution_count": 14,
   "metadata": {},
   "outputs": [
    {
     "name": "stdout",
     "output_type": "stream",
     "text": [
      "Done.\n",
      "MainProcess: Connected to madlib db.\n",
      "Executing: CREATE TABLE cifar_10_train_data_filesystem (id SERIAL, x REAL[], y TEXT,                        img_name TEXT)\n",
      "CREATE TABLE\n",
      "Created table cifar_10_train_data_filesystem in madlib db\n",
      ".DS_Store is not a directory, skipping\n",
      "number of labels = 10\n",
      "Found 10 image labels in /Users/fmcquillan/tmp/cifar10\n",
      "Spawning 5 workers...\n",
      "Initializing PoolWorker-11 [pid 82438]\n",
      "PoolWorker-11: Created temporary directory /tmp/madlib_aEC1lF2HqL\n",
      "Initializing PoolWorker-12 [pid 82439]\n",
      "PoolWorker-12: Created temporary directory /tmp/madlib_70qpwFzzqW\n",
      "Initializing PoolWorker-13 [pid 82440]\n",
      "PoolWorker-13: Created temporary directory /tmp/madlib_r2u4Zo5bPt\n",
      "PoolWorker-11: Connected to madlib db.\n",
      "Initializing PoolWorker-14 [pid 82441]\n",
      "PoolWorker-12: Connected to madlib db.\n",
      "PoolWorker-14: Created temporary directory /tmp/madlib_aTPESoNjVi\n",
      "Initializing PoolWorker-15 [pid 82443]\n",
      "PoolWorker-13: Connected to madlib db.\n",
      "PoolWorker-15: Created temporary directory /tmp/madlib_rhVwjLTbWI\n",
      "PoolWorker-14: Connected to madlib db.\n",
      "PoolWorker-15: Connected to madlib db.\n",
      "PoolWorker-13: Wrote 1000 images to /tmp/madlib_r2u4Zo5bPt/cifar_10_train_data_filesystem0000.tmp\n",
      "PoolWorker-14: Wrote 1000 images to /tmp/madlib_aTPESoNjVi/cifar_10_train_data_filesystem0000.tmp\n",
      "PoolWorker-12: Wrote 1000 images to /tmp/madlib_70qpwFzzqW/cifar_10_train_data_filesystem0000.tmp\n",
      "PoolWorker-11: Wrote 1000 images to /tmp/madlib_aEC1lF2HqL/cifar_10_train_data_filesystem0000.tmp\n",
      "PoolWorker-15: Wrote 1000 images to /tmp/madlib_rhVwjLTbWI/cifar_10_train_data_filesystem0000.tmp\n",
      "PoolWorker-13: Loaded 1000 images into cifar_10_train_data_filesystem\n",
      "PoolWorker-14: Loaded 1000 images into cifar_10_train_data_filesystem\n",
      "PoolWorker-11: Loaded 1000 images into cifar_10_train_data_filesystem\n",
      "PoolWorker-12: Loaded 1000 images into cifar_10_train_data_filesystem\n",
      "PoolWorker-15: Loaded 1000 images into cifar_10_train_data_filesystem\n",
      "PoolWorker-14: Wrote 1000 images to /tmp/madlib_aTPESoNjVi/cifar_10_train_data_filesystem0001.tmp\n",
      "PoolWorker-11: Wrote 1000 images to /tmp/madlib_aEC1lF2HqL/cifar_10_train_data_filesystem0001.tmp\n",
      "PoolWorker-13: Wrote 1000 images to /tmp/madlib_r2u4Zo5bPt/cifar_10_train_data_filesystem0001.tmp\n",
      "PoolWorker-15: Wrote 1000 images to /tmp/madlib_rhVwjLTbWI/cifar_10_train_data_filesystem0001.tmp\n",
      "PoolWorker-12: Wrote 1000 images to /tmp/madlib_70qpwFzzqW/cifar_10_train_data_filesystem0001.tmp\n",
      "PoolWorker-14: Loaded 1000 images into cifar_10_train_data_filesystem\n",
      "PoolWorker-11: Loaded 1000 images into cifar_10_train_data_filesystem\n",
      "PoolWorker-13: Loaded 1000 images into cifar_10_train_data_filesystem\n",
      "PoolWorker-15: Loaded 1000 images into cifar_10_train_data_filesystem\n",
      "PoolWorker-12: Loaded 1000 images into cifar_10_train_data_filesystem\n",
      "PoolWorker-14: Wrote 1000 images to /tmp/madlib_aTPESoNjVi/cifar_10_train_data_filesystem0002.tmp\n",
      "PoolWorker-15: Wrote 1000 images to /tmp/madlib_rhVwjLTbWI/cifar_10_train_data_filesystem0002.tmp\n",
      "PoolWorker-13: Wrote 1000 images to /tmp/madlib_r2u4Zo5bPt/cifar_10_train_data_filesystem0002.tmp\n",
      "PoolWorker-11: Wrote 1000 images to /tmp/madlib_aEC1lF2HqL/cifar_10_train_data_filesystem0002.tmp\n",
      "PoolWorker-12: Wrote 1000 images to /tmp/madlib_70qpwFzzqW/cifar_10_train_data_filesystem0002.tmp\n",
      "PoolWorker-14: Loaded 1000 images into cifar_10_train_data_filesystem\n",
      "PoolWorker-11: Loaded 1000 images into cifar_10_train_data_filesystem\n",
      "PoolWorker-15: Loaded 1000 images into cifar_10_train_data_filesystem\n",
      "PoolWorker-13: Loaded 1000 images into cifar_10_train_data_filesystem\n",
      "PoolWorker-12: Loaded 1000 images into cifar_10_train_data_filesystem\n",
      "PoolWorker-15: Wrote 1000 images to /tmp/madlib_rhVwjLTbWI/cifar_10_train_data_filesystem0003.tmp\n",
      "PoolWorker-14: Wrote 1000 images to /tmp/madlib_aTPESoNjVi/cifar_10_train_data_filesystem0003.tmp\n",
      "PoolWorker-13: Wrote 1000 images to /tmp/madlib_r2u4Zo5bPt/cifar_10_train_data_filesystem0003.tmp\n",
      "PoolWorker-12: Wrote 1000 images to /tmp/madlib_70qpwFzzqW/cifar_10_train_data_filesystem0003.tmp\n",
      "PoolWorker-11: Wrote 1000 images to /tmp/madlib_aEC1lF2HqL/cifar_10_train_data_filesystem0003.tmp\n",
      "PoolWorker-15: Loaded 1000 images into cifar_10_train_data_filesystem\n",
      "PoolWorker-14: Loaded 1000 images into cifar_10_train_data_filesystem\n",
      "PoolWorker-13: Loaded 1000 images into cifar_10_train_data_filesystem\n",
      "PoolWorker-11: Loaded 1000 images into cifar_10_train_data_filesystem\n",
      "PoolWorker-12: Loaded 1000 images into cifar_10_train_data_filesystem\n",
      "PoolWorker-15: Wrote 1000 images to /tmp/madlib_rhVwjLTbWI/cifar_10_train_data_filesystem0004.tmp\n",
      "PoolWorker-14: Wrote 1000 images to /tmp/madlib_aTPESoNjVi/cifar_10_train_data_filesystem0004.tmp\n",
      "PoolWorker-12: Wrote 1000 images to /tmp/madlib_70qpwFzzqW/cifar_10_train_data_filesystem0004.tmp\n",
      "PoolWorker-13: Wrote 1000 images to /tmp/madlib_r2u4Zo5bPt/cifar_10_train_data_filesystem0004.tmp\n",
      "PoolWorker-11: Wrote 1000 images to /tmp/madlib_aEC1lF2HqL/cifar_10_train_data_filesystem0004.tmp\n",
      "PoolWorker-14: Loaded 1000 images into cifar_10_train_data_filesystem\n",
      "PoolWorker-15: Loaded 1000 images into cifar_10_train_data_filesystem\n",
      "PoolWorker-12: Loaded 1000 images into cifar_10_train_data_filesystem\n",
      "PoolWorker-11: Loaded 1000 images into cifar_10_train_data_filesystem\n",
      "PoolWorker-13: Loaded 1000 images into cifar_10_train_data_filesystem\n",
      "PoolWorker-15: Wrote 1000 images to /tmp/madlib_rhVwjLTbWI/cifar_10_train_data_filesystem0005.tmp\n",
      "PoolWorker-14: Wrote 1000 images to /tmp/madlib_aTPESoNjVi/cifar_10_train_data_filesystem0005.tmp\n",
      "PoolWorker-12: Wrote 1000 images to /tmp/madlib_70qpwFzzqW/cifar_10_train_data_filesystem0005.tmp\n",
      "PoolWorker-11: Wrote 1000 images to /tmp/madlib_aEC1lF2HqL/cifar_10_train_data_filesystem0005.tmp\n",
      "PoolWorker-13: Wrote 1000 images to /tmp/madlib_r2u4Zo5bPt/cifar_10_train_data_filesystem0005.tmp\n",
      "PoolWorker-14: Loaded 1000 images into cifar_10_train_data_filesystem\n",
      "PoolWorker-15: Loaded 1000 images into cifar_10_train_data_filesystem\n",
      "PoolWorker-12: Loaded 1000 images into cifar_10_train_data_filesystem\n",
      "PoolWorker-13: Loaded 1000 images into cifar_10_train_data_filesystem\n",
      "PoolWorker-11: Loaded 1000 images into cifar_10_train_data_filesystem\n",
      "PoolWorker-15: Wrote 1000 images to /tmp/madlib_rhVwjLTbWI/cifar_10_train_data_filesystem0006.tmp\n",
      "PoolWorker-14: Wrote 1000 images to /tmp/madlib_aTPESoNjVi/cifar_10_train_data_filesystem0006.tmp\n",
      "PoolWorker-12: Wrote 1000 images to /tmp/madlib_70qpwFzzqW/cifar_10_train_data_filesystem0006.tmp\n",
      "PoolWorker-13: Wrote 1000 images to /tmp/madlib_r2u4Zo5bPt/cifar_10_train_data_filesystem0006.tmp\n",
      "PoolWorker-11: Wrote 1000 images to /tmp/madlib_aEC1lF2HqL/cifar_10_train_data_filesystem0006.tmp\n",
      "PoolWorker-15: Loaded 1000 images into cifar_10_train_data_filesystem\n",
      "PoolWorker-14: Loaded 1000 images into cifar_10_train_data_filesystem\n",
      "PoolWorker-12: Loaded 1000 images into cifar_10_train_data_filesystem\n",
      "PoolWorker-11: Loaded 1000 images into cifar_10_train_data_filesystem\n",
      "PoolWorker-13: Loaded 1000 images into cifar_10_train_data_filesystem\n",
      "PoolWorker-15: Wrote 1000 images to /tmp/madlib_rhVwjLTbWI/cifar_10_train_data_filesystem0007.tmp\n",
      "PoolWorker-14: Wrote 1000 images to /tmp/madlib_aTPESoNjVi/cifar_10_train_data_filesystem0007.tmp\n",
      "PoolWorker-12: Wrote 1000 images to /tmp/madlib_70qpwFzzqW/cifar_10_train_data_filesystem0007.tmp\n",
      "PoolWorker-13: Wrote 1000 images to /tmp/madlib_r2u4Zo5bPt/cifar_10_train_data_filesystem0007.tmp\n",
      "PoolWorker-11: Wrote 1000 images to /tmp/madlib_aEC1lF2HqL/cifar_10_train_data_filesystem0007.tmp\n",
      "PoolWorker-15: Loaded 1000 images into cifar_10_train_data_filesystem\n",
      "PoolWorker-14: Loaded 1000 images into cifar_10_train_data_filesystem\n",
      "PoolWorker-12: Loaded 1000 images into cifar_10_train_data_filesystem\n",
      "PoolWorker-13: Loaded 1000 images into cifar_10_train_data_filesystem\n",
      "PoolWorker-11: Loaded 1000 images into cifar_10_train_data_filesystem\n",
      "PoolWorker-14: Wrote 1000 images to /tmp/madlib_aTPESoNjVi/cifar_10_train_data_filesystem0008.tmp\n",
      "PoolWorker-15: Wrote 1000 images to /tmp/madlib_rhVwjLTbWI/cifar_10_train_data_filesystem0008.tmp\n",
      "PoolWorker-12: Wrote 1000 images to /tmp/madlib_70qpwFzzqW/cifar_10_train_data_filesystem0008.tmp\n",
      "PoolWorker-13: Wrote 1000 images to /tmp/madlib_r2u4Zo5bPt/cifar_10_train_data_filesystem0008.tmp\n"
     ]
    },
    {
     "name": "stdout",
     "output_type": "stream",
     "text": [
      "PoolWorker-11: Wrote 1000 images to /tmp/madlib_aEC1lF2HqL/cifar_10_train_data_filesystem0008.tmp\n",
      "PoolWorker-14: Loaded 1000 images into cifar_10_train_data_filesystem\n",
      "PoolWorker-15: Loaded 1000 images into cifar_10_train_data_filesystem\n",
      "PoolWorker-12: Loaded 1000 images into cifar_10_train_data_filesystem\n",
      "PoolWorker-13: Loaded 1000 images into cifar_10_train_data_filesystem\n",
      "PoolWorker-11: Loaded 1000 images into cifar_10_train_data_filesystem\n",
      "PoolWorker-14: Wrote 1000 images to /tmp/madlib_aTPESoNjVi/cifar_10_train_data_filesystem0009.tmp\n",
      "PoolWorker-15: Wrote 1000 images to /tmp/madlib_rhVwjLTbWI/cifar_10_train_data_filesystem0009.tmp\n",
      "PoolWorker-12: Wrote 1000 images to /tmp/madlib_70qpwFzzqW/cifar_10_train_data_filesystem0009.tmp\n",
      "PoolWorker-13: Wrote 1000 images to /tmp/madlib_r2u4Zo5bPt/cifar_10_train_data_filesystem0009.tmp\n",
      "PoolWorker-11: Wrote 1000 images to /tmp/madlib_aEC1lF2HqL/cifar_10_train_data_filesystem0009.tmp\n",
      "PoolWorker-14: Loaded 1000 images into cifar_10_train_data_filesystem\n",
      "PoolWorker-12: Loaded 1000 images into cifar_10_train_data_filesystem\n",
      "PoolWorker-15: Loaded 1000 images into cifar_10_train_data_filesystem\n",
      "PoolWorker-13: Loaded 1000 images into cifar_10_train_data_filesystem\n",
      "PoolWorker-11: Loaded 1000 images into cifar_10_train_data_filesystem\n",
      "PoolWorker-12: Removed temporary directory /tmp/madlib_70qpwFzzqW\n",
      "PoolWorker-13: Removed temporary directory /tmp/madlib_r2u4Zo5bPt\n",
      "PoolWorker-15: Removed temporary directory /tmp/madlib_rhVwjLTbWI\n",
      "PoolWorker-11: Removed temporary directory /tmp/madlib_aEC1lF2HqL\n",
      "PoolWorker-14: Removed temporary directory /tmp/madlib_aTPESoNjVi\n",
      "Done!  Loaded 10 image categories in 27.9927430153s\n",
      "5 workers terminated.\n"
     ]
    }
   ],
   "source": [
    "%sql drop table if exists cifar_10_train_data_filesystem;\n",
    "# Load images from file system\n",
    "iloader.load_dataset_from_disk('/Users/fmcquillan/tmp/cifar10', 'cifar_10_train_data_filesystem', num_labels='all', append=False)"
   ]
  },
  {
   "cell_type": "code",
   "execution_count": 15,
   "metadata": {},
   "outputs": [
    {
     "name": "stdout",
     "output_type": "stream",
     "text": [
      "1 rows affected.\n"
     ]
    },
    {
     "data": {
      "text/html": [
       "<table>\n",
       "    <tr>\n",
       "        <th>count</th>\n",
       "    </tr>\n",
       "    <tr>\n",
       "        <td>50000</td>\n",
       "    </tr>\n",
       "</table>"
      ],
      "text/plain": [
       "[(50000L,)]"
      ]
     },
     "execution_count": 15,
     "metadata": {},
     "output_type": "execute_result"
    }
   ],
   "source": [
    "%%sql\n",
    "SELECT COUNT(*) FROM cifar_10_train_data_filesystem;"
   ]
  }
 ],
 "metadata": {
  "kernelspec": {
   "display_name": "Python 3",
   "language": "python",
   "name": "python3"
  },
  "language_info": {
   "codemirror_mode": {
    "name": "ipython",
    "version": 3
   },
   "file_extension": ".py",
   "mimetype": "text/x-python",
   "name": "python",
   "nbconvert_exporter": "python",
   "pygments_lexer": "ipython3",
   "version": "3.5.2"
  }
 },
 "nbformat": 4,
 "nbformat_minor": 2
}
